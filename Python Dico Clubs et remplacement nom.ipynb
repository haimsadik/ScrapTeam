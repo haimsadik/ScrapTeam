{
 "cells": [
  {
   "cell_type": "code",
   "execution_count": 1,
   "metadata": {
    "collapsed": true
   },
   "outputs": [],
   "source": [
    "#On télecharge les packages dont on va avoir besoin\n",
    "import selenium #pip install selenium\n",
    "from selenium import webdriver\n",
    "from selenium.webdriver.common.keys import Keys\n",
    "from selenium.webdriver.common.by import By  \n",
    "import time\n",
    "#BeautifulSoup , Request et Pandas\n",
    "import urllib\n",
    "import bs4\n",
    "from urllib import request\n",
    "import pandas \n",
    "#pour les graphiques\n",
    "#%matplotlib inline\n",
    "import matplotlib.pyplot as plt\n",
    "import numpy as np\n",
    "import pandas as pd\n",
    "import collections\n",
    "import time\n",
    "from selenium.webdriver.support.ui import Select\n",
    "import csv"
   ]
  },
  {
   "cell_type": "code",
   "execution_count": 148,
   "metadata": {
    "collapsed": false
   },
   "outputs": [],
   "source": [
    "########## WHOSCORED ##########\n",
    "uu1=[]\n",
    "refwhoscored=['France 1415','Italie 1213']\n",
    "dico1=collections.defaultdict(list)\n",
    "dico2=collections.defaultdict(list)\n",
    "listerefdico=[]\n",
    "\n",
    "\n",
    "\n",
    "\n",
    "for refwhoscored1 in refwhoscored:\n",
    "    dff = pandas.read_excel('/Users/Martin/Documents/ENSAE/Scrape/Résultat scraping/WhoScored/'+str(refwhoscored1)+'.xls',header=None)\n",
    "    for ii in range(int(len(dff))):\n",
    "        uu=dff[0][ii]\n",
    "        uu=uu.split('--')[1]\n",
    "        uu1.append(uu)\n",
    "    dicowhoscored=list(set(uu1))\n",
    "    dicowhoscored=sorted(dicowhoscored)\n",
    "    for jj in range(int(len(dicowhoscored))):\n",
    "        name=str(refwhoscored1)+' '+str(dicowhoscored[jj])\n",
    "        listerefdico.append(name)\n",
    "        dico1[name].append(str(refwhoscored1))\n",
    "        dico1[name].append(dicowhoscored[jj])\n",
    "\n",
    "dd=dicowhoscored\n",
    "\n",
    "pathfut='/Users/Martin/Documents/ENSAE/Scrape/Résultat scraping/Pour remplacer/RemplacerWhoScored'\n",
    "dd = pd.DataFrame(np.array(dd).reshape(int(len(dd)),1))\n",
    "dd.to_csv(pathfut+'.csv')\n",
    "\n",
    "########## Calendrier ##########\n",
    "\n",
    "calendar=['Angleterre 13-14',\n",
    "'Angleterre 14-15',\n",
    "'Angleterre 15-16',\n",
    "'Angleterre 16-17',\n",
    "'Angleterre 17-18',\n",
    "'Espagne 13-14',\n",
    "'Espagne 14-15',\n",
    "'Espagne 15-16',\n",
    "'Espagne 16-17',\n",
    "'Espagne 17-18',\n",
    "'France 13-14',\n",
    "'France 14-15',\n",
    "'France 15-16',\n",
    "'France 16-17',\n",
    "'France 17-18',\n",
    "'Italie 13-14',\n",
    "'Italie 14-15',\n",
    "'Italie 15-16',\n",
    "'Italie 16-17',\n",
    "'Italie 17-18']\n",
    "\n",
    "aa=[]\n",
    "\n",
    "for calendar1 in calendar:\n",
    "    r = pandas.read_csv('/Users/Martin/Documents/ENSAE/Scrape/Résultat scraping/Résultats calendrier/'+str(calendar1)+'.csv')\n",
    "    r=r[r.columns[3]]\n",
    "\n",
    "\n",
    "\n",
    "    for i in range(int(len(r))):\n",
    "        if r[i]=='02:00:00':\n",
    "            print(calendar1)\n",
    "            print(i)\n",
    "        name=str(calendar)+' '+str(r[i])\n",
    "        #dico2[name].append(calendar1)\n",
    "        aa.append(r[i])\n",
    "\n",
    "bbb=aa\n",
    "bbb=list(set(bbb))\n",
    "r=sorted(bbb)\n",
    "dd=r\n",
    "pathfut='/Users/Martin/Documents/ENSAE/Scrape/Résultat scraping/Pour remplacer/RemplacerCalendrier'\n",
    "dd = pd.DataFrame(np.array(dd).reshape(int(len(dd)),1))\n",
    "dd.to_csv(pathfut+'.csv')\n",
    "\n",
    "\n",
    "\n",
    "########## Equipe FUT ##########\n",
    "dico3=collections.defaultdict(list)\n",
    "\n",
    "aa=pandas.read_csv('/Users/Martin/Documents/ENSAE/Scrape/Résultat scraping/ListeequipeFUT.csv',header=None)\n",
    "bbb=[]\n",
    "\n",
    "for i in range(int(len(aa))):\n",
    "    b=aa[0][i]\n",
    "    b=b.replace(' 13.csv','')\n",
    "    b=b.replace(' 14.csv','')\n",
    "    b=b.replace(' 15.csv','')\n",
    "    b=b.replace(' 16.csv','')\n",
    "    b=b.replace(' 17.csv','')\n",
    "    b=b.replace(' 18.csv','')\n",
    "    bbb.append(b)\n",
    "bbb=list(set(bbb))\n",
    "r=sorted(bbb)\n",
    "#    for i in range(int(len(r))):\n",
    "#        dico3[i].append(r[i])\n",
    "dd=r#pd.DataFrame.from_dict(dico3)\n",
    "\n",
    "\n",
    "pathfut='/Users/Martin/Documents/ENSAE/Scrape/Résultat scraping/Pour remplacer/RemplacerEquipeFUT'\n",
    "dd = pd.DataFrame(np.array(dd).reshape(int(len(dd)),1))\n",
    "dd.to_csv(pathfut+'.csv')\n",
    "\n",
    "########## Fatigue ##########\n",
    "\n",
    "dico4=collections.defaultdict(list)\n",
    "\n",
    "aa=pandas.read_csv('/Users/Martin/Documents/ENSAE/Scrape/Résultat scraping/ListeFatigue.csv',header=None)\n",
    "bbb=[]\n",
    "\n",
    "for i in range(int(len(aa))):\n",
    "    b=aa[0][i]\n",
    "    b=b.replace(' 2013.csv','')\n",
    "    b=b.replace(' 2014.csv','')\n",
    "    b=b.replace(' 2015.csv','')\n",
    "    b=b.replace(' 2016.csv','')\n",
    "    b=b.replace(' 2017.csv','')\n",
    "    b=b.replace(' 2018.csv','')\n",
    "    bbb.append(b)\n",
    "bbb=list(set(bbb))\n",
    "r=sorted(bbb)\n",
    "#    for i in range(int(len(r))):\n",
    "#        dico3[i].append(r[i])\n",
    "dd=r#pd.DataFrame.from_dict(dico3)\n",
    "\n",
    "\n",
    "pathfut='/Users/Martin/Documents/ENSAE/Scrape/Résultat scraping/Pour remplacer/RemplacerFatigue'\n",
    "dd = pd.DataFrame(np.array(dd).reshape(int(len(dd)),1))\n",
    "dd.to_csv(pathfut+'.csv')\n",
    "\n",
    "\n",
    "\n",
    "########## Classement ##########\n",
    "\n",
    "Classement=['Angleterre2013-2014',\n",
    "'Angleterre2014-2015',\n",
    "'Angleterre2015-2016',\n",
    "'Angleterre2016-2017',\n",
    "'Angleterre2017-2018',\n",
    "'Espagne2013-2014',\n",
    "'Espagne2014-2015',\n",
    "'Espagne2015-2016',\n",
    "'Espagne2016-2017',\n",
    "'Espagne2017-2018',\n",
    "'France2013-2014',\n",
    "'France2014-2015',\n",
    "'France2015-2016',\n",
    "'France2016-2017',\n",
    "'France2017-2018',\n",
    "'Italie2013-2014',\n",
    "'Italie2014-2015',\n",
    "'Italie2015-2016',\n",
    "'Italie2016-2017',\n",
    "'Italie2017-2018']\n",
    "\n",
    "cc=[]\n",
    "for classement1 in Classement:\n",
    "    a=pandas.read_csv('/Users/Martin/Documents/ENSAE/Scrape/Résultat scraping/classement/'+str(classement1)+'20Journée  Général.csv',header=None)\n",
    "    for ii in range(1,int(len(a))):\n",
    "        cc.append(a[2][ii])\n",
    "bbb=cc\n",
    "bbb=list(set(bbb))\n",
    "r=sorted(bbb)\n",
    "dd=r\n",
    "pathfut='/Users/Martin/Documents/ENSAE/Scrape/Résultat scraping/Pour remplacer/RemplacerClassement'\n",
    "dd = pd.DataFrame(np.array(dd).reshape(int(len(dd)),1))\n",
    "dd.to_csv(pathfut+'.csv')\n",
    "\n",
    "##########  ##########\n",
    "##########  ##########\n",
    "##########  ##########"
   ]
  },
  {
   "cell_type": "code",
   "execution_count": 133,
   "metadata": {
    "collapsed": false
   },
   "outputs": [
    {
     "name": "stdout",
     "output_type": "stream",
     "text": [
      "Verona \n"
     ]
    }
   ],
   "source": [
    "print(dico2[name][0])"
   ]
  },
  {
   "cell_type": "code",
   "execution_count": 123,
   "metadata": {
    "collapsed": false
   },
   "outputs": [
    {
     "name": "stdout",
     "output_type": "stream",
     "text": [
      "Ajaccio AC\n",
      "21\n"
     ]
    }
   ],
   "source": [
    "print(a[2][20])\n",
    "print(ii)"
   ]
  },
  {
   "cell_type": "code",
   "execution_count": 140,
   "metadata": {
    "collapsed": false
   },
   "outputs": [],
   "source": [
    "\n",
    "\n",
    "\n",
    "#dd=pd.DataFrame.from_dict(dico2)\n",
    "#pathfut='/Users/Martin/Documents/ENSAE/Scrape/Résultat scraping/Pour remplacer/RemplacerCalendrier'\n",
    "#dd=dd.transpose()\n",
    "#dd.to_csv(pathfut+'.csv')\n",
    "\n"
   ]
  },
  {
   "cell_type": "code",
   "execution_count": 146,
   "metadata": {
    "collapsed": false
   },
   "outputs": [
    {
     "name": "stdout",
     "output_type": "stream",
     "text": [
      "['AC Milan', 'Atalanta', 'Bologna', 'Bordeaux', 'Caen', 'Cagliari', 'Catania', 'Chievo', 'Evian', 'Evian Thonon Gaillard', 'Fiorentina', 'Genoa', 'Guingamp', 'Inter', 'Juventus', 'Lazio', 'Lens', 'Lille', 'Lorient', 'Lyon', 'Marseille', 'Metz', 'Monaco', 'Montpellier', 'Nantes', 'Napoli', 'Nice', 'PSG', 'Palermo', 'Paris Saint Germain', 'Parma', 'Pescara', 'Reims', 'Rennes', 'Robur Siena', 'Roma', 'SC Bastia', 'Saint-Etienne', 'Sampdoria', 'Sassuolo', 'Torino', 'Toulouse', 'Udinese']\n"
     ]
    }
   ],
   "source": [
    "print(dicowhoscored)"
   ]
  },
  {
   "cell_type": "code",
   "execution_count": null,
   "metadata": {
    "collapsed": true
   },
   "outputs": [],
   "source": []
  }
 ],
 "metadata": {
  "anaconda-cloud": {},
  "kernelspec": {
   "display_name": "Python [Root]",
   "language": "python",
   "name": "Python [Root]"
  },
  "language_info": {
   "codemirror_mode": {
    "name": "ipython",
    "version": 3
   },
   "file_extension": ".py",
   "mimetype": "text/x-python",
   "name": "python",
   "nbconvert_exporter": "python",
   "pygments_lexer": "ipython3",
   "version": "3.5.2"
  }
 },
 "nbformat": 4,
 "nbformat_minor": 0
}
