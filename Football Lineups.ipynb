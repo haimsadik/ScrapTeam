{
 "cells": [
  {
   "cell_type": "code",
   "execution_count": 170,
   "metadata": {
    "collapsed": false
   },
   "outputs": [],
   "source": [
    "#On télecharge les packages dont on va avoir besoin\n",
    "import selenium #pip install selenium\n",
    "from selenium import webdriver\n",
    "from selenium.webdriver.common.keys import Keys\n",
    "from selenium.webdriver.common.by import By  \n",
    "import time\n",
    "#BeautifulSoup , Request et Pandas\n",
    "import urllib\n",
    "import bs4\n",
    "from urllib import request\n",
    "import pandas \n",
    "#pour les graphiques\n",
    "%matplotlib inline\n",
    "import matplotlib.pyplot as plt\n",
    "import numpy as np\n",
    "import pandas as pd"
   ]
  },
  {
   "cell_type": "code",
   "execution_count": 171,
   "metadata": {
    "collapsed": false,
    "scrolled": false
   },
   "outputs": [
    {
     "name": "stdout",
     "output_type": "stream",
     "text": [
      "             0           1           2    3           4\n",
      "0    12-Aug-16   Matchday1      Bastia  0-1         PSG\n",
      "1    12-Aug-16   Matchday1      Monaco  2-2    Guingamp\n",
      "2    13-Aug-16   Matchday1    Bordeaux  3-2  St.Etienne\n",
      "3    13-Aug-16   Matchday1        Caen  3-2     Lorient\n",
      "4    13-Aug-16   Matchday1       Dijon  0-1      Nantes\n",
      "5    13-Aug-16   Matchday1        Metz  3-2       Lille\n",
      "6    13-Aug-16   Matchday1    Montpelr  1-0      Angers\n",
      "7    14-Aug-16   Matchday1       Nancy  0-3        Lyon\n",
      "8    14-Aug-16   Matchday1        Nice  1-0      Rennes\n",
      "9    14-Aug-16   Matchday1   Marseille  0-0    Toulouse\n",
      "10   19-Aug-16   Matchday2        Lyon  2-0        Caen\n",
      "11   20-Aug-16   Matchday2      Nantes  0-1      Monaco\n",
      "12   20-Aug-16   Matchday2      Angers  0-1        Nice\n",
      "13   20-Aug-16   Matchday2       Lille  1-0       Dijon\n",
      "14   20-Aug-16   Matchday2     Lorient  0-3      Bastia\n",
      "15   20-Aug-16   Matchday2      Rennes  2-0       Nancy\n",
      "16   20-Aug-16   Matchday2    Toulouse  4-1    Bordeaux\n",
      "17   21-Aug-16   Matchday2    Guingamp  2-1   Marseille\n",
      "18   21-Aug-16   Matchday2  St.Etienne  3-1    Montpelr\n",
      "19   21-Aug-16   Matchday2         PSG  3-0        Metz\n",
      "20   26-Aug-16   Matchday3   Marseille  2-0     Lorient\n",
      "21   27-Aug-16   Matchday3       Dijon  4-2        Lyon\n",
      "22   27-Aug-16   Matchday3        Caen  2-0      Bastia\n",
      "23   27-Aug-16   Matchday3        Metz  2-0      Angers\n",
      "24   27-Aug-16   Matchday3    Montpelr  1-1      Rennes\n",
      "25   27-Aug-16   Matchday3       Nancy  0-2    Guingamp\n",
      "26   27-Aug-16   Matchday3        Nice  1-1       Lille\n",
      "27   28-Aug-16   Matchday3    Bordeaux  1-0      Nantes\n",
      "28   28-Aug-16   Matchday3  St.Etienne  0-0    Toulouse\n",
      "29   28-Aug-16   Matchday3      Monaco  3-1         PSG\n",
      "..         ...         ...         ...  ...         ...\n",
      "350  06-May-17  Matchday36         PSG  5-0      Bastia\n",
      "351  06-May-17  Matchday36    Guingamp  4-0       Dijon\n",
      "352  06-May-17  Matchday36       Lille  0-2        Metz\n",
      "353  06-May-17  Matchday36     Lorient  1-1      Angers\n",
      "354  06-May-17  Matchday36       Nancy  0-3      Monaco\n",
      "355  06-May-17  Matchday36    Toulouse  0-1        Caen\n",
      "356  07-May-17  Matchday36      Rennes  1-0    Montpelr\n",
      "357  07-May-17  Matchday36        Lyon  3-2      Nantes\n",
      "358  07-May-17  Matchday36   Marseille  2-1        Nice\n",
      "359  14-May-17  Matchday37      Bastia  2-0     Lorient\n",
      "360  14-May-17  Matchday37    Bordeaux  1-1   Marseille\n",
      "361  14-May-17  Matchday37        Caen  0-1      Rennes\n",
      "362  14-May-17  Matchday37       Dijon  2-0       Nancy\n",
      "363  14-May-17  Matchday37        Metz  1-1    Toulouse\n",
      "364  14-May-17  Matchday37      Monaco  4-0       Lille\n",
      "365  14-May-17  Matchday37    Montpelr  1-3        Lyon\n",
      "366  14-May-17  Matchday37      Nantes  4-1    Guingamp\n",
      "367  14-May-17  Matchday37        Nice  0-2      Angers\n",
      "368  14-May-17  Matchday37  St.Etienne  0-5         PSG\n",
      "369  17-May-17  Matchday31      Monaco  2-0  St.Etienne\n",
      "370  20-May-17  Matchday38      Angers  2-0    Montpelr\n",
      "371  20-May-17  Matchday38    Guingamp  1-0        Metz\n",
      "372  20-May-17  Matchday38       Lille  3-0      Nantes\n",
      "373  20-May-17  Matchday38     Lorient  1-1    Bordeaux\n",
      "374  20-May-17  Matchday38        Lyon  3-3        Nice\n",
      "375  20-May-17  Matchday38   Marseille  1-0      Bastia\n",
      "376  20-May-17  Matchday38       Nancy  3-1  St.Etienne\n",
      "377  20-May-17  Matchday38         PSG  1-1        Caen\n",
      "378  20-May-17  Matchday38      Rennes  2-3      Monaco\n",
      "379  20-May-17  Matchday38    Toulouse  0-0       Dijon\n",
      "\n",
      "[380 rows x 5 columns]\n"
     ]
    }
   ],
   "source": [
    "from selenium import webdriver\n",
    "\n",
    "path_to_chromedriver = '/Users/Martin/Desktop/NSM/Paris/chromedriver' # change path as needed\n",
    "browser = webdriver.Chrome(executable_path = path_to_chromedriver)\n",
    "\n",
    "url = 'https://www.football-lineups.com/tourn/Ligue_1_2016-2017/fixture/'\n",
    "browser.get(url)\n",
    "browser.find_element_by_xpath('//*[@id=\"hstp_20862_interstitial_pub\"]').click()\n",
    "\n",
    "Nombredematchs=380\n",
    "tableau=[]\n",
    "for i in range(1,Nombredematchs+1):\n",
    "    a=browser.find_element_by_id('trfil'+str(i)).text\n",
    "    a=a.replace('\\n', ' ')\n",
    "    tableau.append(a)\n",
    "\n",
    "#on voit que tableau est une liste: on la splite ligne par ligne pour en faire le vrai tableau\n",
    "lon=len(tableau)\n",
    "Date=[]\n",
    "Journée=[]\n",
    "Equipe1=[]\n",
    "Score=[]\n",
    "Equipe2=[]\n",
    "\n",
    "for i in range(lon):\n",
    "    b=tableau[i].split()\n",
    "    Date.append(b[0])\n",
    "    if 'Matchday' in b:\n",
    "        day=b[2]+b[3]\n",
    "        Journée.append(day)\n",
    "        Equipe1.append(b[4])\n",
    "        Score.append(b[5])\n",
    "        Equipe2.append(b[6])\n",
    "    else:\n",
    "        Journée.append(day)\n",
    "        Equipe1.append(b[1])\n",
    "        Score.append(b[2])\n",
    "        Equipe2.append(b[3])\n",
    "\n",
    "percentile_list = pd.DataFrame([Date, Journée, Equipe1, Score, Equipe2])\n",
    "Datamatchs=percentile_list.transpose()\n",
    "\n",
    "\n",
    "print(Datamatchs)\n",
    "#Comment renommer les colonnes : a faire a la fin \n"
   ]
  },
  {
   "cell_type": "code",
   "execution_count": 174,
   "metadata": {
    "collapsed": false
   },
   "outputs": [
    {
     "name": "stdout",
     "output_type": "stream",
     "text": [
      "['16\\nLeca', '23\\nDjiku', '5\\nSquillaci', '17\\nPeybernes', '28\\nMarange', '18\\nCahuzac (c)', '14\\nMostefa', '25\\nCoulibaly', \"6\\nSain'in\", '2\\nDiallo', '27\\nCrivelli']\n"
     ]
    },
    {
     "data": {
      "text/plain": [
       "11"
      ]
     },
     "execution_count": 174,
     "metadata": {},
     "output_type": "execute_result"
    }
   ],
   "source": [
    "##LA COMPO\n",
    "#lon=len(tableau)\n",
    "\n",
    "\n",
    "iddupremiermatch=241906\n",
    "url = 'https://www.football-lineups.com/match/'+str(iddupremiermatch)+'/'\n",
    "browser.get(url)\n",
    "equipe=[]\n",
    "a='https://www.football-lineups.com/match/'+str(iddupremiermatch)+'/'\n",
    "for joueur in range(1,12):\n",
    "    idjoueur='g8m24190600j'+str(joueur)\n",
    "    a=browser.find_element_by_id(idjoueur).text\n",
    "    equipe.append(a)\n",
    "print(equipe)\n",
    "len(equipe)"
   ]
  },
  {
   "cell_type": "code",
   "execution_count": 48,
   "metadata": {
    "collapsed": false
   },
   "outputs": [
    {
     "name": "stdout",
     "output_type": "stream",
     "text": [
      "10\n",
      "9\n",
      "-\n"
     ]
    }
   ],
   "source": [
    "#Autres élémente du match\n",
    "\n",
    "print(browser.find_element_by_xpath('//*[@id=\"mainarea\"]/tbody/tr/td[1]/table[4]/tbody/tr/td[2]/table[2]/tbody/tr[1]/td/table[1]/tbody/tr[2]/td[1]').text)\n",
    "print(browser.find_element_by_xpath('//*[@id=\"mainarea\"]/tbody/tr/td[1]/table[4]/tbody/tr/td[2]/table[2]/tbody/tr[1]/td/table[1]/tbody/tr[2]/td[3]').text)\n",
    "print(browser.find_element_by_xpath('//*[@id=\"mainarea\"]/tbody/tr/td[1]/table[4]/tbody/tr/td[2]/table[2]/tbody/tr[1]/td/table[1]/tbody/tr[3]/td[1]').text)\n",
    "\n",
    "\n"
   ]
  },
  {
   "cell_type": "code",
   "execution_count": 143,
   "metadata": {
    "collapsed": false
   },
   "outputs": [
    {
     "name": "stdout",
     "output_type": "stream",
     "text": [
      "   0  1  2  3  4\n",
      "0  a  a  a  a  a\n",
      "1  b  b  b  b  b\n",
      "2  c  c  c  c  c\n",
      "   0  1  2  3  4   5\n",
      "0  1  2  3  4  5   6\n",
      "1  2  3  4  5  6   7\n",
      "2  3  4  5  6  7   8\n",
      "3  4  5  6  7  8   9\n",
      "4  5  6  7  8  9  10\n",
      "   0  1  2  3  4   5  0  1  2\n",
      "0  1  2  3  4  5   6  a  b  c\n",
      "1  2  3  4  5  6   7  a  b  c\n",
      "2  3  4  5  6  7   8  a  b  c\n",
      "3  4  5  6  7  8   9  a  b  c\n",
      "4  5  6  7  8  9  10  a  b  c\n"
     ]
    }
   ],
   "source": [
    "#Exemple concatenation listes\n",
    "\n",
    "lon=len(tableau)\n",
    "Date=[]\n",
    "Journée=[]\n",
    "Equipe=[]\n",
    "for k in range(5):\n",
    "    Date.append('a')\n",
    "    Journée.append('b')\n",
    "    Equipe.append('c')\n",
    "frame=pd.DataFrame([ Date, Journée,Equipe])\n",
    "\n",
    "M1=[]\n",
    "M2=[]\n",
    "M3=[]\n",
    "M4=[]\n",
    "M5=[]\n",
    "for k in range(6):\n",
    "    M1.append(k+1)\n",
    "    M2.append(k+2)\n",
    "    M3.append(k+3)    \n",
    "    M4.append(k+4)\n",
    "    M5.append(k+5)\n",
    "frame2=pd.DataFrame([M1,M2,M3,M4,M5])\n",
    "print(frame)\n",
    "print(frame2)\n",
    "frame=frame.transpose()\n",
    "t=pd.concat([frame2,frame], axis=1)\n",
    "print(t)"
   ]
  },
  {
   "cell_type": "code",
   "execution_count": 20,
   "metadata": {
    "collapsed": false
   },
   "outputs": [],
   "source": []
  },
  {
   "cell_type": "code",
   "execution_count": null,
   "metadata": {
    "collapsed": false
   },
   "outputs": [],
   "source": []
  },
  {
   "cell_type": "code",
   "execution_count": null,
   "metadata": {
    "collapsed": false
   },
   "outputs": [],
   "source": []
  },
  {
   "cell_type": "code",
   "execution_count": null,
   "metadata": {
    "collapsed": false
   },
   "outputs": [],
   "source": []
  },
  {
   "cell_type": "code",
   "execution_count": null,
   "metadata": {
    "collapsed": false
   },
   "outputs": [],
   "source": []
  },
  {
   "cell_type": "code",
   "execution_count": null,
   "metadata": {
    "collapsed": false
   },
   "outputs": [],
   "source": []
  },
  {
   "cell_type": "code",
   "execution_count": 175,
   "metadata": {
    "collapsed": false
   },
   "outputs": [
    {
     "name": "stdout",
     "output_type": "stream",
     "text": [
      "   0  1  2  3\n",
      "0  a  a  a  a\n",
      "1  a  a  a  a\n",
      "2  a  a  a  a\n"
     ]
    }
   ],
   "source": [
    "#Exemple de dico de listes\n",
    "\n",
    "d = defaultdict(list)\n",
    "for i in range(3):\n",
    "    for j in range(4):\n",
    "        d[i].append('a')\n",
    "frame2=pd.DataFrame([d[1],d[2],d[0]])\n",
    "print(frame2)"
   ]
  },
  {
   "cell_type": "code",
   "execution_count": null,
   "metadata": {
    "collapsed": false
   },
   "outputs": [],
   "source": []
  },
  {
   "cell_type": "code",
   "execution_count": null,
   "metadata": {
    "collapsed": false
   },
   "outputs": [],
   "source": []
  },
  {
   "cell_type": "code",
   "execution_count": null,
   "metadata": {
    "collapsed": false
   },
   "outputs": [],
   "source": []
  },
  {
   "cell_type": "code",
   "execution_count": null,
   "metadata": {
    "collapsed": true
   },
   "outputs": [],
   "source": []
  }
 ],
 "metadata": {
  "anaconda-cloud": {},
  "kernelspec": {
   "display_name": "Python [Root]",
   "language": "python",
   "name": "Python [Root]"
  },
  "language_info": {
   "codemirror_mode": {
    "name": "ipython",
    "version": 3
   },
   "file_extension": ".py",
   "mimetype": "text/x-python",
   "name": "python",
   "nbconvert_exporter": "python",
   "pygments_lexer": "ipython3",
   "version": "3.5.2"
  }
 },
 "nbformat": 4,
 "nbformat_minor": 0
}
