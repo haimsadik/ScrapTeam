{
 "cells": [
  {
   "cell_type": "code",
   "execution_count": 380,
   "metadata": {
    "collapsed": false
   },
   "outputs": [],
   "source": [
    "#On télecharge les packages dont on va avoir besoin\n",
    "import selenium #pip install selenium\n",
    "from selenium import webdriver\n",
    "from selenium.webdriver.common.keys import Keys\n",
    "from selenium.webdriver.common.by import By  \n",
    "import time\n",
    "#BeautifulSoup , Request et Pandas\n",
    "import urllib\n",
    "import bs4\n",
    "from urllib import request\n",
    "import pandas \n",
    "#pour les graphiques\n",
    "%matplotlib inline\n",
    "import matplotlib.pyplot as plt\n",
    "import numpy as np\n",
    "import pandas as pd"
   ]
  },
  {
   "cell_type": "code",
   "execution_count": null,
   "metadata": {
    "collapsed": true
   },
   "outputs": [],
   "source": [
    "#Faire modele différents pour 3 premieres journées et le reste (on a besoin de données sur les matchs passés : je les recupère mais bon, pas vraiment besoin)\n",
    "#Il faudrait faire interaction pour les dernieres performances avec le classement de l'equipe affronté ce que je ne fais pas pour l'instant mais seulement equipe est elle a domicile ou exterieur "
   ]
  },
  {
   "cell_type": "code",
   "execution_count": null,
   "metadata": {
    "collapsed": true
   },
   "outputs": [],
   "source": [
    "\n",
    "    \n",
    "    #charger la page de la saison (https://www.football-lineups.com/tourn/Ligue_1_2016-2017/fixture/)\n",
    "    #Puis boucler sur les saison\n",
    "    "
   ]
  },
  {
   "cell_type": "code",
   "execution_count": null,
   "metadata": {
    "collapsed": true
   },
   "outputs": [],
   "source": [
    "     ### 1                              \n",
    "                                    ##############################\n",
    "                                    #DONNEES PAR Joueurs/equipe ##\n",
    "                                    ##############################\n",
    "    #Futhead sur toutes les saisons prendre les 18 meilleurs joueurs"
   ]
  },
  {
   "cell_type": "code",
   "execution_count": null,
   "metadata": {
    "collapsed": true
   },
   "outputs": [],
   "source": [
    "     ### 2                                \n",
    "    ##############################\n",
    "                                    ##### DONNEES PAR Equipe/matchs #####\n",
    "                                    ##############################"
   ]
  },
  {
   "cell_type": "code",
   "execution_count": 385,
   "metadata": {
    "collapsed": false
   },
   "outputs": [
    {
     "name": "stdout",
     "output_type": "stream",
     "text": [
      "             0   1           2  3  4           5\n",
      "0    12-Aug-16   1      Bastia  0  1         PSG\n",
      "1    12-Aug-16   1      Monaco  2  2    Guingamp\n",
      "2    13-Aug-16   1    Bordeaux  3  2  St.Etienne\n",
      "3    13-Aug-16   1        Caen  3  2     Lorient\n",
      "4    13-Aug-16   1       Dijon  0  1      Nantes\n",
      "5    13-Aug-16   1        Metz  3  2       Lille\n",
      "6    13-Aug-16   1    Montpelr  1  0      Angers\n",
      "7    14-Aug-16   1       Nancy  0  3        Lyon\n",
      "8    14-Aug-16   1        Nice  1  0      Rennes\n",
      "9    14-Aug-16   1   Marseille  0  0    Toulouse\n",
      "10   19-Aug-16   2        Lyon  2  0        Caen\n",
      "11   20-Aug-16   2      Nantes  0  1      Monaco\n",
      "12   20-Aug-16   2      Angers  0  1        Nice\n",
      "13   20-Aug-16   2       Lille  1  0       Dijon\n",
      "14   20-Aug-16   2     Lorient  0  3      Bastia\n",
      "15   20-Aug-16   2      Rennes  2  0       Nancy\n",
      "16   20-Aug-16   2    Toulouse  4  1    Bordeaux\n",
      "17   21-Aug-16   2    Guingamp  2  1   Marseille\n",
      "18   21-Aug-16   2  St.Etienne  3  1    Montpelr\n",
      "19   21-Aug-16   2         PSG  3  0        Metz\n",
      "20   26-Aug-16   3   Marseille  2  0     Lorient\n",
      "21   27-Aug-16   3       Dijon  4  2        Lyon\n",
      "22   27-Aug-16   3        Caen  2  0      Bastia\n",
      "23   27-Aug-16   3        Metz  2  0      Angers\n",
      "24   27-Aug-16   3    Montpelr  1  1      Rennes\n",
      "25   27-Aug-16   3       Nancy  0  2    Guingamp\n",
      "26   27-Aug-16   3        Nice  1  1       Lille\n",
      "27   28-Aug-16   3    Bordeaux  1  0      Nantes\n",
      "28   28-Aug-16   3  St.Etienne  0  0    Toulouse\n",
      "29   28-Aug-16   3      Monaco  3  1         PSG\n",
      "..         ...  ..         ... .. ..         ...\n",
      "350  06-May-17  36         PSG  5  0      Bastia\n",
      "351  06-May-17  36    Guingamp  4  0       Dijon\n",
      "352  06-May-17  36       Lille  0  2        Metz\n",
      "353  06-May-17  36     Lorient  1  1      Angers\n",
      "354  06-May-17  36       Nancy  0  3      Monaco\n",
      "355  06-May-17  36    Toulouse  0  1        Caen\n",
      "356  07-May-17  36      Rennes  1  0    Montpelr\n",
      "357  07-May-17  36        Lyon  3  2      Nantes\n",
      "358  07-May-17  36   Marseille  2  1        Nice\n",
      "359  14-May-17  37      Bastia  2  0     Lorient\n",
      "360  14-May-17  37    Bordeaux  1  1   Marseille\n",
      "361  14-May-17  37        Caen  0  1      Rennes\n",
      "362  14-May-17  37       Dijon  2  0       Nancy\n",
      "363  14-May-17  37        Metz  1  1    Toulouse\n",
      "364  14-May-17  37      Monaco  4  0       Lille\n",
      "365  14-May-17  37    Montpelr  1  3        Lyon\n",
      "366  14-May-17  37      Nantes  4  1    Guingamp\n",
      "367  14-May-17  37        Nice  0  2      Angers\n",
      "368  14-May-17  37  St.Etienne  0  5         PSG\n",
      "369  17-May-17  31      Monaco  2  0  St.Etienne\n",
      "370  20-May-17  38      Angers  2  0    Montpelr\n",
      "371  20-May-17  38    Guingamp  1  0        Metz\n",
      "372  20-May-17  38       Lille  3  0      Nantes\n",
      "373  20-May-17  38     Lorient  1  1    Bordeaux\n",
      "374  20-May-17  38        Lyon  3  3        Nice\n",
      "375  20-May-17  38   Marseille  1  0      Bastia\n",
      "376  20-May-17  38       Nancy  3  1  St.Etienne\n",
      "377  20-May-17  38         PSG  1  1        Caen\n",
      "378  20-May-17  38      Rennes  2  3      Monaco\n",
      "379  20-May-17  38    Toulouse  0  0       Dijon\n",
      "\n",
      "[380 rows x 6 columns]\n"
     ]
    }
   ],
   "source": [
    " ### 3\n",
    "from selenium import webdriver\n",
    "                                    ##############################\n",
    "                                    ##### DONNEES PAR MATCHS #####\n",
    "                                    ##############################\n",
    "\n",
    "#Datamatch: \n",
    "#nom lignes : numéro match\n",
    "#0:Date\n",
    "#1:Journée\n",
    "#2:Equipe1\n",
    "#3:Score1\n",
    "#4:Score2\n",
    "#5:Equipe2\n",
    "#6:\n",
    "#7:\n",
    "#8:\n",
    "#9:\n",
    "#10:\n",
    "#11:\n",
    "#12:\n",
    "#13:\n",
    "#14:\n",
    "#15:\n",
    "\n",
    "path_to_chromedriver = '/Users/Martin/Desktop/NSM/Paris/chromedriver' # change path as needed\n",
    "browser = webdriver.Chrome(executable_path = path_to_chromedriver)\n",
    "\n",
    "url = 'https://www.football-lineups.com/tourn/Ligue_1_2016-2017/fixture/'\n",
    "browser.get(url)\n",
    "browser.find_element_by_xpath('//*[@id=\"hstp_20862_interstitial_pub\"]').click()\n",
    "\n",
    "Nombredematchs=380\n",
    "tableau=[]\n",
    "for i in range(1,Nombredematchs+1):\n",
    "    a=browser.find_element_by_id('trfil'+str(i)).text\n",
    "    a=a.replace('\\n', ' ')\n",
    "    tableau.append(a)\n",
    "\n",
    "#on voit que tableau est une liste: on la splite ligne par ligne pour en faire le vrai tableau\n",
    "lon=len(tableau)\n",
    "Date=[]\n",
    "Journée=[]\n",
    "Equipe1=[]\n",
    "Score1=[]\n",
    "Score2=[]\n",
    "Equipe2=[]\n",
    "\n",
    "for i in range(lon):\n",
    "    b=tableau[i].split()\n",
    "    Date.append(b[0])\n",
    "    if 'Matchday' in b:\n",
    "        day=b[3]\n",
    "        Journée.append(day)\n",
    "        Equipe1.append(b[4])\n",
    "        s=b[5].split('-')\n",
    "        Score1.append(s[0])\n",
    "        Score2.append(s[1])\n",
    "        Equipe2.append(b[6])\n",
    "    else:\n",
    "        Journée.append(day)\n",
    "        Equipe1.append(b[1])\n",
    "        s=b[2].split('-')\n",
    "        Score1.append(s[0])\n",
    "        Score2.append(s[1])\n",
    "        Equipe2.append(b[3])\n",
    "\n",
    "percentile_list = pd.DataFrame([Date, Journée, Equipe1, Score1, Score2, Equipe2])\n",
    "Datamatchs=percentile_list.transpose()\n",
    "\n",
    "\n",
    "print(Datamatchs)\n",
    "#Comment renommer les colonnes : a faire a la fin \n",
    "\n"
   ]
  },
  {
   "cell_type": "code",
   "execution_count": null,
   "metadata": {
    "collapsed": true
   },
   "outputs": [],
   "source": [
    " ### 4\n",
    "# Matchs par matchs à remplir : compo (blessures, capitaine présent...)"
   ]
  },
  {
   "cell_type": "code",
   "execution_count": null,
   "metadata": {
    "collapsed": true
   },
   "outputs": [],
   "source": [
    "#Brouillon"
   ]
  },
  {
   "cell_type": "code",
   "execution_count": null,
   "metadata": {
    "collapsed": false,
    "scrolled": false
   },
   "outputs": [],
   "source": []
  },
  {
   "cell_type": "code",
   "execution_count": 452,
   "metadata": {
    "collapsed": false
   },
   "outputs": [
    {
     "name": "stdout",
     "output_type": "stream",
     "text": [
      "      0    1    2    3    4    5    6    7    8    9    10   11   12   13  \\\n",
      "0    Nan  Nan  Nan  Nan  Nan  Nan  Nan  Nan  Nan  Nan  Nan  Nan  Nan  Nan   \n",
      "1    Nan  Nan  Nan  Nan  Nan  Nan  Nan  Nan  Nan  Nan  Nan  Nan  Nan  Nan   \n",
      "2    Nan  Nan  Nan  Nan  Nan  Nan  Nan  Nan  Nan  Nan  Nan  Nan  Nan  Nan   \n",
      "3    Nan  Nan  Nan  Nan  Nan  Nan  Nan  Nan  Nan  Nan  Nan  Nan  Nan  Nan   \n",
      "4    Nan  Nan  Nan  Nan  Nan  Nan  Nan  Nan  Nan  Nan  Nan  Nan  Nan  Nan   \n",
      "5    Nan  Nan  Nan  Nan  Nan  Nan  Nan  Nan  Nan  Nan  Nan  Nan  Nan  Nan   \n",
      "6    Nan  Nan  Nan  Nan  Nan  Nan  Nan  Nan  Nan  Nan  Nan  Nan  Nan  Nan   \n",
      "7    Nan  Nan  Nan  Nan  Nan  Nan  Nan  Nan  Nan  Nan  Nan  Nan  Nan  Nan   \n",
      "8    Nan  Nan  Nan  Nan  Nan  Nan  Nan  Nan  Nan  Nan  Nan  Nan  Nan  Nan   \n",
      "9    Nan  Nan  Nan  Nan  Nan  Nan  Nan  Nan  Nan  Nan  Nan  Nan  Nan  Nan   \n",
      "10   Nan  Nan  Nan  Nan  Nan  Nan  Nan  Nan  Nan  Nan  Nan  Nan  Nan  Nan   \n",
      "11   Nan  Nan  Nan  Nan  Nan  Nan  Nan  Nan  Nan  Nan  Nan  Nan  Nan  Nan   \n",
      "12   Nan  Nan  Nan  Nan  Nan  Nan  Nan  Nan  Nan  Nan  Nan  Nan  Nan  Nan   \n",
      "13   Nan  Nan  Nan  Nan  Nan  Nan  Nan  Nan  Nan  Nan  Nan  Nan  Nan  Nan   \n",
      "14   Nan  Nan  Nan  Nan  Nan  Nan  Nan  Nan  Nan  Nan  Nan  Nan  Nan  Nan   \n",
      "15   Nan  Nan  Nan  Nan  Nan  Nan  Nan  Nan  Nan  Nan  Nan  Nan  Nan  Nan   \n",
      "16   Nan  Nan  Nan  Nan  Nan  Nan  Nan  Nan  Nan  Nan  Nan  Nan  Nan  Nan   \n",
      "17   Nan  Nan  Nan  Nan  Nan  Nan  Nan  Nan  Nan  Nan  Nan  Nan  Nan  Nan   \n",
      "18   Nan  Nan  Nan  Nan  Nan  Nan  Nan  Nan  Nan  Nan  Nan  Nan  Nan  Nan   \n",
      "19   Nan  Nan  Nan  Nan  Nan  Nan  Nan  Nan  Nan  Nan  Nan  Nan  Nan  Nan   \n",
      "20   Nan  Nan  Nan  Nan  Nan  Nan  Nan  Nan  Nan  Nan  Nan  Nan  Nan  Nan   \n",
      "21   Nan  Nan  Nan  Nan  Nan  Nan  Nan  Nan  Nan  Nan  Nan  Nan  Nan  Nan   \n",
      "22   Nan  Nan  Nan  Nan  Nan  Nan  Nan  Nan  Nan  Nan  Nan  Nan  Nan  Nan   \n",
      "23   Nan  Nan  Nan  Nan  Nan  Nan  Nan  Nan  Nan  Nan  Nan  Nan  Nan  Nan   \n",
      "24   Nan  Nan  Nan  Nan  Nan  Nan  Nan  Nan  Nan  Nan  Nan  Nan  Nan  Nan   \n",
      "25   Nan  Nan  Nan  Nan  Nan  Nan  Nan  Nan  Nan  Nan  Nan  Nan  Nan  Nan   \n",
      "26   Nan  Nan  Nan  Nan  Nan  Nan  Nan  Nan  Nan  Nan  Nan  Nan  Nan  Nan   \n",
      "27   Nan  Nan  Nan  Nan  Nan  Nan  Nan  Nan  Nan  Nan  Nan  Nan  Nan  Nan   \n",
      "28   Nan  Nan  Nan  Nan  Nan  Nan  Nan  Nan  Nan  Nan  Nan  Nan  Nan  Nan   \n",
      "29   Nan  Nan  Nan  Nan  Nan  Nan  Nan  Nan  Nan  Nan  Nan  Nan  Nan  Nan   \n",
      "..   ...  ...  ...  ...  ...  ...  ...  ...  ...  ...  ...  ...  ...  ...   \n",
      "350    1    2    0    0    2    0    1    1    3    0    0    3    1    0   \n",
      "351    0    2    1    1    0    3    0    0    2    1    1    2    0    3   \n",
      "352    1    0    2    0    3    0    1    3    0    0    2    2    1    1   \n",
      "353    1    0    2    0    5    1    1    0    1    0    0    2    1    2   \n",
      "354    1    1    3    0    0    0    1    1    2    0    2    1    1    2   \n",
      "355    1    1    2    0    1    1    1    1    3    1    2    2    0    0   \n",
      "356    0    2    0    1    1    1    1    0    1    0    2    0    1    0   \n",
      "357    1    3    0    0    1    2    1    2    1    0    0    1    1    2   \n",
      "358    0    4    0    1    0    0    1    5    1    0    3    1    1    1   \n",
      "359    1    0    2    0    1    0    1    0    5    0    5    1    1    0   \n",
      "360    0    2    0    1    0    0    1    2    2    1    0    0    1    5   \n",
      "361    0    0    2    0    1    5    1    1    0    1    1    1    1    0   \n",
      "362    0    3    2    0    0    0    1    0    4    0    0    0    1    1   \n",
      "363    1    1    5    0    2    1    1    2    0    0    1    1    1    1   \n",
      "364    1    2    1    0    3    1    1    3    0    0    3    0    1    3   \n",
      "365    1    0    2    0    0    3    1    0    1    0    1    2    1    2   \n",
      "366    1    2    0    0    1    0    1    2    3    1    0    3    0    0   \n",
      "367    1    1    1    0    3    1    1    1    2    1    2    3    0    1   \n",
      "368    0    1    1    1    2    0    0    2    2    0    2    0    1    1   \n",
      "369    0    4    0    0    2    1    1    3    0    1    0    0    0    2   \n",
      "370    0    1    2    1    1    1    1    2    0    0    0    3    1    0   \n",
      "371    0    0    2    0    4    0    1    1    4    0    2    1    1    2   \n",
      "372    1    3    0    0    0    2    1    0    4    0    1    0    1    2   \n",
      "373    1    0    1    0    1    1    1    0    2    1    0    0    1    2   \n",
      "374    1    2    1    0    3    2    1    3    1    0    3    1    1    1   \n",
      "375    1    5    1    0    2    1    1    1    1    0    1    0    1    0   \n",
      "376    1    1    2    0    0    3    1    0    2    1    2    0    0    2   \n",
      "377    1    1    3    0    5    0    1    5    0    0    1    5    1    1   \n",
      "378    1    0    1    0    1    0    1    1    0    0    3    1    1    3   \n",
      "379    1    1    3    0    0    1    1    1    1    0    0    0    1    0   \n",
      "\n",
      "      14   15   16   17  \n",
      "0    Nan  Nan  Nan  Nan  \n",
      "1    Nan  Nan  Nan  Nan  \n",
      "2    Nan  Nan  Nan  Nan  \n",
      "3    Nan  Nan  Nan  Nan  \n",
      "4    Nan  Nan  Nan  Nan  \n",
      "5    Nan  Nan  Nan  Nan  \n",
      "6    Nan  Nan  Nan  Nan  \n",
      "7    Nan  Nan  Nan  Nan  \n",
      "8    Nan  Nan  Nan  Nan  \n",
      "9    Nan  Nan  Nan  Nan  \n",
      "10   Nan  Nan  Nan  Nan  \n",
      "11   Nan  Nan  Nan  Nan  \n",
      "12   Nan  Nan  Nan  Nan  \n",
      "13   Nan  Nan  Nan  Nan  \n",
      "14   Nan  Nan  Nan  Nan  \n",
      "15   Nan  Nan  Nan  Nan  \n",
      "16   Nan  Nan  Nan  Nan  \n",
      "17   Nan  Nan  Nan  Nan  \n",
      "18   Nan  Nan  Nan  Nan  \n",
      "19   Nan  Nan  Nan  Nan  \n",
      "20   Nan  Nan  Nan  Nan  \n",
      "21   Nan  Nan  Nan  Nan  \n",
      "22   Nan  Nan  Nan  Nan  \n",
      "23   Nan  Nan  Nan  Nan  \n",
      "24   Nan  Nan  Nan  Nan  \n",
      "25   Nan  Nan  Nan  Nan  \n",
      "26   Nan  Nan  Nan  Nan  \n",
      "27   Nan  Nan  Nan  Nan  \n",
      "28   Nan  Nan  Nan  Nan  \n",
      "29   Nan  Nan  Nan  Nan  \n",
      "..   ...  ...  ...  ...  \n",
      "350    2    0    1    0  \n",
      "351    2    0    0    0  \n",
      "352    5    0    2    1  \n",
      "353    3    0    1    2  \n",
      "354    1    0    3    1  \n",
      "355    2    0    1    5  \n",
      "356    2    0    0    3  \n",
      "357    0    0    1    0  \n",
      "358    1    0    3    1  \n",
      "359    1    0    1    1  \n",
      "360    1    0    2    1  \n",
      "361    1    0    1    0  \n",
      "362    2    0    0    3  \n",
      "363    3    0    0    1  \n",
      "364    0    0    0    2  \n",
      "365    1    0    3    2  \n",
      "366    2    0    4    0  \n",
      "367    2    1    1    1  \n",
      "368    3    0    5    0  \n",
      "369    2    1    1    0  \n",
      "370    1    0    1    3  \n",
      "371    0    0    1    1  \n",
      "372    3    0    4    1  \n",
      "373    2    0    1    1  \n",
      "374    2    0    0    2  \n",
      "375    5    0    2    0  \n",
      "376    2    0    0    5  \n",
      "377    0    0    0    1  \n",
      "378    0    0    4    0  \n",
      "379    4    0    2    0  \n",
      "\n",
      "[380 rows x 18 columns]\n"
     ]
    }
   ],
   "source": [
    " ### 2\n",
    "# Dernieres performances des equipes \n",
    "#Exemple de dico de listes\n",
    "\n",
    "dicoperfo = defaultdict(list)\n",
    "\n",
    "\n",
    "df=Datamatchs\n",
    "\n",
    "\n",
    "lon=len(Datamatchs)\n",
    "\n",
    "\n",
    "for i in range (lon):\n",
    "    r=Datamatchs.iloc[i,1]   \n",
    "    r=int(r)\n",
    "    journ=r\n",
    "    equip1=Datamatchs.iloc[i,2]\n",
    "    equip2=Datamatchs.iloc[i,5]\n",
    "#    if journ==3:#Pas le meme modele pour avant apres : on ne prend pas du tout les performances des 3 derniers match pour les trois premiers ? \n",
    "    if journ==1:\n",
    "        for nan in range(18):\n",
    "            dicoperfo[i].append('Nan')\n",
    "         \n",
    "        \n",
    "    if journ==2:\n",
    "        for nan in range(18):\n",
    "            dicoperfo[i].append('Nan')\n",
    "       \n",
    "            \n",
    "    if journ==3:\n",
    "        for nan in range(18):\n",
    "            dicoperfo[i].append('Nan')\n",
    "        \n",
    "\n",
    "    if journ>=4:\n",
    "        \n",
    "        for dt in range(r-3,r):\n",
    "            \n",
    "            b1=df.loc[(df[1]==str(dt)) & (df[2]==str(equip1))]\n",
    "    \n",
    "            if len(b1)==1:\n",
    "                dicoperfo[i].append(0)\n",
    "                dicoperfo[i].append(int(float(b1[3])))\n",
    "                dicoperfo[i].append(int(float(b1[4])))\n",
    "        \n",
    "            b11=df.loc[(df[1]==str(dt)) & (df[5]==str(equip1))]\n",
    "    \n",
    "            if len(b11)==1:\n",
    "                dicoperfo[i].append(1)\n",
    "                dicoperfo[i].append(int(float(b11[4])))\n",
    "                dicoperfo[i].append(int(float(b11[3])))\n",
    "    \n",
    "\n",
    "        for dt in range(r-3,r):\n",
    "\n",
    "            b2=df.loc[(df[1]==str(dt)) & (df[2]==str(equip2))]\n",
    "    \n",
    "\n",
    "            if len(b2)==1:\n",
    "                dicoperfo[i].append(0)\n",
    "                dicoperfo[i].append(int(float(b2[3])))\n",
    "                dicoperfo[i].append(int(float(b2[4])))\n",
    "        \n",
    "            b22=df.loc[(df[1]==str(dt)) & (df[5]==str(equip2))]\n",
    "    \n",
    "            if len(b22)==1:\n",
    "                dicoperfo[i].append(1)\n",
    "                dicoperfo[i].append(int(float(b22[4])))\n",
    "                dicoperfo[i].append(int(float(b22[3])))\n",
    "\n",
    "                \n",
    "\n",
    "\n",
    "            \n",
    "        \n",
    "df33=pd.DataFrame.from_dict(dicoperfo).transpose()\n",
    "\n",
    "print(df33)\n"
   ]
  },
  {
   "cell_type": "code",
   "execution_count": null,
   "metadata": {
    "collapsed": false,
    "scrolled": true
   },
   "outputs": [],
   "source": []
  },
  {
   "cell_type": "code",
   "execution_count": 457,
   "metadata": {
    "collapsed": false
   },
   "outputs": [
    {
     "name": "stdout",
     "output_type": "stream",
     "text": [
      "['16 Leca', '23 Djiku', '5 Squillaci', '17 Peybernes', '28 Marange', '18 Cahuzac (c)', '14 Mostefa', '25 Coulibaly', \"6 Sain'in\", '2 Diallo', '27 Crivelli', '1 Trapp', '19 Aurier', '32 D Luiz', '3 Kimpembe', '20 Kurzawa', '8 T Motta (c)', '25 Rabiot', '7 L Moura', '10 Pastore', '11 D Maria', '21 B Arfa']\n"
     ]
    },
    {
     "data": {
      "text/plain": [
       "22"
      ]
     },
     "execution_count": 457,
     "metadata": {},
     "output_type": "execute_result"
    }
   ],
   "source": [
    "##LA COMPO\n",
    "#lon=len(tableau)\n",
    "\n",
    "\n",
    "iddupremiermatch=241906\n",
    "url = 'https://www.football-lineups.com/match/'+str(iddupremiermatch)+'/'\n",
    "browser.get(url)\n",
    "equipe=[]\n",
    "a='https://www.football-lineups.com/match/'+str(iddupremiermatch)+'/'\n",
    "for joueur in range(1,12):\n",
    "    idjoueur='g8m24190600j'+str(joueur)\n",
    "    a=browser.find_element_by_id(idjoueur).text\n",
    "    a=a.replace('\\n',' ')\n",
    "    equipe.append(a)\n",
    "\n",
    "for joueur in range(1,12):\n",
    "    idjoueur='vg8m24190600j'+str(joueur)\n",
    "    a=browser.find_element_by_id(idjoueur).text\n",
    "    a=a.replace('\\n',' ')\n",
    "    equipe.append(a)\n",
    "\n",
    "\n",
    "print(equipe)\n",
    "len(equipe)"
   ]
  },
  {
   "cell_type": "code",
   "execution_count": 386,
   "metadata": {
    "collapsed": false
   },
   "outputs": [
    {
     "name": "stdout",
     "output_type": "stream",
     "text": [
      "10\n",
      "9\n",
      "-\n",
      "6\n",
      "15\n",
      "16\n",
      "2\n",
      "6\n",
      "-\n",
      "3\n",
      "27\n",
      "73\n",
      "Shots\n",
      "Shots on gol\n",
      "Fouls\n",
      "Corner Kicks\n",
      "Offsides\n",
      "Time %\n",
      "4-3-2-1\n",
      "4-2-3-1\n"
     ]
    }
   ],
   "source": [
    "#Autres élémente du match\n",
    "\n",
    "print(browser.find_element_by_xpath('//*[@id=\"mainarea\"]/tbody/tr/td[1]/table[4]/tbody/tr/td[2]/table[2]/tbody/tr[1]/td/table[1]/tbody/tr[2]/td[1]').text)\n",
    "print(browser.find_element_by_xpath('//*[@id=\"mainarea\"]/tbody/tr/td[1]/table[4]/tbody/tr/td[2]/table[2]/tbody/tr[1]/td/table[1]/tbody/tr[2]/td[3]').text)\n",
    "print(browser.find_element_by_xpath('//*[@id=\"mainarea\"]/tbody/tr/td[1]/table[4]/tbody/tr/td[2]/table[2]/tbody/tr[1]/td/table[1]/tbody/tr[3]/td[1]').text)\n",
    "print(browser.find_element_by_xpath('//*[@id=\"mainarea\"]/tbody/tr/td[1]/table[4]/tbody/tr/td[2]/table[2]/tbody/tr[1]/td/table[1]/tbody/tr[3]/td[3]').text)\n",
    "print(browser.find_element_by_xpath('//*[@id=\"mainarea\"]/tbody/tr/td[1]/table[4]/tbody/tr/td[2]/table[2]/tbody/tr[1]/td/table[1]/tbody/tr[4]/td[1]').text)\n",
    "print(browser.find_element_by_xpath('//*[@id=\"mainarea\"]/tbody/tr/td[1]/table[4]/tbody/tr/td[2]/table[2]/tbody/tr[1]/td/table[1]/tbody/tr[4]/td[3]').text)\n",
    "print(browser.find_element_by_xpath('//*[@id=\"mainarea\"]/tbody/tr/td[1]/table[4]/tbody/tr/td[2]/table[2]/tbody/tr[1]/td/table[1]/tbody/tr[5]/td[1]').text)\n",
    "print(browser.find_element_by_xpath('//*[@id=\"mainarea\"]/tbody/tr/td[1]/table[4]/tbody/tr/td[2]/table[2]/tbody/tr[1]/td/table[1]/tbody/tr[5]/td[3]').text)\n",
    "print(browser.find_element_by_xpath('//*[@id=\"mainarea\"]/tbody/tr/td[1]/table[4]/tbody/tr/td[2]/table[2]/tbody/tr[1]/td/table[1]/tbody/tr[6]/td[1]').text)\n",
    "print(browser.find_element_by_xpath('//*[@id=\"mainarea\"]/tbody/tr/td[1]/table[4]/tbody/tr/td[2]/table[2]/tbody/tr[1]/td/table[1]/tbody/tr[6]/td[3]').text)\n",
    "print(browser.find_element_by_xpath('//*[@id=\"mainarea\"]/tbody/tr/td[1]/table[4]/tbody/tr/td[2]/table[2]/tbody/tr[1]/td/table[1]/tbody/tr[7]/td[1]').text)\n",
    "print(browser.find_element_by_xpath('//*[@id=\"mainarea\"]/tbody/tr/td[1]/table[4]/tbody/tr/td[2]/table[2]/tbody/tr[1]/td/table[1]/tbody/tr[7]/td[3]').text)\n",
    "\n",
    "print(browser.find_element_by_xpath('//*[@id=\"mainarea\"]/tbody/tr/td[1]/table[4]/tbody/tr/td[2]/table[2]/tbody/tr[1]/td/table[1]/tbody/tr[2]/td[2]').text)\n",
    "print(browser.find_element_by_xpath('//*[@id=\"mainarea\"]/tbody/tr/td[1]/table[4]/tbody/tr/td[2]/table[2]/tbody/tr[1]/td/table[1]/tbody/tr[3]/td[2]').text)\n",
    "print(browser.find_element_by_xpath('//*[@id=\"mainarea\"]/tbody/tr/td[1]/table[4]/tbody/tr/td[2]/table[2]/tbody/tr[1]/td/table[1]/tbody/tr[4]/td[2]').text)\n",
    "print(browser.find_element_by_xpath('//*[@id=\"mainarea\"]/tbody/tr/td[1]/table[4]/tbody/tr/td[2]/table[2]/tbody/tr[1]/td/table[1]/tbody/tr[5]/td[2]').text)\n",
    "print(browser.find_element_by_xpath('//*[@id=\"mainarea\"]/tbody/tr/td[1]/table[4]/tbody/tr/td[2]/table[2]/tbody/tr[1]/td/table[1]/tbody/tr[6]/td[2]').text)\n",
    "print(browser.find_element_by_xpath('//*[@id=\"mainarea\"]/tbody/tr/td[1]/table[4]/tbody/tr/td[2]/table[2]/tbody/tr[1]/td/table[1]/tbody/tr[7]/td[2]').text)\n",
    "\n",
    "\n",
    "\n",
    "\n",
    "\n",
    "#//*[@id=\"mainarea\"]/tbody/tr/td[1]/table[4]/tbody/tr/td[2]/table[2]/tbody/tr[1]/td/table[2]/tbody/tr[2]/td[1]\n",
    "#//*[@id=\"mainarea\"]/tbody/tr/td[1]/table[4]/tbody/tr/td[2]/table[2]/tbody/tr[1]/td/table[2]/tbody/tr[2]/td[3]\n",
    "\n",
    "\n",
    "print(browser.find_element_by_xpath('//*[@id=\"mainarea\"]/tbody/tr/td[1]/table[2]/tbody/tr/td/table[2]/tbody/tr/td[1]/table/tbody/tr/td[2]/font[1]/a').text)\n",
    "print(browser.find_element_by_xpath('//*[@id=\"mainarea\"]/tbody/tr/td[1]/table[2]/tbody/tr/td/table[2]/tbody/tr/td[7]/table/tbody/tr/td[1]/font[1]/a').text)\n",
    "\n"
   ]
  },
  {
   "cell_type": "code",
   "execution_count": 143,
   "metadata": {
    "collapsed": false
   },
   "outputs": [
    {
     "name": "stdout",
     "output_type": "stream",
     "text": [
      "   0  1  2  3  4\n",
      "0  a  a  a  a  a\n",
      "1  b  b  b  b  b\n",
      "2  c  c  c  c  c\n",
      "   0  1  2  3  4   5\n",
      "0  1  2  3  4  5   6\n",
      "1  2  3  4  5  6   7\n",
      "2  3  4  5  6  7   8\n",
      "3  4  5  6  7  8   9\n",
      "4  5  6  7  8  9  10\n",
      "   0  1  2  3  4   5  0  1  2\n",
      "0  1  2  3  4  5   6  a  b  c\n",
      "1  2  3  4  5  6   7  a  b  c\n",
      "2  3  4  5  6  7   8  a  b  c\n",
      "3  4  5  6  7  8   9  a  b  c\n",
      "4  5  6  7  8  9  10  a  b  c\n"
     ]
    }
   ],
   "source": [
    "#Exemple concatenation listes\n",
    "\n",
    "lon=len(tableau)\n",
    "Date=[]\n",
    "Journée=[]\n",
    "Equipe=[]\n",
    "for k in range(5):\n",
    "    Date.append('a')\n",
    "    Journée.append('b')\n",
    "    Equipe.append('c')\n",
    "frame=pd.DataFrame([ Date, Journée,Equipe])\n",
    "\n",
    "M1=[]\n",
    "M2=[]\n",
    "M3=[]\n",
    "M4=[]\n",
    "M5=[]\n",
    "for k in range(6):\n",
    "    M1.append(k+1)\n",
    "    M2.append(k+2)\n",
    "    M3.append(k+3)    \n",
    "    M4.append(k+4)\n",
    "    M5.append(k+5)\n",
    "frame2=pd.DataFrame([M1,M2,M3,M4,M5])\n",
    "print(frame)\n",
    "print(frame2)\n",
    "frame=frame.transpose()\n",
    "t=pd.concat([frame2,frame], axis=1)\n",
    "print(t)"
   ]
  },
  {
   "cell_type": "code",
   "execution_count": 462,
   "metadata": {
    "collapsed": false
   },
   "outputs": [
    {
     "name": "stdout",
     "output_type": "stream",
     "text": [
      "22\n",
      "[3, 3, 3, 3, 3, 3, 3, 2, 3, 2, 3, 3, 3, 3, 3, 3, 3, 3, 2, 2, 3, 1]\n"
     ]
    }
   ],
   "source": [
    "# Performance des joueurs sur 5 : \n",
    "#L'utiliser pour faire une moyenne des performances du joueur sur l'année (y a t il un biais de jugement par rapport a la valeur initiale du joueur?)\n",
    "perfjoueur=[]\n",
    "images = browser.find_elements_by_tag_name(\"img\")\n",
    "for image in images :\n",
    "    if 'pics/rate' in image.get_attribute(\"src\"):\n",
    "        a=image.get_attribute(\"src\")\n",
    "        a=a.replace('https://www.football-lineups.com/pics/', '')\n",
    "        a=a.replace('.gif', '')\n",
    "        a=a.replace('rate','')\n",
    "        a=int(a)\n",
    "        art.append(a)\n",
    "print(len(art))\n",
    "print(perfjoueur)"
   ]
  },
  {
   "cell_type": "code",
   "execution_count": null,
   "metadata": {
    "collapsed": false
   },
   "outputs": [],
   "source": [
    "#Stocker performance des joueurs par équipe\n",
    "#Pour en faire la moyenne sur la saison en cours\n",
    "#Et calculer également leur perf moyenne sur ? derniers matchs\n",
    "#Pb : pas tout le temps meme\n"
   ]
  },
  {
   "cell_type": "code",
   "execution_count": null,
   "metadata": {
    "collapsed": false
   },
   "outputs": [],
   "source": [
    "#On crée index d'equipe \n",
    "#Ex= ASm=1, OM=2 ..\n"
   ]
  },
  {
   "cell_type": "code",
   "execution_count": null,
   "metadata": {
    "collapsed": false
   },
   "outputs": [],
   "source": []
  },
  {
   "cell_type": "code",
   "execution_count": null,
   "metadata": {
    "collapsed": false
   },
   "outputs": [],
   "source": []
  },
  {
   "cell_type": "code",
   "execution_count": null,
   "metadata": {
    "collapsed": false
   },
   "outputs": [],
   "source": []
  },
  {
   "cell_type": "code",
   "execution_count": null,
   "metadata": {
    "collapsed": false
   },
   "outputs": [],
   "source": []
  },
  {
   "cell_type": "code",
   "execution_count": null,
   "metadata": {
    "collapsed": false
   },
   "outputs": [],
   "source": []
  },
  {
   "cell_type": "code",
   "execution_count": null,
   "metadata": {
    "collapsed": false
   },
   "outputs": [],
   "source": []
  },
  {
   "cell_type": "code",
   "execution_count": null,
   "metadata": {
    "collapsed": false
   },
   "outputs": [],
   "source": []
  },
  {
   "cell_type": "code",
   "execution_count": null,
   "metadata": {
    "collapsed": false
   },
   "outputs": [],
   "source": []
  },
  {
   "cell_type": "code",
   "execution_count": null,
   "metadata": {
    "collapsed": false
   },
   "outputs": [],
   "source": []
  },
  {
   "cell_type": "code",
   "execution_count": null,
   "metadata": {
    "collapsed": false
   },
   "outputs": [],
   "source": []
  },
  {
   "cell_type": "code",
   "execution_count": null,
   "metadata": {
    "collapsed": true
   },
   "outputs": [],
   "source": []
  }
 ],
 "metadata": {
  "anaconda-cloud": {},
  "kernelspec": {
   "display_name": "Python [Root]",
   "language": "python",
   "name": "Python [Root]"
  },
  "language_info": {
   "codemirror_mode": {
    "name": "ipython",
    "version": 3
   },
   "file_extension": ".py",
   "mimetype": "text/x-python",
   "name": "python",
   "nbconvert_exporter": "python",
   "pygments_lexer": "ipython3",
   "version": "3.5.2"
  }
 },
 "nbformat": 4,
 "nbformat_minor": 0
}
