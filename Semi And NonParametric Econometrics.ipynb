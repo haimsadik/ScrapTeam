{
 "cells": [
  {
   "cell_type": "code",
   "execution_count": 341,
   "metadata": {},
   "outputs": [
    {
     "ename": "ImportError",
     "evalue": "cannot import name 'quantile'",
     "output_type": "error",
     "traceback": [
      "\u001b[0;31m---------------------------------------------------------------------------\u001b[0m",
      "\u001b[0;31mImportError\u001b[0m                               Traceback (most recent call last)",
      "\u001b[0;32m<ipython-input-341-f1d5357c698e>\u001b[0m in \u001b[0;36m<module>\u001b[0;34m()\u001b[0m\n\u001b[1;32m     10\u001b[0m \u001b[0;32mimport\u001b[0m \u001b[0mnumpy\u001b[0m\u001b[0;34m.\u001b[0m\u001b[0mlinalg\u001b[0m \u001b[0;32mas\u001b[0m \u001b[0malg\u001b[0m\u001b[0;34m\u001b[0m\u001b[0m\n\u001b[1;32m     11\u001b[0m \u001b[0;32mfrom\u001b[0m \u001b[0mnumpy\u001b[0m\u001b[0;34m.\u001b[0m\u001b[0mlinalg\u001b[0m \u001b[0;32mimport\u001b[0m \u001b[0minv\u001b[0m\u001b[0;34m\u001b[0m\u001b[0m\n\u001b[0;32m---> 12\u001b[0;31m \u001b[0;32mfrom\u001b[0m \u001b[0mnumpy\u001b[0m \u001b[0;32mimport\u001b[0m \u001b[0mquantile\u001b[0m\u001b[0;34m\u001b[0m\u001b[0m\n\u001b[0m",
      "\u001b[0;31mImportError\u001b[0m: cannot import name 'quantile'"
     ]
    }
   ],
   "source": [
    "import pandas\n",
    "import numpy as np\n",
    "from collections import defaultdict\n",
    "import math\n",
    "import matplotlib.pyplot as plt\n",
    "from scipy import stats\n",
    "from scipy.stats import gaussian_kde\n",
    "from scipy.stats import norm, gaussian_kde\n",
    "from scipy import interpolate\n",
    "import numpy.linalg as alg\n",
    "from numpy.linalg import inv\n"
   ]
  },
  {
   "cell_type": "code",
   "execution_count": 14,
   "metadata": {},
   "outputs": [
    {
     "name": "stdout",
     "output_type": "stream",
     "text": [
      "[-0.18959348  0.19882775  0.81379205  0.94728054 -0.52500763 -0.87419281\n",
      " -1.94846162 -0.70756012 -1.14492229  0.02754357] [-0.21110953  0.66985956 -2.01581175  0.11486875 -0.53647543  0.28632941\n",
      "  0.6669517  -2.46265159 -0.96377862  0.51918809]\n"
     ]
    }
   ],
   "source": [
    "#Import data \n",
    "data=pandas.read_csv('/Users/martinbecuwe/Documents/ENSAE 3A/Semestre 1 3A ENSAE/Semi and non parametric/SemiAndNonPara/StudentsPerformance.csv')\n",
    "data.describe()\n",
    "\n",
    "#Je conserve que variables qualitatives pour l'exemple\n",
    "data=data.iloc[:,5:8]\n",
    "\n",
    "\n",
    "#Valeurs manquantes?\n",
    "#???\n",
    "\n",
    "### Transformer valeurs quali en quantitatives\n",
    "#???\n",
    "\n",
    "#Algorithm 1 (Implementation for Parametric and Series Estimation).\n",
    "#1.(1) Set Gammatil(n) ≡ 1−0.1/logn. \n",
    "#from the K-variate standard normal distribution N (0,IK). \n",
    "\n",
    "n=len(data)\n",
    "R=50 # A changer?\n",
    "\n",
    "K=10 # Différentes valeurs de ?? a changer donc\n",
    "\n",
    "#Simulate a large number R of draws denoted Z1,...,ZR \n",
    "Z = defaultdict(list)\n",
    "\n",
    "mean=np.zeros(K)\n",
    "cov=np.identity(K)\n",
    "for i in range(1,R+1):\n",
    "    Z[i]=np.random.multivariate_normal(mean, cov)\n",
    "\n",
    "\n",
    "\n",
    "\n",
    "# (2) Compute Ω􏰜n, a consistent estimator for the large\n",
    "#samplevarianceof√n􏰉β􏰜 −β 􏰊. \n",
    "#(3)Foreachv∈V,computeg􏰜(v)=p (v)′Ω􏰜1/2 andset √nn nn\n",
    "# sn(v) = ∥g􏰜(v)∥/ n. \n",
    "#    (4) Compute kn,V( γ ̃ n ) = γ ̃ n − q u a n t i l e o f { s u p 􏰁 g􏰜 ( v ) ′ Z r / ∥ g􏰜 ( v ) ∥ 􏰂 , r = 1 , . . . , R } , a n d\n",
    "#v∈V\n",
    "#V􏰜 n = { v ∈ V : θ􏰜 n ( v ) ≤ m i n 􏰉 θ􏰜 n ( v ) + k n , V ( γ ̃ n ) s n ( v ) 􏰊 + 2 k n , V ( γ ̃ n ) s n ( v ) } ,\n",
    "#v∈V\n",
    "#kn,V􏰜n (p)=p−quantileof 􏰕sup􏰁g􏰜(v)′Zr/∥g􏰜(v)∥􏰂,r=1,...,R􏰖,andset\n",
    "\n",
    "\n",
    "\n",
    "\n"
   ]
  },
  {
   "cell_type": "code",
   "execution_count": null,
   "metadata": {},
   "outputs": [],
   "source": []
  },
  {
   "cell_type": "code",
   "execution_count": null,
   "metadata": {},
   "outputs": [],
   "source": []
  },
  {
   "cell_type": "code",
   "execution_count": null,
   "metadata": {},
   "outputs": [],
   "source": []
  },
  {
   "cell_type": "code",
   "execution_count": 377,
   "metadata": {},
   "outputs": [
    {
     "data": {
      "image/png": "[encoded data removed]",
      "text/plain": [
       "<Figure size 432x288 with 1 Axes>"
      ]
     },
     "metadata": {},
     "output_type": "display_data"
    },
    {
     "name": "stdout",
     "output_type": "stream",
     "text": [
      "[-2.05490684e-02 -2.15302078e-04  2.16327582e-01  1.20299030e-03\n",
      " -9.80074061e-01 -1.72190246e-03  1.99309780e+00]\n",
      "kp 2.185532745204996\n",
      "upper bound corrigé 0.06754228904233625\n"
     ]
    }
   ],
   "source": [
    "#Monte Carlo\n",
    "import pandas\n",
    "import numpy as np\n",
    "from collections import defaultdict\n",
    "import math\n",
    "import matplotlib.pyplot as plt\n",
    "from scipy import stats\n",
    "from scipy.stats import gaussian_kde\n",
    "from scipy.stats import norm, gaussian_kde\n",
    "from scipy import interpolate\n",
    "import numpy.linalg as alg\n",
    "from numpy.linalg import inv\n",
    "\n",
    "\n",
    "#Data-Generating Process\n",
    "\n",
    "L=1\n",
    "delta=0.01\n",
    "n=1000\n",
    "mean=np.zeros(n)\n",
    "cov=np.identity(n)\n",
    "\n",
    "V=np.random.uniform(low=-2.0, high=2.0, size=n)\n",
    "uchap=np.random.multivariate_normal(mean, cov)\n",
    "\n",
    "\n",
    "U = defaultdict(list)\n",
    "Y = defaultdict(list)\n",
    "for j in range(n):\n",
    "    U[j]=min(max(-3,delta*uchap[j]),3)\n",
    "    Y[j]=L*math.exp(-V[j]**2/2)/math.sqrt(2*math.pi)+U[j]\n",
    "\n",
    "#On supprime outliers\n",
    "Yt=[]\n",
    "Vt=[]\n",
    "for j in range(n):\n",
    "    if V[j]>-1.8:\n",
    "        if V[j]<1.8:\n",
    "            Vt.append(V[j])\n",
    "            Yt.append(Y[j])\n",
    "\n",
    "plt.scatter(Vt,Yt)\n",
    "aa=np.column_stack((Vt,Yt))\n",
    "\n",
    "#Tried to do Bsplines but dont understand how to get estimates etc... not a good fit anyway -> polynomials\n",
    "\n",
    "#Series estimation using polynomial: pretty good fit\n",
    "\n",
    "\n",
    "from scipy.interpolate import CubicSpline\n",
    "\n",
    "x=aa[aa[:,0].argsort()][:,0]\n",
    "y=aa[aa[:,0].argsort()][:,1]\n",
    "\n",
    "\n",
    "xp = np.linspace(-1.8, 1.8, num=500, endpoint=True)\n",
    "\n",
    "from numpy import polyfit\n",
    "deg2=3\n",
    "fit, omega = polyfit(x, y,deg=deg2,cov=True)\n",
    "p = np.poly1d(fit)\n",
    "plt.plot(x, y, '.', xp, p(xp))\n",
    "\n",
    "plt.show()\n",
    "print(z)\n",
    "#print(omega)\n",
    "\n",
    "#(2) For each v ∈ V􏰊 , compute g􏰊(v) = p (v)′ Ω􏰊1/2, where Ω􏰊 is a consistent estimate\n",
    "#  εn\n",
    "#of asymptotic variance of βˆ.\n",
    "\n",
    "\n",
    "#Need to calculate Ω􏰊1/2\n",
    "A = omega\n",
    "\n",
    "D, P = np.linalg.eig(A)\n",
    "D=(np.diag(D))\n",
    "B=np.dot(np.dot(P,D**(1/2)),inv(P))\n",
    "#On peut vérifier qu'élevée au carré on obtient A\n",
    "#C=alg.matrix_power(B,2)\n",
    "#print(A-C)\n",
    "Omegaracine=B\n",
    "\n",
    "#Back to 2)\n",
    "#On considère que K=degré du polynome+1 (on a approximé par K+1 fonction puissance de x de 0 a 6)\n",
    "K=deg2+1\n",
    "\n",
    "Pn= defaultdict(list)\n",
    "G = defaultdict(list)\n",
    "\n",
    "for vv in x:\n",
    "    #Je crée le vecteur pn(v) vecteeur des K fonctions (polynomes de degré 0 a K-1) évaluées en V\n",
    "    for pp in [3,2,1,0]:\n",
    "        Pn[vv].append(vv**pp)\n",
    "    G[vv]=np.dot(Pn[vv],Omegaracine)\n",
    "    \n",
    "#(3) Simulate a large number R of draws from N (0, IK ), denoted Z1, ..., ZR. Compute\n",
    "#􏰊k(p) = p-quantile of {max 􏰕g􏰊(v)′ Z /∥g􏰊(v)∥􏰖,r = 1,...,R}.\n",
    "\n",
    "R=5000 \n",
    "\n",
    "# Différentes valeurs de ?? a changer donc\n",
    "\n",
    "#Simulate a large number R of draws denoted Z1,...,ZR \n",
    "Z = defaultdict(list)\n",
    "\n",
    "mean=np.zeros(K)\n",
    "cov=np.identity(K)\n",
    "for i in range(R):\n",
    "    Z[i]=np.random.multivariate_normal(mean, cov)\n",
    "    \n",
    "#Compute\n",
    "#􏰊k(p) = p-quantile of {max 􏰕g􏰊(v)′ Z /∥g􏰊(v)∥􏰖,r = 1,...,R}.    \n",
    "p=0.9\n",
    "amaximiser=defaultdict(list)\n",
    "maximisé=defaultdict(list)\n",
    "for r in range(R):\n",
    "    for vv in x:\n",
    "        amaximiser[r].append(np.dot(G[vv],Z[r])/linalg.norm(G[vv]))\n",
    "    maximisé[r]=max(amaximiser[r])\n",
    "quantile=[]\n",
    "for r in range(R):\n",
    "    quantile.append(maximisé[r])\n",
    "kp=np.percentile(quantile,p*100)\n",
    "\n",
    "print('kp',kp)\n",
    "\n",
    "\n",
    "\n",
    "#####Changer s\n",
    "\n",
    "\n",
    "#(4) Compute θ􏰊 = min [θ􏰊(v) + 􏰊k (p) s (v)]. Selecting p = 1/2 provides a median- p v∈V􏰊ε\n",
    "#unbiased estimator for θ0, while selecting p = 1 − α provides a one-sided confi- denceintervalsuchthatP(θ ≤θ􏰊)=1−α.\n",
    "aminimiser=[]\n",
    "s=0.01\n",
    "for i in range(len(x)):\n",
    "    vv=x[i]\n",
    "    yv=y[i]\n",
    "    aminimiser.append(yv+kp*linalg.norm(G[vv])/(n**(1/2)))\n",
    "thetachapP=min(aminimiser)\n",
    "print('upper bound corrigé', thetachapP)\n"
   ]
  },
  {
   "cell_type": "code",
   "execution_count": 372,
   "metadata": {},
   "outputs": [
    {
     "data": {
      "text/plain": [
       "0.00216494644922012"
      ]
     },
     "execution_count": 372,
     "metadata": {},
     "output_type": "execute_result"
    }
   ],
   "source": [
    "linalg.norm(G[vv])\n"
   ]
  },
  {
   "cell_type": "code",
   "execution_count": 363,
   "metadata": {},
   "outputs": [
    {
     "name": "stdout",
     "output_type": "stream",
     "text": [
      "-0.0031477174293086402\n",
      "0.002377486445735715\n"
     ]
    },
    {
     "data": {
      "text/plain": [
       "-1.3239686118734428"
      ]
     },
     "execution_count": 363,
     "metadata": {},
     "output_type": "execute_result"
    }
   ],
   "source": [
    "print(np.dot(G[vv],Z[r]))\n",
    "print(linalg.norm(G[vv]))\n",
    "np.dot(G[vv],Z[r])/linalg.norm(G[vv])"
   ]
  },
  {
   "cell_type": "code",
   "execution_count": 367,
   "metadata": {},
   "outputs": [
    {
     "data": {
      "text/plain": [
       "2.0"
      ]
     },
     "execution_count": 367,
     "metadata": {},
     "output_type": "execute_result"
    }
   ],
   "source": [
    "a=[1,2,3]\n",
    "np.percentile(a,p*100)"
   ]
  },
  {
   "cell_type": "code",
   "execution_count": 240,
   "metadata": {},
   "outputs": [],
   "source": [
    "def B(x, k, i, t):\n",
    "    if k == 0:\n",
    "        return 1.0 if t[i] <= x < t[i+1] else 0.0\n",
    "    if t[i+k] == t[i]:\n",
    "        c1 = 0.0        \n",
    "    else:\n",
    "            c1 = (x - t[i])/(t[i+k] - t[i]) * B(x, k-1, i, t)\n",
    "    if t[i+k+1] == t[i+1]:\n",
    "        c2 = 0.0\n",
    "    else:\n",
    "        c2 = (t[i+k+1] - x)/(t[i+k+1] - t[i+1]) * B(x, k-1, i+1, t)\n",
    "    return c1 + c2\n",
    "\n",
    "def bspline(x, t, c, k):\n",
    "    n = len(t) - k - 1\n",
    "    assert (n >= k+1) and (len(c) >= n)\n",
    "    return sum(c[i] * B(x, k, i, t) for i in range(n))\n",
    "\n",
    "\n",
    "t=xnew\n",
    "\n",
    "bspline()"
   ]
  },
  {
   "cell_type": "code",
   "execution_count": 375,
   "metadata": {},
   "outputs": [
    {
     "data": {
      "image/png": "[encoded data removed]",
      "text/plain": [
       "<Figure size 432x288 with 1 Axes>"
      ]
     },
     "metadata": {},
     "output_type": "display_data"
    },
    {
     "data": {
      "text/plain": [
       "array([ 7.85878131e-02,  7.68365680e-02,  8.52746517e-02,  7.55405281e-02,\n",
       "        7.95844672e-02,  1.08077551e-01,  1.01801177e-01,  5.56436826e-02,\n",
       "        9.63229889e-02,  9.00939670e-02,  2.79600738e-02,  3.96355004e-01,\n",
       "       -7.52520214e-01,  2.84985601e-01,  2.48760184e-02,  2.19417833e-01,\n",
       "       -2.63525186e-01,  1.93194158e-01,  6.10138769e-01, -4.28022420e-02,\n",
       "        2.59614694e-01, -3.45617611e-01,  3.66180771e-01, -1.48733917e-01,\n",
       "        2.64048692e-01, -1.77110235e-01,  6.31038547e-01, -8.37152482e-01,\n",
       "        4.35895817e-01, -1.40849312e-01,  2.30175278e-01, -2.17330043e-02,\n",
       "        1.57157010e-01,  7.65482832e-02,  1.20586564e-01, -1.19688452e-02,\n",
       "        2.28160925e-01,  8.90693653e-02,  6.94584065e-02,  1.44244097e-01,\n",
       "        4.52339881e-02,  1.82699710e-01,  1.51298675e-01,  5.50481738e-02,\n",
       "        1.69007931e-01,  4.30742845e-02,  7.37257799e-02,  9.95012411e-02,\n",
       "        1.11134232e-01,  1.64066545e-01,  2.59717843e-02,  2.67544736e-01,\n",
       "        1.14621519e-02,  1.40513736e-01,  9.29897649e-02,  1.40032567e-01,\n",
       "        1.01587806e-01,  1.36714349e-01,  1.04561921e-01,  9.80676257e-02,\n",
       "        1.98814088e-01, -2.09273239e-01,  9.66853672e-01, -2.50512600e-01,\n",
       "        2.42414279e-01, -2.16864257e-01,  1.65849345e+00, -3.59931599e+00,\n",
       "        2.79562553e+00, -1.32038553e+00,  7.35610724e-01,  1.10886912e-02,\n",
       "        2.15497615e-01,  4.25639614e-03,  3.87417463e-01, -5.94735279e-01,\n",
       "        1.97008750e+00, -7.47929265e-01,  4.14387524e-01, -2.57919322e-01,\n",
       "        8.92015486e-01, -6.45591264e-01,  8.47336595e-01, -1.97859986e+00,\n",
       "        1.93765758e+01, -7.90734114e+01,  6.91234325e+01, -3.31770839e+01,\n",
       "        1.25075657e+01, -7.88157769e+00,  7.60533246e+00, -6.21958515e-01,\n",
       "        6.52292660e-01, -1.73079905e-01,  2.38642320e-01,  1.43942087e-01,\n",
       "        1.91581253e-01,  1.13619913e-01,  2.25785655e-01, -4.75012521e-02,\n",
       "        5.42202550e-01,  5.23982025e-02,  1.95043906e-01,  1.25828802e-01,\n",
       "        2.30540171e-01,  1.04215925e-01,  1.16510425e-01,  2.55970993e-01,\n",
       "       -3.14214830e-02,  2.75996736e-01,  1.24466050e-01,  1.93047184e-01,\n",
       "        1.48601515e-01,  2.26693824e-01,  1.43986167e-01,  1.91493216e-02,\n",
       "        3.12728152e-01, -1.55251209e-02,  5.56219355e-01,  1.25660525e-01,\n",
       "        2.09052629e-01,  1.56193837e-01,  1.57052003e-02,  5.60953956e-01,\n",
       "       -8.60017217e-01,  1.50580296e+00, -4.46572905e-01,  3.59258438e-01,\n",
       "        2.02726209e-02,  3.81096774e-01, -3.50438357e-01,  1.11036714e+00,\n",
       "       -2.33746302e-01,  2.80983604e-01,  3.47301302e-01,  1.19052715e-01,\n",
       "        2.03968236e-01,  1.72048861e-01,  1.82250684e-01,  2.13079054e-01,\n",
       "        3.09437338e-01,  6.07429315e-01,  4.10138268e-02,  2.70019991e-01,\n",
       "       -4.28948908e-02,  4.28910583e-01,  7.97587821e-02,  2.44323520e-01,\n",
       "        2.30128960e-01,  1.70631155e-01,  2.44181764e-01,  1.70288425e-01,\n",
       "        2.32155330e-01,  2.12618413e-01,  1.03222575e-01,  3.16023851e-01,\n",
       "        1.11212713e-01,  3.52624149e-01,  1.35276597e-01,  2.11788931e-01,\n",
       "        2.45159977e-01,  1.30150352e-01,  2.32482999e-01,  2.29381561e-01,\n",
       "        1.56535120e-01,  2.48242637e-01, -2.42694372e-03,  3.26972489e+00,\n",
       "       -1.33466937e+00,  4.23533547e-01,  2.98810924e-01,  4.67957345e-02,\n",
       "        3.06559111e-01,  2.12852403e-01,  2.95271300e-01,  1.41793362e-01,\n",
       "        5.47424018e-01, -8.19211566e-01,  3.48803558e-01,  2.26864707e-01,\n",
       "        2.43201537e-01,  2.37831215e-01,  8.91686057e-02,  8.80755217e-01,\n",
       "       -2.11468618e-01,  4.51318553e-01,  1.38163310e-01,  3.72683470e-01,\n",
       "        8.13437613e-02,  4.40215547e-01, -1.68005016e-01,  1.16669576e+00,\n",
       "       -1.08447301e+00,  5.65746866e-01, -7.59059400e-02,  2.11629291e+00,\n",
       "       -1.90120894e+00,  1.71195193e+00, -4.83146219e-01,  1.09065499e+00,\n",
       "       -2.89684374e-02,  1.46343082e-01,  2.74674780e-01,  2.85465480e-01,\n",
       "        2.72331144e-01,  2.52648898e-01,  3.46458578e-01,  2.70123272e-01,\n",
       "        2.74953861e-01,  2.93147339e-01,  2.07062582e-01,  3.18167787e-01,\n",
       "        2.33176349e-01,  2.67424307e-01,  3.76274287e-01, -3.71596838e-02,\n",
       "        1.63375122e+00, -9.61128900e+00,  1.57161184e+01, -5.89434590e+00,\n",
       "        8.48622564e-01,  9.15206883e-02,  5.46199515e-01,  8.68398323e-02,\n",
       "        5.28772996e-01,  9.95538750e-02,  8.20290036e-02,  3.73545642e-01,\n",
       "        2.41809899e-01,  3.20614973e-01,  2.60543747e-01,  3.02460346e-01,\n",
       "        2.96579619e-01,  2.71405192e-01,  3.23638839e-01,  3.08127510e-01,\n",
       "        2.59149348e-01,  5.25254460e-01, -2.34374286e-02,  4.28767396e-01,\n",
       "        2.98615489e-01,  3.09818085e-01,  2.65469719e-01,  3.52560747e-01,\n",
       "        2.80059991e-01,  2.92008765e-01,  4.61167187e-01, -9.89333183e-02,\n",
       "        1.16450336e+00,  4.73657584e-02,  6.72509322e-01, -3.62923711e+00,\n",
       "        1.32510996e+00,  3.61368948e-02,  6.03336051e-01, -3.31450365e-01,\n",
       "        5.55557476e-01,  2.41355023e-01,  3.24880625e-01,  3.15602802e-01,\n",
       "        3.16401935e-01,  3.47545842e-01,  2.52939360e-01,  3.29080613e-01,\n",
       "        3.06416068e-01,  3.49528852e-01,  2.05975561e-01,  2.32505472e-01,\n",
       "        3.55767255e-01,  2.96812650e-01,  3.73029013e-01,  2.43454359e-01,\n",
       "        6.45647735e-01,  3.09214906e-01,  3.15273408e-01,  3.22529135e-01,\n",
       "        3.56181352e-01,  3.05076529e-01,  3.57042914e-01,  3.48375477e-01,\n",
       "        2.57096494e-01,  3.99582605e-01,  2.66000042e-01,  3.50349772e-01,\n",
       "        3.46728013e-01,  3.11371636e-01,  3.62921883e-01,  2.33891625e-01,\n",
       "        4.92736430e-01,  2.93827677e-01,  3.53093181e-01,  3.79302523e-01,\n",
       "        2.65316614e-01,  4.23086923e-01,  1.33199857e-01,  5.02441052e-01,\n",
       "        4.82567217e-01,  2.34485677e-01,  4.20510016e-01,  3.05136088e-01,\n",
       "        3.34173493e-01,  4.26650415e-01,  2.50377897e-01, -1.00097008e+00,\n",
       "        2.38736100e+00, -1.40518953e+00,  1.62396554e+00, -3.73155565e+00,\n",
       "        7.99833700e+00, -7.59545759e+00,  6.54356302e+00, -1.10747818e-01,\n",
       "        3.59222678e-01,  3.53536296e-01,  3.47877048e-01,  3.86700312e-01,\n",
       "        3.70420411e-01, -8.21763710e-03,  7.82810427e-01,  2.02329561e-01,\n",
       "        4.23647653e-01,  3.14914584e-01,  3.77778789e-01,  3.11272859e-01,\n",
       "        4.43275600e-01,  2.88628387e-01,  4.47035522e-01,  1.84619532e-01,\n",
       "        3.24809857e+00, -3.96121156e+00,  1.16102392e+00,  1.83313385e-01,\n",
       "        4.17793865e-01,  3.66891034e-01,  3.42281282e-01,  3.96038331e-01,\n",
       "        3.52098946e-01,  3.84441163e-01,  3.20036581e-01,  4.14408049e-01,\n",
       "        3.20203362e-01,  3.59473914e-01,  3.78922885e-01,  3.24210279e-01,\n",
       "        4.03341317e-01, -3.38007289e-01,  6.70403145e-01,  3.06975233e-01,\n",
       "        1.25829554e-01,  1.39112533e+00, -3.88928091e-01,  6.56594781e-01,\n",
       "        2.49391203e-01,  4.29618237e-01,  3.42542739e-01,  3.76859911e-01,\n",
       "        3.94128983e-01,  2.91872599e-01,  5.31184850e-01,  1.91309405e-01,\n",
       "        4.56572065e-01,  2.91403558e-01,  6.17341691e-01, -8.52054225e-01,\n",
       "        6.08018476e+00, -1.13908376e+00,  1.02349689e+00,  1.10412370e-01,\n",
       "        4.82463713e-01,  3.70001869e-01,  2.96065897e-01,  4.85990373e-01,\n",
       "        3.08059850e-01,  4.36764034e-01,  2.87550051e-01,  6.21700675e-01,\n",
       "        1.07061333e-01,  4.39619844e-01,  3.36168500e-01,  4.17759963e-01,\n",
       "        3.44260461e-01,  2.25605460e-01,  8.16789958e-01,  1.82704744e-01,\n",
       "        5.43561966e-01,  2.80402270e-01,  5.26326319e-01,  3.08589943e-01,\n",
       "        4.36578412e-01,  2.64383814e-01,  5.66699390e-01,  6.13726075e-02,\n",
       "        5.82284927e-01,  2.24102888e-01,  5.24339844e-01,  3.06365214e-01,\n",
       "        4.20780948e-01,  3.82726748e-01,  3.85815462e-01,  4.23766843e-01,\n",
       "        3.61816560e-01,  4.08723119e-01,  3.49118856e-01,  4.52284418e-01,\n",
       "        3.50310303e-01,  4.52591112e-01,  3.53316252e-01,  3.79750151e-01,\n",
       "        4.34451985e-01,  3.99652987e-01,  3.32904612e-01,  6.78025846e-01,\n",
       "       -5.64519746e-01,  2.36248452e+00, -4.62007344e-02,  5.21574718e-01,\n",
       "        2.66399851e-01,  4.85210702e-01,  3.46802504e-01,  4.22358546e-01,\n",
       "        3.21424425e-01,  4.63968416e-01,  5.61984231e-01,  3.67601732e-01,\n",
       "        4.22784308e-01,  4.37395881e-01,  2.05521690e-01,  1.23394245e+00,\n",
       "       -4.87404157e-01,  1.31670101e+00, -5.04235847e-02,  7.17151538e-01,\n",
       "        6.37161506e-02,  8.26152178e-01, -6.19539973e-01,  4.16710132e+00,\n",
       "       -1.19150998e+01,  6.16017903e+00, -3.48222428e-01,  1.27925768e+00,\n",
       "       -7.10134351e-01,  6.87518337e-01,  3.83532626e-01,  4.10468165e-01,\n",
       "        3.63141382e-01,  4.62474586e-01,  3.76925240e-01,  4.58378379e-01,\n",
       "        2.64490537e-01,  8.97975608e-01, -4.93708432e-04,  8.67428858e-01,\n",
       "        1.14476215e-01,  4.59310912e-01,  3.82736930e-01,  4.06745404e-01,\n",
       "        3.73109065e-01,  4.34973910e-01,  3.71427085e-01,  4.77133667e-01,\n",
       "        2.60245452e-01,  4.75772103e-01,  3.76641482e-01,  4.17138166e-01,\n",
       "        3.96717431e-01,  5.45073599e-01,  2.86319636e-01,  4.40399766e-01,\n",
       "        4.05731104e-01,  3.91694004e-01,  4.26395228e-01,  3.57034761e-01,\n",
       "        5.37527939e-01, -6.62879406e-02,  5.96974048e-01,  2.74865135e-01,\n",
       "        3.87776688e-01,  4.24083274e-01,  3.61903431e-01,  3.85926355e-01,\n",
       "        4.09399695e-01,  4.55754189e-01,  1.19280495e-01,  5.99992054e-01,\n",
       "        2.87237131e-01,  6.23409723e-01, -9.62232967e-02,  8.54855834e-01,\n",
       "        6.54364542e-02,  4.40142437e-01,  4.08758950e-01,  3.83683439e-01,\n",
       "        3.28160930e-01,  4.84634697e-01,  3.46001504e-01,  4.20831471e-01,\n",
       "        3.80328360e-01,  3.99261477e-01,  4.48669326e-01,  3.33752225e-01,\n",
       "        4.61439514e-01,  5.64360730e-01,  2.46970659e-01,  4.96145167e-01,\n",
       "       -1.52104231e-01,  1.42808670e+00, -4.12503139e-02,  6.52764249e-01,\n",
       "        2.47476386e-01,  3.42760851e-01,  4.97177649e-01,  2.95673064e-01,\n",
       "        4.91930771e-01,  3.03239192e-01,  4.14083289e-01,  3.49936365e-01,\n",
       "        4.36753036e-01,  2.51401701e-01,  6.18302414e-01,  2.36485206e-01,\n",
       "        3.10459180e-01,  3.56592022e+00, -6.00204579e-01,  7.59419128e-01,\n",
       "       -1.23507036e+00,  2.34491711e+00, -5.18393838e-01,  7.29714030e-01,\n",
       "        2.35536441e-01,  4.70246615e-01,  2.28600879e-01,  7.26846763e-01,\n",
       "       -9.43992721e-02,  5.75543392e-01,  2.14201738e-01,  5.98136406e-01,\n",
       "        3.08001894e-01,  3.14161772e-01,  5.70660044e-01,  3.42778562e-01,\n",
       "        3.02063896e-01,  3.79506107e-01,  3.31490213e-01,  4.75650809e-01,\n",
       "        2.81955690e-01,  4.35040241e-01,  1.55393718e-01,  7.88432075e-01,\n",
       "       -1.99545175e-01,  1.26985641e+00, -2.78937483e+00,  7.18273420e+00,\n",
       "       -5.98747297e+00,  2.02480906e+00, -3.14574001e-01,  4.12684588e+00,\n",
       "       -8.29517698e+00, -1.02702154e+01,  1.52152125e+01, -1.97453936e+01,\n",
       "        1.18540244e+02, -1.40396541e+01,  4.70285764e+00, -4.09158947e+00,\n",
       "        5.48682284e+00, -6.60818485e+00,  1.06203309e+01, -1.46012199e+01,\n",
       "        3.08171829e+00, -6.73992300e-01,  7.86398365e-01,  1.97741262e-01,\n",
       "        4.44351196e-01,  2.57413079e-01,  1.92309787e-01,  7.91629270e-01,\n",
       "       -5.00895042e-01,  2.27649541e+00, -3.14144680e+00,  3.31724007e+00,\n",
       "       -4.40967046e-01,  1.32048394e+00, -1.03814400e+01,  4.45583452e+01,\n",
       "       -1.97915752e+01,  3.58539603e+01, -6.78466606e+01,  4.79118454e+00,\n",
       "       -2.28467971e+00,  7.42552797e+00, -1.58680824e+01,  7.40412360e+00,\n",
       "       -3.05082202e+00,  1.30709047e+00,  1.06879541e-01,  3.57299641e-01,\n",
       "        3.06881676e-01,  3.19909804e-01,  3.57126829e-01,  2.79956494e-01,\n",
       "        3.03634793e-01,  3.34872201e-01,  3.81945281e-01,  1.99201887e-01,\n",
       "        3.71587645e-01,  2.65391044e-01,  3.76323013e-01,  2.06186148e-01,\n",
       "        3.37943539e-01,  4.24611043e-01,  1.36897068e-01,  1.08194167e+00,\n",
       "       -8.07807250e-01,  1.57881140e+00, -6.67104546e-01, -4.82317258e-02,\n",
       "        3.49171206e-01,  2.98157679e-01,  2.95003081e-01,  4.20180595e-01,\n",
       "        1.58757710e-01,  4.42575354e-01, -3.65386170e-02,  1.43124271e+00,\n",
       "       -1.45418972e+00,  3.52717526e+00, -2.93362040e+00,  4.07557442e+00,\n",
       "       -8.77117293e+00,  2.18813949e+01, -3.20906144e+01,  2.98355799e+01,\n",
       "       -9.46846524e+01,  2.27266843e+03, -3.95267495e+03,  1.75823242e+03,\n",
       "       -6.42967088e+02,  6.06101156e+01, -6.30864138e+01,  1.30875255e+02,\n",
       "       -2.57848017e+02,  3.24735544e+02, -1.14626126e+02,  1.55656578e+01,\n",
       "       -3.00684917e+00,  1.65609374e+00, -6.24974757e-01,  1.17700225e+00,\n",
       "       -7.03200639e-01,  4.18933247e-01,  1.45247259e-01, -4.30474833e-01,\n",
       "       -8.02570293e-01,  7.67604343e-01,  9.46669733e-02,  4.50053246e-01,\n",
       "        1.94770018e-01,  3.22910989e-01,  2.18152459e-01,  3.25369383e-01,\n",
       "        1.86085367e-01,  1.25064385e-01,  2.42393615e-01,  3.87671202e-01,\n",
       "        1.67635292e-01,  3.18701154e-01,  2.53505570e-01,  2.41640524e-01,\n",
       "        3.22439032e-01,  2.30489327e-02,  5.98065984e-01, -1.43159856e-01,\n",
       "        3.67746977e-01,  2.20747815e-01,  2.83551401e-01,  2.52381344e-01,\n",
       "        2.00300436e-01,  2.90124803e-01,  2.52681649e-01,  2.24297537e-01,\n",
       "        3.06788607e-01,  1.54911339e-01,  4.49316367e-01, -1.19234019e-01,\n",
       "        8.08473625e-01, -2.96584567e-01,  3.43283056e-01,  2.17366987e-01,\n",
       "        3.71972066e-01, -4.18093577e-01,  8.68427498e-01, -2.55378860e-01,\n",
       "        6.20165010e-01,  1.06561563e-01,  3.20417873e-01,  1.77550097e-01,\n",
       "        3.00627123e-01,  1.16434644e-01,  3.35893284e-01,  5.53047648e-02,\n",
       "        7.51401324e-01, -5.91474897e-01,  1.06945891e+00, -1.07881559e-01,\n",
       "        2.33632873e-01,  3.48880404e-01, -4.07965097e-01,  3.59129751e-01,\n",
       "        2.57334506e+00, -5.74700205e-01,  3.92224738e-01,  1.84562092e-02,\n",
       "        3.98781705e-01, -1.83688591e-02,  4.70558510e-01, -5.43447404e-01,\n",
       "        5.27460441e+00, -1.96778135e+01,  4.72732533e+00, -1.85905427e+00,\n",
       "        8.35330515e+00, -2.94378272e+01,  8.14778694e+00, -5.16284094e+00,\n",
       "        2.26066809e+01, -4.60085123e+00,  2.48621057e+00, -1.42390352e+01,\n",
       "        8.57477774e+01, -2.36868711e+01,  1.62326617e+00, -5.46889174e-02,\n",
       "        9.88409462e-01, -1.29729422e-01,  4.06511463e-01,  1.36595517e-01,\n",
       "        2.30528951e-01,  1.60018297e-01,  1.83950143e-01,  5.64247605e-01,\n",
       "       -1.23536489e-01,  5.01635637e-01, -2.12197478e-01,  8.59684454e-01,\n",
       "        1.94443475e-01,  1.70235005e-01,  2.03129680e-01,  2.54668880e-01,\n",
       "        8.33979654e-02,  4.84775012e-01, -4.49392454e-01,  6.27707974e-01,\n",
       "       -1.03185144e-01,  3.63077806e-01,  8.79483996e-02,  3.11822593e-01,\n",
       "       -1.05092361e-01,  4.20020043e-01,  9.62423621e-02,  2.35707069e-01,\n",
       "        1.27220597e-01,  2.06406681e-01,  1.78466858e-01,  2.03544149e-01,\n",
       "        1.97982712e-01,  1.39841367e-01,  4.31366077e-01,  5.25799866e-02,\n",
       "        2.41178323e-01,  3.58127418e-02,  5.07774647e-01,  4.52685468e-01,\n",
       "       -2.20147617e-01,  3.44215664e-01,  1.08990139e-01,  8.07073933e-02,\n",
       "        2.19318626e-01,  1.81149168e-01,  1.41555618e-01,  2.04388843e-01,\n",
       "        1.12880481e-01,  7.74852517e-03,  1.30462727e+00,  4.30549318e-02,\n",
       "        1.91563066e-01,  1.24561223e-01,  2.85851299e-01,  3.46924249e-02,\n",
       "        3.78137469e-01, -6.32603296e-02,  3.72444553e-01,  2.34261766e-02,\n",
       "        2.69235966e-01,  7.59570644e-02,  3.16887756e-01,  1.16555341e-01,\n",
       "        1.49159981e-01,  1.54734900e-01,  1.96005167e-01,  1.50810868e-02,\n",
       "        4.78776390e-01, -1.90688283e-01,  3.06225092e-01,  6.53522872e-02,\n",
       "        4.75923497e-01, -2.66993073e-01,  3.28238137e-01,  1.00256533e-01,\n",
       "        1.98413456e-01,  1.06312335e-01,  2.22016804e-01, -1.04449153e-01,\n",
       "        1.78106502e-01,  1.40907387e-01,  3.15307237e-03,  8.55421125e-01,\n",
       "       -2.14371006e+00,  3.95969587e+00, -2.94164976e+00,  1.40999441e+00,\n",
       "       -4.21525845e-01,  7.13947233e-01, -2.06820885e-01,  1.61733084e-01,\n",
       "        1.00907754e-01,  1.96187401e-01,  4.15899605e-02,  2.43513133e-01,\n",
       "        1.18963340e-02,  1.94459971e-01,  2.85436657e-01,  2.72925788e-02,\n",
       "        3.66746019e-01, -1.52813521e+00,  8.45714673e+00, -5.68854509e+00,\n",
       "        9.94699291e-01, -2.40891346e-01,  1.57050545e+00, -4.95121212e+00,\n",
       "        1.55669542e+00, -3.17517672e-01,  2.54160412e-01,  8.19118771e-02,\n",
       "        1.51682935e-01,  7.81393140e-04,  2.89674256e-01, -4.51030716e-02,\n",
       "        1.37499217e-01,  1.58012874e-01,  3.45841367e-03,  6.56004294e-01,\n",
       "       -1.58842929e-01,  7.05207953e-02,  1.49639755e-01,  1.21386306e-01,\n",
       "        8.52642927e-02,  2.17503800e-01,  5.17343357e-02,  1.85139567e-01,\n",
       "        4.31199465e-02,  3.12755068e-01, -3.36661884e-01,  1.06672773e+00,\n",
       "       -7.21801435e-01,  3.76937125e-01, -7.27461029e-03,  3.64095465e-01,\n",
       "       -6.42898013e-01, -1.15295167e+00,  9.55929319e-01, -2.65280954e-01,\n",
       "        3.05252155e-01,  2.32233139e-02,  1.73603294e-01,  1.69535549e-02,\n",
       "        7.56466381e-02,  1.74039847e-01,  4.05762844e-02,  1.48203981e-01,\n",
       "       -6.90797807e-02,  1.53088660e-01,  6.47003621e-02,  2.06941646e-01,\n",
       "       -5.11954294e-02,  2.72045939e-01, -1.73713098e-01,  3.17028165e-01,\n",
       "        1.49158317e-02,  9.29289985e-02,  1.59598581e-01,  4.89982385e-02,\n",
       "        1.73447894e-01, -1.60141593e-01,  5.80243193e-01, -5.11120855e-02,\n",
       "        1.35227611e-01,  3.47920861e-02,  1.03687429e-01,  7.89922443e-03,\n",
       "        1.44336448e-01,  9.58002342e-02,  1.29156727e-02,  1.17926234e-01,\n",
       "        8.57600731e-02,  2.93031208e-02,  8.37673708e-02])"
      ]
     },
     "execution_count": 375,
     "metadata": {},
     "output_type": "execute_result"
    }
   ],
   "source": [
    "from scipy.interpolate import make_interp_spline, BSpline\n",
    "\n",
    "T= np.asarray(x)\n",
    "power= np.asarray(y)\n",
    "\n",
    "\n",
    "xnew = np.linspace(-1.8,1.8,) #300 represents number of points to make between T.min and T.max\n",
    "\n",
    "spl = make_interp_spline(T, power, k=5) #BSpline object\n",
    "power_smooth = spl(xnew)\n",
    "\n",
    "plt.plot(xnew,power_smooth)\n",
    "plt.show()\n",
    "spl.c"
   ]
  },
  {
   "cell_type": "code",
   "execution_count": null,
   "metadata": {},
   "outputs": [],
   "source": [
    "from scipy.interpolate import BSpline\n",
    "k = 2\n",
    "t = [0, 1, 2, 3, 4, 5, 6]\n",
    "c = [-1, 2, 0, -1]\n",
    "spl = BSpline(t, c, k)\n",
    "spl(2.5)\n",
    "\n",
    "bspline(2.5, t, c, k)\n",
    "\n",
    "\n",
    "import matplotlib.pyplot as plt\n",
    "fig, ax = plt.subplots()\n",
    "xx = np.linspace(1.5, 4.5, 50)\n",
    "ax.plot(xx, [bspline(x, t, c ,k) for x in xx], 'r-', lw=3, label='naive')\n",
    "ax.plot(xx, spl(xx), 'b-', lw=4, alpha=0.7, label='BSpline')\n",
    "ax.grid(True)\n",
    "ax.legend(loc='best')\n",
    "plt.show()"
   ]
  },
  {
   "cell_type": "code",
   "execution_count": 230,
   "metadata": {},
   "outputs": [
    {
     "ename": "TypeError",
     "evalue": "__init__() got an unexpected keyword argument 'k'",
     "output_type": "error",
     "traceback": [
      "\u001b[0;31m---------------------------------------------------------------------------\u001b[0m",
      "\u001b[0;31mTypeError\u001b[0m                                 Traceback (most recent call last)",
      "\u001b[0;32m<ipython-input-230-5ef676a707f4>\u001b[0m in \u001b[0;36m<module>\u001b[0;34m()\u001b[0m\n\u001b[0;32m----> 1\u001b[0;31m \u001b[0mcs\u001b[0m \u001b[0;34m=\u001b[0m \u001b[0mCubicSpline\u001b[0m\u001b[0;34m(\u001b[0m\u001b[0mx\u001b[0m\u001b[0;34m,\u001b[0m\u001b[0my\u001b[0m\u001b[0;34m,\u001b[0m\u001b[0mbc_type\u001b[0m\u001b[0;34m=\u001b[0m\u001b[0;34m'natural'\u001b[0m\u001b[0;34m,\u001b[0m\u001b[0mk\u001b[0m\u001b[0;34m=\u001b[0m\u001b[0;36m3\u001b[0m\u001b[0;34m)\u001b[0m\u001b[0;34m\u001b[0m\u001b[0m\n\u001b[0m\u001b[1;32m      2\u001b[0m \u001b[0mpower_smooth\u001b[0m \u001b[0;34m=\u001b[0m \u001b[0mcs\u001b[0m\u001b[0;34m(\u001b[0m\u001b[0mxnew\u001b[0m\u001b[0;34m)\u001b[0m\u001b[0;34m\u001b[0m\u001b[0m\n\u001b[1;32m      3\u001b[0m \u001b[0;34m\u001b[0m\u001b[0m\n\u001b[1;32m      4\u001b[0m \u001b[0mplt\u001b[0m\u001b[0;34m.\u001b[0m\u001b[0mplot\u001b[0m\u001b[0;34m(\u001b[0m\u001b[0mxnew\u001b[0m\u001b[0;34m,\u001b[0m\u001b[0mpower_smooth\u001b[0m\u001b[0;34m)\u001b[0m\u001b[0;34m\u001b[0m\u001b[0m\n\u001b[1;32m      5\u001b[0m \u001b[0mplt\u001b[0m\u001b[0;34m.\u001b[0m\u001b[0mshow\u001b[0m\u001b[0;34m(\u001b[0m\u001b[0;34m)\u001b[0m\u001b[0;34m\u001b[0m\u001b[0m\n",
      "\u001b[0;31mTypeError\u001b[0m: __init__() got an unexpected keyword argument 'k'"
     ]
    }
   ],
   "source": [
    "cs = CubicSpline(x,y,bc_type='natural')\n",
    "power_smooth = cs(xnew)\n",
    "\n",
    "plt.plot(xnew,power_smooth)\n",
    "plt.show()\n",
    "cs.c"
   ]
  },
  {
   "cell_type": "code",
   "execution_count": 150,
   "metadata": {},
   "outputs": [
    {
     "data": {
      "image/png": "[encoded data removed]",
      "text/plain": [
       "<Figure size 432x288 with 1 Axes>"
      ]
     },
     "metadata": {},
     "output_type": "display_data"
    }
   ],
   "source": [
    "from scipy.interpolate import interp1d\n",
    "x=Vt\n",
    "y=Yt\n",
    "f2 = interp1d(x, y, kind='cubic')\n",
    "\n",
    "xnew = np.linspace(-1.7, 1.7, num=41, endpoint=True)\n",
    "\n",
    "plt.plot(x, y, 'o', xnew, f2(xnew))\n",
    "\n",
    "plt.show()"
   ]
  },
  {
   "cell_type": "code",
   "execution_count": 114,
   "metadata": {},
   "outputs": [
    {
     "data": {
      "image/png": "[encoded data removed]",
      "text/plain": [
       "<Figure size 432x288 with 1 Axes>"
      ]
     },
     "metadata": {},
     "output_type": "display_data"
    }
   ],
   "source": [
    "# Calculate the point density\n",
    "xy = np.vstack([Vt,Yt])\n",
    "z = gaussian_kde(xy)(xy)\n",
    "\n",
    "fig, ax = plt.subplots()\n",
    "plt.show()"
   ]
  },
  {
   "cell_type": "code",
   "execution_count": 108,
   "metadata": {},
   "outputs": [
    {
     "data": {
      "image/png": "[encoded data removed]",
      "text/plain": [
       "<Figure size 432x288 with 1 Axes>"
      ]
     },
     "metadata": {},
     "output_type": "display_data"
    }
   ],
   "source": [
    "\n",
    "\n",
    "def kernel(x):\n",
    "    return 15/16*(1-x^2)^2*[1 if x<=1 else 0]\n",
    "\n"
   ]
  },
  {
   "cell_type": "code",
   "execution_count": 106,
   "metadata": {},
   "outputs": [
    {
     "name": "stderr",
     "output_type": "stream",
     "text": [
      "/Users/martinbecuwe/anaconda3/lib/python3.6/site-packages/matplotlib/axes/_axes.py:6462: UserWarning: The 'normed' kwarg is deprecated, and has been replaced by the 'density' kwarg.\n",
      "  warnings.warn(\"The 'normed' kwarg is deprecated, and has been \"\n"
     ]
    },
    {
     "data": {
      "text/plain": [
       "<matplotlib.legend.Legend at 0x124fa4e48>"
      ]
     },
     "execution_count": 106,
     "metadata": {},
     "output_type": "execute_result"
    },
    {
     "data": {
      "image/png": "[encoded data removed]",
      "text/plain": [
       "<Figure size 432x288 with 1 Axes>"
      ]
     },
     "metadata": {},
     "output_type": "display_data"
    }
   ],
   "source": [
    "#Kernel Estimation\n",
    "\n",
    "gkde=stats.gaussian_kde(Yt)\n",
    "\n",
    "ind = np.linspace(-2,2,101)\n",
    "kdepdf = gkde.evaluate(ind)\n",
    "\n",
    "plt.figure()\n",
    "# plot histgram of sample\n",
    "plt.hist(Yt, bins=20, normed=1)\n",
    "\n",
    "# plot estimated density\n",
    "plt.plot(ind, kdepdf, label='kde', color=\"g\")\n",
    "plt.title('Kernel Density Estimation')\n",
    "plt.legend()\n",
    "#plt.show()"
   ]
  },
  {
   "cell_type": "code",
   "execution_count": 86,
   "metadata": {},
   "outputs": [
    {
     "data": {
      "text/plain": [
       "list"
      ]
     },
     "execution_count": 86,
     "metadata": {},
     "output_type": "execute_result"
    }
   ],
   "source": [
    "type(Vt)"
   ]
  },
  {
   "cell_type": "code",
   "execution_count": 90,
   "metadata": {},
   "outputs": [
    {
     "data": {
      "text/plain": [
       "1000"
      ]
     },
     "execution_count": 90,
     "metadata": {},
     "output_type": "execute_result"
    }
   ],
   "source": [
    "len(Yt)"
   ]
  },
  {
   "cell_type": "code",
   "execution_count": 21,
   "metadata": {},
   "outputs": [
    {
     "data": {
      "text/plain": [
       "1"
      ]
     },
     "execution_count": 21,
     "metadata": {},
     "output_type": "execute_result"
    }
   ],
   "source": [
    "a"
   ]
  },
  {
   "cell_type": "code",
   "execution_count": 27,
   "metadata": {},
   "outputs": [
    {
     "name": "stdout",
     "output_type": "stream",
     "text": [
      "Object `runif` not found.\n"
     ]
    }
   ],
   "source": [
    "?runif"
   ]
  },
  {
   "cell_type": "code",
   "execution_count": null,
   "metadata": {},
   "outputs": [],
   "source": []
  }
 ],
 "metadata": {
  "kernelspec": {
   "display_name": "Python 3",
   "language": "python",
   "name": "python3"
  },
  "language_info": {
   "codemirror_mode": {
    "name": "ipython",
    "version": 3
   },
   "file_extension": ".py",
   "mimetype": "text/x-python",
   "name": "python",
   "nbconvert_exporter": "python",
   "pygments_lexer": "ipython3",
   "version": "3.6.5"
  }
 },
 "nbformat": 4,
 "nbformat_minor": 2
}
