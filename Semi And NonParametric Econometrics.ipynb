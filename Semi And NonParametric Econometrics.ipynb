{
 "cells": [
  {
   "cell_type": "code",
   "execution_count": 25,
   "metadata": {},
   "outputs": [],
   "source": [
    "import pandas\n",
    "import numpy as np"
   ]
  },
  {
   "cell_type": "code",
   "execution_count": 10,
   "metadata": {},
   "outputs": [
    {
     "ename": "NameError",
     "evalue": "name 'dim' is not defined",
     "output_type": "error",
     "traceback": [
      "\u001b[0;31m---------------------------------------------------------------------------\u001b[0m",
      "\u001b[0;31mNameError\u001b[0m                                 Traceback (most recent call last)",
      "\u001b[0;32m<ipython-input-10-0d0cae220db6>\u001b[0m in \u001b[0;36m<module>\u001b[0;34m()\u001b[0m\n\u001b[1;32m      2\u001b[0m \u001b[0mdata\u001b[0m\u001b[0;34m=\u001b[0m\u001b[0mpandas\u001b[0m\u001b[0;34m.\u001b[0m\u001b[0mread_csv\u001b[0m\u001b[0;34m(\u001b[0m\u001b[0;34m'/Users/martinbecuwe/Documents/ENSAE 3A/Semestre 1 3A ENSAE/Semi and non parametric/SemiAndNonPara/StudentsPerformance.csv'\u001b[0m\u001b[0;34m)\u001b[0m\u001b[0;34m\u001b[0m\u001b[0m\n\u001b[1;32m      3\u001b[0m \u001b[0mdata\u001b[0m\u001b[0;34m.\u001b[0m\u001b[0mdescribe\u001b[0m\u001b[0;34m(\u001b[0m\u001b[0;34m)\u001b[0m\u001b[0;34m\u001b[0m\u001b[0m\n\u001b[0;32m----> 4\u001b[0;31m \u001b[0mdim\u001b[0m\u001b[0;34m(\u001b[0m\u001b[0mdata\u001b[0m\u001b[0;34m)\u001b[0m\u001b[0;34m\u001b[0m\u001b[0m\n\u001b[0m\u001b[1;32m      5\u001b[0m \u001b[0;31m#Valeurs manquantes?\u001b[0m\u001b[0;34m\u001b[0m\u001b[0;34m\u001b[0m\u001b[0m\n\u001b[1;32m      6\u001b[0m \u001b[0;34m\u001b[0m\u001b[0m\n",
      "\u001b[0;31mNameError\u001b[0m: name 'dim' is not defined"
     ]
    }
   ],
   "source": [
    "#Import data \n",
    "data=pandas.read_csv('/Users/martinbecuwe/Documents/ENSAE 3A/Semestre 1 3A ENSAE/Semi and non parametric/SemiAndNonPara/StudentsPerformance.csv')\n",
    "data.describe()\n",
    "\n",
    "#Je conserve que variables qualitatives pour l'exemple\n",
    "data=data.iloc[:,5:8]\n",
    "\n",
    "\n",
    "#Valeurs manquantes?\n",
    "#???\n",
    "\n",
    "### Transformer valeurs quali en quantitatives\n",
    "#???\n",
    "\n",
    "#Algorithm 1 (Implementation for Parametric and Series Estimation).\n",
    "#1.(1) Set Gammatil(n) ≡ 1−0.1/logn. Simulate a large number R of draws denoted Z1,...,ZR \n",
    "#from the K-variate standard normal distribution N (0,IK). \n",
    "\n",
    "n=len(data)\n",
    "R=500 # A changer?\n",
    "\n",
    "K=10 # Différentes valeurs de ?? a changer donc\n",
    "\n",
    "\n",
    "Z=np.random.multivariate_normal(0, np.identity(3))\n",
    "\n",
    "\n",
    "\n",
    "\n",
    "\n",
    "# (2) Compute Ω􏰜n, a consistent estimator for the large\n",
    "#samplevarianceof√n􏰉β􏰜 −β 􏰊. \n",
    "#(3)Foreachv∈V,computeg􏰜(v)=p (v)′Ω􏰜1/2 andset √nn nn\n",
    "# sn(v) = ∥g􏰜(v)∥/ n. \n",
    "#    (4) Compute kn,V( γ ̃ n ) = γ ̃ n − q u a n t i l e o f { s u p 􏰁 g􏰜 ( v ) ′ Z r / ∥ g􏰜 ( v ) ∥ 􏰂 , r = 1 , . . . , R } , a n d\n",
    "#v∈V\n",
    "#V􏰜 n = { v ∈ V : θ􏰜 n ( v ) ≤ m i n 􏰉 θ􏰜 n ( v ) + k n , V ( γ ̃ n ) s n ( v ) 􏰊 + 2 k n , V ( γ ̃ n ) s n ( v ) } ,\n",
    "#v∈V\n",
    "#kn,V􏰜n (p)=p−quantileof 􏰕sup􏰁g􏰜(v)′Zr/∥g􏰜(v)∥􏰂,r=1,...,R􏰖,andset\n",
    "\n",
    "\n",
    "\n",
    "\n"
   ]
  },
  {
   "cell_type": "code",
   "execution_count": 28,
   "metadata": {},
   "outputs": [
    {
     "ename": "ValueError",
     "evalue": "mean must be 1 dimensional",
     "output_type": "error",
     "traceback": [
      "\u001b[0;31m---------------------------------------------------------------------------\u001b[0m",
      "\u001b[0;31mValueError\u001b[0m                                Traceback (most recent call last)",
      "\u001b[0;32m<ipython-input-28-4029dee8c7cd>\u001b[0m in \u001b[0;36m<module>\u001b[0;34m()\u001b[0m\n\u001b[1;32m      1\u001b[0m \u001b[0;34m\u001b[0m\u001b[0m\n\u001b[1;32m      2\u001b[0m \u001b[0mmean\u001b[0m\u001b[0;34m=\u001b[0m\u001b[0;36m0\u001b[0m\u001b[0;34m\u001b[0m\u001b[0m\n\u001b[0;32m----> 3\u001b[0;31m \u001b[0mZ\u001b[0m\u001b[0;34m=\u001b[0m\u001b[0mnp\u001b[0m\u001b[0;34m.\u001b[0m\u001b[0mrandom\u001b[0m\u001b[0;34m.\u001b[0m\u001b[0mmultivariate_normal\u001b[0m\u001b[0;34m(\u001b[0m\u001b[0mmean\u001b[0m\u001b[0;34m,\u001b[0m \u001b[0mnp\u001b[0m\u001b[0;34m.\u001b[0m\u001b[0midentity\u001b[0m\u001b[0;34m(\u001b[0m\u001b[0;36m1\u001b[0m\u001b[0;34m)\u001b[0m\u001b[0;34m)\u001b[0m\u001b[0;34m\u001b[0m\u001b[0m\n\u001b[0m\u001b[1;32m      4\u001b[0m \u001b[0mZ\u001b[0m\u001b[0;34m\u001b[0m\u001b[0m\n",
      "\u001b[0;32mmtrand.pyx\u001b[0m in \u001b[0;36mmtrand.RandomState.multivariate_normal\u001b[0;34m()\u001b[0m\n",
      "\u001b[0;31mValueError\u001b[0m: mean must be 1 dimensional"
     ]
    }
   ],
   "source": [
    "\n",
    "mean=0\n",
    "Z=np.random.multivariate_normal(mean, np.identity(1))\n",
    "Z"
   ]
  },
  {
   "cell_type": "code",
   "execution_count": 32,
   "metadata": {},
   "outputs": [
    {
     "data": {
      "text/plain": [
       "array([ 0.42451645, -1.2788692 ])"
      ]
     },
     "execution_count": 32,
     "metadata": {},
     "output_type": "execute_result"
    }
   ],
   "source": [
    "\n",
    "Z=np.random.multivariate_normal(mean=[0,0], cov=[[1,0],[0,1]])\n",
    "Z\n"
   ]
  },
  {
   "cell_type": "code",
   "execution_count": null,
   "metadata": {},
   "outputs": [],
   "source": [
    "\n",
    "n=10000\n",
    "mean=np.zeros(n)\n",
    "cov=np.identity(n)\n",
    "Z=np.random.multivariate_normal(mean, cov)\n",
    "sum(Z)/1000"
   ]
  },
  {
   "cell_type": "code",
   "execution_count": 36,
   "metadata": {},
   "outputs": [
    {
     "data": {
      "text/plain": [
       "numpy.ndarray"
      ]
     },
     "execution_count": 36,
     "metadata": {},
     "output_type": "execute_result"
    }
   ],
   "source": [
    "type(mean)"
   ]
  },
  {
   "cell_type": "code",
   "execution_count": 38,
   "metadata": {},
   "outputs": [
    {
     "data": {
      "text/plain": [
       "array([[0.42451645, 1.2788692 ]])"
      ]
     },
     "execution_count": 38,
     "metadata": {},
     "output_type": "execute_result"
    }
   ],
   "source": [
    "np.empty(shape=[1, 2])s"
   ]
  },
  {
   "cell_type": "code",
   "execution_count": null,
   "metadata": {},
   "outputs": [],
   "source": []
  }
 ],
 "metadata": {
  "kernelspec": {
   "display_name": "Python 3",
   "language": "python",
   "name": "python3"
  },
  "language_info": {
   "codemirror_mode": {
    "name": "ipython",
    "version": 3
   },
   "file_extension": ".py",
   "mimetype": "text/x-python",
   "name": "python",
   "nbconvert_exporter": "python",
   "pygments_lexer": "ipython3",
   "version": "3.6.5"
  }
 },
 "nbformat": 4,
 "nbformat_minor": 2
}
