{
 "cells": [
  {
   "cell_type": "code",
   "execution_count": 1,
   "metadata": {
    "collapsed": true
   },
   "outputs": [],
   "source": [
    "#On télecharge les packages dont on va avoir besoin\n",
    "import selenium #pip install selenium\n",
    "from selenium import webdriver\n",
    "from selenium.webdriver.common.keys import Keys\n",
    "from selenium.webdriver.common.by import By  \n",
    "import time\n",
    "#BeautifulSoup , Request et Pandas\n",
    "import urllib\n",
    "import bs4\n",
    "from urllib import request\n",
    "import pandas \n",
    "#pour les graphiques\n",
    "#%matplotlib inline\n",
    "import matplotlib.pyplot as plt\n",
    "import numpy as np\n",
    "import pandas as pd\n",
    "import collections\n",
    "import time\n",
    "from selenium.webdriver.support.ui import Select\n",
    "import csv\n",
    "from datetime import datetime"
   ]
  },
  {
   "cell_type": "code",
   "execution_count": 100,
   "metadata": {
    "collapsed": false
   },
   "outputs": [],
   "source": [
    "#Fatigue\n",
    "date=collections.defaultdict(list)\n",
    "date2=collections.defaultdict(list)\n",
    "path_to_chromedriver = '/Users/Martin/Desktop/NSM/Paris/chromedriver' # change path as needed\n",
    "browser = webdriver.Chrome(executable_path = path_to_chromedriver)\n",
    "browser.implicitly_wait(6)\n",
    "listeclubsannée=[]\n",
    "clubs=[]\n",
    "listeannée=[]\n",
    "#2016 est 2015-2016\n",
    "années=['2014','2015','2016','2017','2018']\n",
    "championnat=['eng-premier-league','ita-serie-a','esp-primera-division']\n",
    "#championnat=['fra-ligue-1','eng-premier-league','ita-serie-a','esp-primera-division']\n",
    "#championnat=['esp-primera-division']\n",
    "\n",
    "       \n",
    "for champ in championnat:\n",
    "       for année in années:\n",
    "            if champ=='esp-primera-division':\n",
    "                if année=='2017':\n",
    "                    url='http://www.worldfootball.net/schedule/'+str(champ)+'-'+str(int(année)-1)+'-'+str(année)+'-spieltag_2/38/'\n",
    "                else:\n",
    "                    url='http://www.worldfootball.net/schedule/'+str(champ)+'-'+str(int(année)-1)+'-'+str(année)+'-spieltag/38/'\n",
    "            else:\n",
    "                url='http://www.worldfootball.net/schedule/'+str(champ)+'-'+str(int(année)-1)+'-'+str(année)+'-spieltag/38/'\n",
    "            browser.get(url)\n",
    "            for equipe in range(2,22):\n",
    "                bb=browser.find_element_by_xpath('//*[@id=\"site\"]/div[3]/div[1]/div/div[7]/div/table[1]/tbody/tr['+str(equipe)+']/td[3]/a').text\n",
    "                clubs.append(bb)\n",
    "                listeannée.append(année)\n",
    "                \n",
    "for ioo in range(int(len(clubs))):\n",
    "    clubs1=clubs[ioo]\n",
    "    clubs1=clubs1.replace(' ','-')\n",
    "    clubs1=clubs1.replace('é','e')\n",
    "    clubs1=clubs1.replace('É','E')\n",
    "    clubs1=clubs1.replace('á','a')\n",
    "    clubs1=clubs1.replace('í','i')\n",
    "    clubs1=clubs1.replace('ó','o')\n",
    "    clubs1=clubs1.replace('ñ','n')\n",
    "    clubs1=clubs1.replace('&-','')\n",
    "    année1=listeannée[ioo]\n",
    "    time.sleep(3)\n",
    "    url='http://www.worldfootball.net/teams/'+str(clubs1)+'/'+str(année1)+'/3/'\n",
    "    browser.get(url)\n",
    "    a=browser.find_element_by_xpath('//*[@id=\"site\"]/div[3]/div[1]/div/div[3]/div/table').text\n",
    "    clubsannée=str(clubs1)+' '+str(année1)\n",
    "    \n",
    "    nn=a.split(' ')\n",
    "    for ii in range(int(len(nn))):\n",
    "        année11=int(année1)\n",
    "        année21=int(année1)-1\n",
    "        if str(année11) in nn[ii] or str(année21) in nn[ii]:\n",
    "            if 'Round' not in nn[ii]:\n",
    "                nnn=nn[ii].split('/')\n",
    "                jour=nnn[0]\n",
    "                mois=nnn[1]\n",
    "                année22=nnn[2]\n",
    "                datedate=datetime(year=int(année22),month=int(mois),day=int(jour)).date()\n",
    "                date[clubsannée].append(datedate)\n",
    "                listeclubsannée.append(clubsannée)\n",
    "                pathfut='/Users/Martin/Documents/ENSAE/Scrape/Résultat scraping/Fatigue/'+str(clubsannée)\n",
    "                date[clubsannée]=sorted(date[clubsannée])\n",
    "                date2[clubsannée] = pd.DataFrame(np.array(date[clubsannée]).reshape(int(len(date[clubsannée])),1))\n",
    "                date2[clubsannée].to_csv(pathfut+'.csv')\n",
    "\n"
   ]
  },
  {
   "cell_type": "code",
   "execution_count": 99,
   "metadata": {
    "collapsed": false
   },
   "outputs": [
    {
     "name": "stdout",
     "output_type": "stream",
     "text": [
      "['Paris Saint-Germain', 'AS Monaco', 'Lille OSC', 'AS Saint-Étienne', 'Olympique Lyon', 'Olympique Marseille', 'Girondins Bordeaux', 'FC Lorient', 'Toulouse FC', 'SC Bastia', 'Stade Reims', 'Stade Rennes', 'FC Nantes', 'Évian Thonon Gaillard', 'Montpellier HSC', 'EA Guingamp', 'OGC Nice', 'FC Sochaux', 'Valenciennes FC', 'AC Ajaccio', 'Paris Saint-Germain', 'Olympique Lyon', 'AS Monaco', 'Olympique Marseille', 'AS Saint-Étienne', 'Girondins Bordeaux', 'Montpellier HSC', 'Lille OSC', 'Stade Rennes', 'EA Guingamp', 'OGC Nice', 'SC Bastia', 'SM Caen', 'FC Nantes', 'Stade Reims', 'FC Lorient', 'Toulouse FC', 'Évian Thonon Gaillard', 'FC Metz', 'RC Lens', 'Paris Saint-Germain', 'Olympique Lyon', 'AS Monaco', 'OGC Nice', 'Lille OSC', 'AS Saint-Étienne', 'SM Caen', 'Stade Rennes', 'Angers SCO', 'SC Bastia', 'Girondins Bordeaux', 'Montpellier HSC', 'Olympique Marseille', 'FC Nantes', 'FC Lorient', 'EA Guingamp', 'Toulouse FC', 'Stade Reims', 'GFC Ajaccio', 'ESTAC Troyes', 'AS Monaco', 'Paris Saint-Germain', 'OGC Nice', 'Olympique Lyon', 'Olympique Marseille', 'Girondins Bordeaux', 'FC Nantes', 'AS Saint-Étienne', 'Stade Rennes', 'EA Guingamp', 'Lille OSC', 'Angers SCO', 'Toulouse FC', 'FC Metz', 'Montpellier HSC', 'Dijon FCO', 'SM Caen', 'FC Lorient', 'AS Nancy', 'SC Bastia', 'Paris Saint-Germain', 'AS Monaco', 'Olympique Lyon', 'Olympique Marseille', 'Stade Rennes', 'Girondins Bordeaux', 'AS Saint-Étienne', 'OGC Nice', 'FC Nantes', 'Montpellier HSC', 'Dijon FCO', 'EA Guingamp', 'Amiens SC', 'Angers SCO', 'RC Strasbourg', 'SM Caen', 'Lille OSC', 'Toulouse FC', 'ESTAC Troyes', 'FC Metz', 'Manchester City', 'Liverpool FC', 'Chelsea FC', 'Arsenal FC', 'Everton FC', 'Tottenham Hotspur', 'Manchester United', 'Southampton FC', 'Stoke City', 'Newcastle United', 'Crystal Palace', 'Swansea City', 'West Ham United', 'Sunderland AFC', 'Aston Villa', 'Hull City', 'West Bromwich Albion', 'Norwich City', 'Fulham FC', 'Cardiff City', 'Chelsea FC', 'Manchester City', 'Arsenal FC', 'Manchester United', 'Tottenham Hotspur', 'Liverpool FC', 'Southampton FC', 'Swansea City', 'Stoke City', 'Crystal Palace', 'Everton FC', 'West Ham United', 'West Bromwich Albion', 'Leicester City', 'Newcastle United', 'Sunderland AFC', 'Aston Villa', 'Hull City', 'Burnley FC', 'Queens Park Rangers', 'Leicester City', 'Arsenal FC', 'Tottenham Hotspur', 'Manchester City', 'Manchester United', 'Southampton FC', 'West Ham United', 'Liverpool FC', 'Stoke City', 'Chelsea FC', 'Everton FC', 'Swansea City', 'Watford FC', 'West Bromwich Albion', 'Crystal Palace', 'AFC Bournemouth', 'Sunderland AFC', 'Newcastle United', 'Norwich City', 'Aston Villa', 'Chelsea FC', 'Tottenham Hotspur', 'Manchester City', 'Liverpool FC', 'Arsenal FC', 'Manchester United', 'Everton FC', 'Southampton FC', 'AFC Bournemouth', 'West Bromwich Albion', 'West Ham United', 'Leicester City', 'Stoke City', 'Crystal Palace', 'Swansea City', 'Burnley FC', 'Watford FC', 'Hull City', 'Middlesbrough FC', 'Sunderland AFC', 'Manchester City', 'Manchester United', 'Tottenham Hotspur', 'Liverpool FC', 'Chelsea FC', 'Arsenal FC', 'Burnley FC', 'Everton FC', 'Leicester City', 'Newcastle United', 'Crystal Palace', 'AFC Bournemouth', 'West Ham United', 'Watford FC', 'Brighton & Hove Albion', 'Huddersfield Town', 'Southampton FC', 'Swansea City', 'Stoke City', 'West Bromwich Albion', 'Juventus', 'AS Roma', 'SSC Napoli', 'ACF Fiorentina', 'Inter', 'Parma FC', 'Torino FC', 'AC Milan', 'Lazio Roma', 'Hellas Verona', 'Atalanta', 'Sampdoria', 'Udinese Calcio', 'Genoa CFC', 'Cagliari Calcio', 'Chievo Verona', 'Sassuolo Calcio', 'Calcio Catania', 'Bologna FC', 'AS Livorno', 'Juventus', 'AS Roma', 'Lazio Roma', 'ACF Fiorentina', 'SSC Napoli', 'Genoa CFC', 'Sampdoria', 'Inter', 'Torino FC', 'AC Milan', 'US Palermo', 'Sassuolo Calcio', 'Hellas Verona', 'Chievo Verona', 'Empoli FC', 'Udinese Calcio', 'Atalanta', 'Cagliari Calcio', 'AC Cesena', 'Parma FC', 'Juventus', 'SSC Napoli', 'AS Roma', 'Inter', 'ACF Fiorentina', 'Sassuolo Calcio', 'AC Milan', 'Lazio Roma', 'Chievo Verona', 'Empoli FC', 'Genoa CFC', 'Torino FC', 'Atalanta', 'Bologna FC', 'Sampdoria', 'US Palermo', 'Udinese Calcio', 'Carpi FC', 'Frosinone Calcio', 'Hellas Verona', 'Juventus', 'AS Roma', 'SSC Napoli', 'Atalanta', 'Lazio Roma', 'AC Milan', 'Inter', 'ACF Fiorentina', 'Torino FC', 'Sampdoria', 'Cagliari Calcio', 'Sassuolo Calcio', 'Udinese Calcio', 'Chievo Verona', 'Bologna FC', 'Genoa CFC', 'FC Crotone', 'Empoli FC', 'US Palermo', 'Pescara Calcio', 'Juventus', 'SSC Napoli', 'AS Roma', 'Inter', 'Lazio Roma', 'AC Milan', 'Atalanta', 'ACF Fiorentina', 'Torino FC', 'Sampdoria', 'Sassuolo Calcio', 'Genoa CFC', 'Chievo Verona', 'Udinese Calcio', 'Bologna FC', 'Cagliari Calcio', 'SPAL 2013 Ferrara', 'FC Crotone', 'Hellas Verona', 'Benevento Calcio', 'Atlético Madrid', 'FC Barcelona', 'Real Madrid', 'Athletic Bilbao', 'Sevilla FC', 'Villarreal CF', 'Real Sociedad', 'Valencia CF', 'Celta Vigo', 'Levante UD', 'Málaga CF', 'Rayo Vallecano', 'Getafe CF', 'Espanyol Barcelona', 'Granada CF', 'Elche CF', 'UD Almería', 'CA Osasuna', 'Real Valladolid', 'Real Betis', 'FC Barcelona', 'Real Madrid', 'Atlético Madrid', 'Valencia CF', 'Sevilla FC', 'Villarreal CF', 'Athletic Bilbao', 'Celta Vigo', 'Málaga CF', 'Espanyol Barcelona', 'Rayo Vallecano', 'Real Sociedad', 'Elche CF', 'Levante UD', 'Getafe CF', 'Deportivo La Coruña', 'Granada CF', 'SD Eibar', 'UD Almería', 'Córdoba CF', 'FC Barcelona', 'Real Madrid', 'Atlético Madrid', 'Villarreal CF', 'Athletic Bilbao', 'Celta Vigo', 'Sevilla FC', 'Málaga CF', 'Real Sociedad', 'Real Betis', 'UD Las Palmas', 'Valencia CF', 'Espanyol Barcelona', 'SD Eibar', 'Deportivo La Coruña', 'Granada CF', 'Sporting Gijón', 'Rayo Vallecano', 'Getafe CF', 'Levante UD', 'Real Madrid', 'FC Barcelona', 'Atlético Madrid', 'Sevilla FC', 'Villarreal CF', 'Real Sociedad', 'Athletic Bilbao', 'Espanyol Barcelona', 'CD Alavés', 'SD Eibar', 'Málaga CF', 'Valencia CF', 'Celta Vigo', 'UD Las Palmas', 'Real Betis', 'Deportivo La Coruña', 'CD Leganés', 'Sporting Gijón', 'CA Osasuna', 'Granada CF', 'FC Barcelona', 'Atlético Madrid', 'Real Madrid', 'Valencia CF', 'Villarreal CF', 'Real Betis', 'Sevilla FC', 'Getafe CF', 'SD Eibar', 'Girona FC', 'Espanyol Barcelona', 'Real Sociedad', 'Celta Vigo', 'CD Alavés', 'Levante UD', 'Athletic Bilbao', 'CD Leganés', 'Deportivo La Coruña', 'UD Las Palmas', 'Málaga CF']\n"
     ]
    }
   ],
   "source": [
    "print(clubs)\n"
   ]
  },
  {
   "cell_type": "code",
   "execution_count": null,
   "metadata": {
    "collapsed": false
   },
   "outputs": [],
   "source": []
  },
  {
   "cell_type": "code",
   "execution_count": null,
   "metadata": {
    "collapsed": false
   },
   "outputs": [],
   "source": []
  },
  {
   "cell_type": "code",
   "execution_count": null,
   "metadata": {
    "collapsed": false
   },
   "outputs": [],
   "source": []
  },
  {
   "cell_type": "code",
   "execution_count": null,
   "metadata": {
    "collapsed": false
   },
   "outputs": [],
   "source": []
  },
  {
   "cell_type": "code",
   "execution_count": null,
   "metadata": {
    "collapsed": true
   },
   "outputs": [],
   "source": []
  }
 ],
 "metadata": {
  "kernelspec": {
   "display_name": "Python [Root]",
   "language": "python",
   "name": "Python [Root]"
  },
  "language_info": {
   "codemirror_mode": {
    "name": "ipython",
    "version": 3
   },
   "file_extension": ".py",
   "mimetype": "text/x-python",
   "name": "python",
   "nbconvert_exporter": "python",
   "pygments_lexer": "ipython3",
   "version": "3.5.2"
  }
 },
 "nbformat": 4,
 "nbformat_minor": 0
}
