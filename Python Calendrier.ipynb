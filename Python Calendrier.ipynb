{
 "cells": [
  {
   "cell_type": "code",
   "execution_count": 110,
   "metadata": {
    "collapsed": true
   },
   "outputs": [],
   "source": [
    "#On télecharge les packages dont on va avoir besoin\n",
    "import selenium #pip install selenium\n",
    "from selenium import webdriver\n",
    "from selenium.webdriver.common.keys import Keys\n",
    "from selenium.webdriver.common.by import By  \n",
    "import time\n",
    "#BeautifulSoup , Request et Pandas\n",
    "import urllib\n",
    "import bs4\n",
    "from urllib import request\n",
    "import pandas \n",
    "#pour les graphiques\n",
    "#%matplotlib inline\n",
    "import matplotlib.pyplot as plt\n",
    "import numpy as np\n",
    "import pandas as pd\n",
    "import collections\n",
    "import time\n",
    "from selenium.webdriver.support.ui import Select\n",
    "import csv\n",
    "from datetime import datetime"
   ]
  },
  {
   "cell_type": "code",
   "execution_count": 167,
   "metadata": {
    "collapsed": false
   },
   "outputs": [],
   "source": [
    "#https://www.scoreboard.com/en/soccer/france/ligue-1-2013-2014/results/\n",
    "\n",
    "\n",
    "listecalendar=['France 13-14','France 14-15','France 15-16','France 16-17','France 17-18',\n",
    "              'Angleterre 13-14','Angleterre 14-15','Angleterre 15-16','Angleterre 16-17','Angleterre 17-18',\n",
    "               'Espagne 13-14','Espagne 14-15','Espagne 15-16','Espagne 16-17','Espagne 17-18',\n",
    "               'Italie 13-14','Italie 14-15','Italie 15-16','Italie 16-17','Italie 17-18']\n",
    "               \n",
    "               \n",
    "for calendar in listecalendar:\n",
    "    r=pandas.read_excel('/Users/Martin/Documents/ENSAE/Scrape/Résultat scraping/Calendrier/'+str(calendar)+'.xlsx',header=None)\n",
    "    r=r[r.columns[0]]\n",
    "    numeromatch=0\n",
    "    \n",
    "    for i in range(8,int(len(r))):\n",
    "        r[i]=str(r[i])\n",
    "    for i in range(8,int(len(r)-4)):\n",
    "        if 'Round ' in r[i]:\n",
    "            journée=r[i].replace('Round ','')\n",
    "        rr=i+1\n",
    "        if 'Round ' not in r[rr]:\n",
    "            numeromatch=numeromatch+1\n",
    "            date=r[rr].split(' ')[0]\n",
    "            date2=date.split('.')\n",
    "            année2=calendar.split(' ')[1]\n",
    "            if int(len(date2))==3:\n",
    "                jour=int(date2[0])\n",
    "                mois=int(date2[1])\n",
    "                if mois>7:\n",
    "                    année='20'+str(année2.split('-')[0])\n",
    "                else:\n",
    "                    année='20'+str(année2.split('-')[1])\n",
    "                date1=datetime(year=int(année), month=int(mois), day=int(jour)).date()\n",
    "            equipe1=r[rr+1]\n",
    "            equipe2=r[rr+2]\n",
    "            score=r[rr+3].split(':')\n",
    "            if score[0]=='-':\n",
    "                score1='-'\n",
    "                score2='-'\n",
    "            if int(len(score))==3:\n",
    "                score1=int(score[0])\n",
    "                score2=int(score[1])\n",
    "            matchproxy[numeromatch]=[str(journée),str(date1),str(equipe1),str(equipe2),str(score1),str(score2)]\n",
    "            #matchproxy[numeromatch].append(journée)\n",
    "            #matchproxy[numeromatch].append(date1)\n",
    "            #matchproxy[numeromatch].append(equipe1)\n",
    "            #matchproxy[numeromatch].append(equipe2)\n",
    "            #matchproxy[numeromatch].append(score1)\n",
    "            #matchproxy[numeromatch].append(score2)\n",
    "            rr=rr+4\n",
    "    for rr in range(380):\n",
    "        ri=1+4*rr\n",
    "        matchs[rr]=matchproxy[ri]\n",
    "    df = pd.DataFrame.from_dict(matchs)\n",
    "    df=df.transpose()\n",
    "    pathfut='/Users/Martin/Documents/ENSAE/Scrape/Résultat scraping/Résultats calendrier/'+str(calendar)\n",
    "    df.to_csv(pathfut+'.csv')"
   ]
  },
  {
   "cell_type": "code",
   "execution_count": null,
   "metadata": {
    "collapsed": false
   },
   "outputs": [],
   "source": []
  },
  {
   "cell_type": "code",
   "execution_count": null,
   "metadata": {
    "collapsed": false
   },
   "outputs": [],
   "source": []
  },
  {
   "cell_type": "code",
   "execution_count": null,
   "metadata": {
    "collapsed": false
   },
   "outputs": [],
   "source": []
  },
  {
   "cell_type": "code",
   "execution_count": null,
   "metadata": {
    "collapsed": false
   },
   "outputs": [],
   "source": []
  },
  {
   "cell_type": "code",
   "execution_count": null,
   "metadata": {
    "collapsed": false
   },
   "outputs": [],
   "source": []
  },
  {
   "cell_type": "code",
   "execution_count": null,
   "metadata": {
    "collapsed": true
   },
   "outputs": [],
   "source": []
  }
 ],
 "metadata": {
  "anaconda-cloud": {},
  "kernelspec": {
   "display_name": "Python [Root]",
   "language": "python",
   "name": "Python [Root]"
  },
  "language_info": {
   "codemirror_mode": {
    "name": "ipython",
    "version": 3
   },
   "file_extension": ".py",
   "mimetype": "text/x-python",
   "name": "python",
   "nbconvert_exporter": "python",
   "pygments_lexer": "ipython3",
   "version": "3.5.2"
  }
 },
 "nbformat": 4,
 "nbformat_minor": 0
}
