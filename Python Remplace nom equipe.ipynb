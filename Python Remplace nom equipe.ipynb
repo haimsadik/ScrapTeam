{
 "cells": [
  {
   "cell_type": "code",
   "execution_count": 1,
   "metadata": {
    "collapsed": true
   },
   "outputs": [],
   "source": [
    "#On télecharge les packages dont on va avoir besoin\n",
    "import selenium #pip install selenium\n",
    "from selenium import webdriver\n",
    "from selenium.webdriver.common.keys import Keys\n",
    "from selenium.webdriver.common.by import By  \n",
    "import time\n",
    "#BeautifulSoup , Request et Pandas\n",
    "import urllib\n",
    "import bs4\n",
    "from urllib import request\n",
    "import pandas \n",
    "#pour les graphiques\n",
    "#%matplotlib inline\n",
    "import matplotlib.pyplot as plt\n",
    "import numpy as np\n",
    "import pandas as pd\n",
    "import collections\n",
    "import time\n",
    "from selenium.webdriver.support.ui import Select\n",
    "import csv"
   ]
  },
  {
   "cell_type": "code",
   "execution_count": 30,
   "metadata": {
    "collapsed": false
   },
   "outputs": [
    {
     "ename": "AttributeError",
     "evalue": "'list' object has no attribute 'replace'",
     "output_type": "error",
     "traceback": [
      "\u001b[0;31m---------------------------------------------------------------------------\u001b[0m",
      "\u001b[0;31mAttributeError\u001b[0m                            Traceback (most recent call last)",
      "\u001b[0;32m<ipython-input-30-6dc6190f4441>\u001b[0m in \u001b[0;36m<module>\u001b[0;34m()\u001b[0m\n\u001b[1;32m      7\u001b[0m         \u001b[0ma\u001b[0m\u001b[0;34m.\u001b[0m\u001b[0mreplace\u001b[0m\u001b[0;34m(\u001b[0m\u001b[0moo\u001b[0m\u001b[0;34m[\u001b[0m\u001b[0moo\u001b[0m\u001b[0;34m.\u001b[0m\u001b[0mcolumns\u001b[0m\u001b[0;34m[\u001b[0m\u001b[0;36m1\u001b[0m\u001b[0;34m]\u001b[0m\u001b[0;34m]\u001b[0m\u001b[0;34m[\u001b[0m\u001b[0mii\u001b[0m\u001b[0;34m]\u001b[0m\u001b[0;34m,\u001b[0m\u001b[0moo\u001b[0m\u001b[0;34m[\u001b[0m\u001b[0moo\u001b[0m\u001b[0;34m.\u001b[0m\u001b[0mcolumns\u001b[0m\u001b[0;34m[\u001b[0m\u001b[0;36m2\u001b[0m\u001b[0;34m]\u001b[0m\u001b[0;34m]\u001b[0m\u001b[0;34m[\u001b[0m\u001b[0mii\u001b[0m\u001b[0;34m]\u001b[0m\u001b[0;34m)\u001b[0m\u001b[0;34m\u001b[0m\u001b[0m\n\u001b[1;32m      8\u001b[0m         \u001b[0;32mreturn\u001b[0m \u001b[0ma\u001b[0m\u001b[0;34m\u001b[0m\u001b[0m\n\u001b[0;32m----> 9\u001b[0;31m \u001b[0mprint\u001b[0m\u001b[0;34m(\u001b[0m\u001b[0mremplacewhoscored\u001b[0m\u001b[0;34m(\u001b[0m\u001b[0maa\u001b[0m\u001b[0;34m)\u001b[0m\u001b[0;34m)\u001b[0m\u001b[0;34m\u001b[0m\u001b[0m\n\u001b[0m",
      "\u001b[0;32m<ipython-input-30-6dc6190f4441>\u001b[0m in \u001b[0;36mremplacewhoscored\u001b[0;34m(a)\u001b[0m\n\u001b[1;32m      5\u001b[0m \u001b[0;32mdef\u001b[0m \u001b[0mremplacewhoscored\u001b[0m\u001b[0;34m(\u001b[0m\u001b[0ma\u001b[0m\u001b[0;34m)\u001b[0m\u001b[0;34m:\u001b[0m\u001b[0;34m\u001b[0m\u001b[0m\n\u001b[1;32m      6\u001b[0m     \u001b[0;32mfor\u001b[0m \u001b[0mii\u001b[0m \u001b[0;32min\u001b[0m \u001b[0mrange\u001b[0m\u001b[0;34m(\u001b[0m\u001b[0mint\u001b[0m\u001b[0;34m(\u001b[0m\u001b[0mlen\u001b[0m\u001b[0;34m(\u001b[0m\u001b[0moo\u001b[0m\u001b[0;34m)\u001b[0m\u001b[0;34m)\u001b[0m\u001b[0;34m)\u001b[0m\u001b[0;34m:\u001b[0m\u001b[0;34m\u001b[0m\u001b[0m\n\u001b[0;32m----> 7\u001b[0;31m         \u001b[0ma\u001b[0m\u001b[0;34m.\u001b[0m\u001b[0mreplace\u001b[0m\u001b[0;34m(\u001b[0m\u001b[0moo\u001b[0m\u001b[0;34m[\u001b[0m\u001b[0moo\u001b[0m\u001b[0;34m.\u001b[0m\u001b[0mcolumns\u001b[0m\u001b[0;34m[\u001b[0m\u001b[0;36m1\u001b[0m\u001b[0;34m]\u001b[0m\u001b[0;34m]\u001b[0m\u001b[0;34m[\u001b[0m\u001b[0mii\u001b[0m\u001b[0;34m]\u001b[0m\u001b[0;34m,\u001b[0m\u001b[0moo\u001b[0m\u001b[0;34m[\u001b[0m\u001b[0moo\u001b[0m\u001b[0;34m.\u001b[0m\u001b[0mcolumns\u001b[0m\u001b[0;34m[\u001b[0m\u001b[0;36m2\u001b[0m\u001b[0;34m]\u001b[0m\u001b[0;34m]\u001b[0m\u001b[0;34m[\u001b[0m\u001b[0mii\u001b[0m\u001b[0;34m]\u001b[0m\u001b[0;34m)\u001b[0m\u001b[0;34m\u001b[0m\u001b[0m\n\u001b[0m\u001b[1;32m      8\u001b[0m         \u001b[0;32mreturn\u001b[0m \u001b[0ma\u001b[0m\u001b[0;34m\u001b[0m\u001b[0m\n\u001b[1;32m      9\u001b[0m \u001b[0mprint\u001b[0m\u001b[0;34m(\u001b[0m\u001b[0mremplacewhoscored\u001b[0m\u001b[0;34m(\u001b[0m\u001b[0maa\u001b[0m\u001b[0;34m)\u001b[0m\u001b[0;34m)\u001b[0m\u001b[0;34m\u001b[0m\u001b[0m\n",
      "\u001b[0;31mAttributeError\u001b[0m: 'list' object has no attribute 'replace'"
     ]
    }
   ],
   "source": [
    "### REMPLACER WHOSCORED ###\n",
    "\n",
    "uu1=[]\n",
    "refwhoscored=['France 1415','Italie 1213']\n",
    "dico1=collections.defaultdict(list)\n",
    "dico2=collections.defaultdict(list)\n",
    "listerefdico=[]\n",
    "\n",
    "\n",
    "remplacerwhoscored=pandas.read_excel('/Users/Martin/Documents/ENSAE/Scrape/Résultat scraping corrigé/RemplacerWhoScored1.xls')\n",
    "ooo=remplacerwhoscored\n",
    "for refwhoscored1 in refwhoscored:\n",
    "    dff = pandas.read_excel('/Users/Martin/Documents/ENSAE/Scrape/Résultat scraping/WhoScored/'+str(refwhoscored1)+'.xls',header=None)\n",
    "    for ref in dff[0]:\n",
    "        oo=pandas.read_csv('/Users/Martin/Documents/ENSAE/Scrape/Résultat scraping/WhoScored/'+str(refwhoscored1)+'/'+str(ref))\n",
    "        aaa=[]\n",
    "        for ii in range(int(len(oo))):\n",
    "            for trtr in range(int(len(remplacerwhoscored[remplacerwhoscored.columns[1]]))):\n",
    "                t=str(oo[oo.columns[1]][ii]).replace(ooo[ooo.columns[1]][trtr],ooo[ooo.columns[2]][trtr])\n",
    "                ref=ref.replace(ooo[ooo.columns[1]][trtr],ooo[ooo.columns[2]][trtr])\n",
    "            aaa.append(t)\n",
    "        dd=aaa\n",
    "        pathfut='/Users/Martin/Documents/ENSAE/Scrape/Résultat scraping corrigé/WhoScored1/'+str(refwhoscored1)+'/'+str(ref)\n",
    "        dd = pd.DataFrame(np.array(dd).reshape(int(len(dd)),1))\n",
    "        dd.to_csv(pathfut)\n",
    "        \n",
    "        \n",
    "        \n",
    "        "
   ]
  },
  {
   "cell_type": "code",
   "execution_count": null,
   "metadata": {
    "collapsed": false
   },
   "outputs": [],
   "source": [
    "uu1=[]\n",
    "refwhoscored=['France 1415','Italie 1213']\n",
    "dico1=collections.defaultdict(list)\n",
    "dico2=collections.defaultdict(list)\n",
    "listerefdico=[]\n",
    "\n",
    "\n",
    "remplacerwhoscored=pandas.read_excel('/Users/Martin/Documents/ENSAE/Scrape/Résultat scraping corrigé/RemplacerWhoScored1.xls')\n",
    "ooo=remplacerwhoscored\n",
    "for refwhoscored1 in refwhoscored:\n",
    "    dff = pandas.read_excel('/Users/Martin/Documents/ENSAE/Scrape/Résultat scraping/WhoScored/'+str(refwhoscored1)+'.xls',header=None)\n",
    "    for ref in dff[0]:\n",
    "        oo=pandas.read_csv('/Users/Martin/Documents/ENSAE/Scrape/Résultat scraping/WhoScored/'+str(refwhoscored1)+'/'+str(ref))\n",
    "        aaa=[]\n",
    "        for ii in range(int(len(oo))):\n",
    "            t=str(oo[oo.columns[1]][ii])\n",
    "            ref2=ref\n",
    "            for trtr in range(int(len(remplacerwhoscored[remplacerwhoscored.columns[1]]))):\n",
    "                t=t.replace(ooo[ooo.columns[1]][trtr],ooo[ooo.columns[2]][trtr])\n",
    "                ref2=ref2.replace(ooo[ooo.columns[1]][trtr],ooo[ooo.columns[2]][trtr])\n",
    "            aaa.append(t)\n",
    "        dd=aaa\n",
    "        pathfut='/Users/Martin/Documents/ENSAE/Scrape/Résultat scraping corrigé/WhoScored1/'+str(refwhoscored1)+'/'+str(ref2)\n",
    "        dd = pd.DataFrame(np.array(dd).reshape(int(len(dd)),1))\n",
    "        dd.to_csv(pathfut)\n",
    "        \n",
    "        "
   ]
  },
  {
   "cell_type": "code",
   "execution_count": 41,
   "metadata": {
    "collapsed": false
   },
   "outputs": [
    {
     "name": "stdout",
     "output_type": "stream",
     "text": [
      "    Unnamed: 0                      0\n",
      "0            0               Bordeaux\n",
      "1            1                 Monaco\n",
      "2            2           Willy Sagnol\n",
      "3            3        Leonardo Jardim\n",
      "4            4                      4\n",
      "5            5                      1\n",
      "6            6                      0\n",
      "7            7                      1\n",
      "8            8                   7.03\n",
      "9            9                   6.21\n",
      "10          10                     10\n",
      "11          11                      9\n",
      "12          12                   46.6\n",
      "13          13                   53.4\n",
      "14          14               compodom\n",
      "15          15                    6.4\n",
      "16          16               Carrasso\n",
      "17          17                    6.7\n",
      "18          18                Faubert\n",
      "19          19                    8.2\n",
      "20          20                   Sané\n",
      "21          21                    7.2\n",
      "22          22                Pallois\n",
      "23          23                    7.3\n",
      "24          24               Contento\n",
      "25          25                    8.7\n",
      "26          26                  Rolan\n",
      "27          27                    7.1\n",
      "28          28                 Sertic\n",
      "29          29                    8.6\n",
      "..         ...                    ...\n",
      "44          44                    5.9\n",
      "45          45              Abdennour\n",
      "46          46                    6.4\n",
      "47          47              Echiéjilé\n",
      "48          48                    6.5\n",
      "49          49               Toulalan\n",
      "50          50                    6.0\n",
      "51          51              Kondogbia\n",
      "52          52                    6.7\n",
      "53          53               Moutinho\n",
      "54          54                    6.7\n",
      "55          55                Ocampos\n",
      "56          56                    7.3\n",
      "57          57               Berbatov\n",
      "58          58                    6.9\n",
      "59          59                Germain\n",
      "60          60                Missdom\n",
      "61          61       Henri Saivet 6.4\n",
      "62          62      Abdou Traoré 6.36\n",
      "63          63     Théo Pellenard N/A\n",
      "64          64                Missext\n",
      "65          65  Ricardo Carvalho 7.02\n",
      "66          66                      0\n",
      "67          67                     50\n",
      "68          68                      1\n",
      "69          69                      1\n",
      "70          70                     50\n",
      "71          71                      0\n",
      "72          72                      0\n",
      "73          73                      2\n",
      "\n",
      "[74 rows x 2 columns]\n"
     ]
    },
    {
     "data": {
      "text/plain": [
       "'a23'"
      ]
     },
     "execution_count": 41,
     "metadata": {},
     "output_type": "execute_result"
    }
   ],
   "source": [
    "oo=pandas.read_csv('/Users/Martin/Documents/ENSAE/Scrape/Résultat scraping/WhoScored/'+str(refwhoscored1)+'/'+str(ref))\n",
    "print(oo)\n",
    "trtr=22\n",
    "str(oo[oo.columns[1]][1]).replace(ooo[ooo.columns[1]][trtr],ooo[ooo.columns[2]][trtr])"
   ]
  },
  {
   "cell_type": "code",
   "execution_count": 42,
   "metadata": {
    "collapsed": false
   },
   "outputs": [
    {
     "name": "stdout",
     "output_type": "stream",
     "text": [
      "['Bordeaux', 'Monaco', 'Willy Sagnol', 'Leonardo Jardim', '4', '1', '0', '1']\n"
     ]
    }
   ],
   "source": [
    "print(aaa)"
   ]
  },
  {
   "cell_type": "code",
   "execution_count": null,
   "metadata": {
    "collapsed": true
   },
   "outputs": [],
   "source": []
  }
 ],
 "metadata": {
  "kernelspec": {
   "display_name": "Python [Root]",
   "language": "python",
   "name": "Python [Root]"
  },
  "language_info": {
   "codemirror_mode": {
    "name": "ipython",
    "version": 3
   },
   "file_extension": ".py",
   "mimetype": "text/x-python",
   "name": "python",
   "nbconvert_exporter": "python",
   "pygments_lexer": "ipython3",
   "version": "3.5.2"
  }
 },
 "nbformat": 4,
 "nbformat_minor": 0
}
