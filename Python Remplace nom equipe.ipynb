{
 "cells": [
  {
   "cell_type": "code",
   "execution_count": 1,
   "metadata": {
    "collapsed": true
   },
   "outputs": [],
   "source": [
    "#On télecharge les packages dont on va avoir besoin\n",
    "import selenium #pip install selenium\n",
    "from selenium import webdriver\n",
    "from selenium.webdriver.common.keys import Keys\n",
    "from selenium.webdriver.common.by import By  \n",
    "import time\n",
    "#BeautifulSoup , Request et Pandas\n",
    "import urllib\n",
    "import bs4\n",
    "from urllib import request\n",
    "import pandas \n",
    "#pour les graphiques\n",
    "#%matplotlib inline\n",
    "import matplotlib.pyplot as plt\n",
    "import numpy as np\n",
    "import pandas as pd\n",
    "import collections\n",
    "import time\n",
    "from selenium.webdriver.support.ui import Select\n",
    "import csv"
   ]
  },
  {
   "cell_type": "code",
   "execution_count": 30,
   "metadata": {
    "collapsed": false
   },
   "outputs": [
    {
     "ename": "AttributeError",
     "evalue": "'list' object has no attribute 'replace'",
     "output_type": "error",
     "traceback": [
      "\u001b[0;31m---------------------------------------------------------------------------\u001b[0m",
      "\u001b[0;31mAttributeError\u001b[0m                            Traceback (most recent call last)",
      "\u001b[0;32m<ipython-input-30-6dc6190f4441>\u001b[0m in \u001b[0;36m<module>\u001b[0;34m()\u001b[0m\n\u001b[1;32m      7\u001b[0m         \u001b[0ma\u001b[0m\u001b[0;34m.\u001b[0m\u001b[0mreplace\u001b[0m\u001b[0;34m(\u001b[0m\u001b[0moo\u001b[0m\u001b[0;34m[\u001b[0m\u001b[0moo\u001b[0m\u001b[0;34m.\u001b[0m\u001b[0mcolumns\u001b[0m\u001b[0;34m[\u001b[0m\u001b[0;36m1\u001b[0m\u001b[0;34m]\u001b[0m\u001b[0;34m]\u001b[0m\u001b[0;34m[\u001b[0m\u001b[0mii\u001b[0m\u001b[0;34m]\u001b[0m\u001b[0;34m,\u001b[0m\u001b[0moo\u001b[0m\u001b[0;34m[\u001b[0m\u001b[0moo\u001b[0m\u001b[0;34m.\u001b[0m\u001b[0mcolumns\u001b[0m\u001b[0;34m[\u001b[0m\u001b[0;36m2\u001b[0m\u001b[0;34m]\u001b[0m\u001b[0;34m]\u001b[0m\u001b[0;34m[\u001b[0m\u001b[0mii\u001b[0m\u001b[0;34m]\u001b[0m\u001b[0;34m)\u001b[0m\u001b[0;34m\u001b[0m\u001b[0m\n\u001b[1;32m      8\u001b[0m         \u001b[0;32mreturn\u001b[0m \u001b[0ma\u001b[0m\u001b[0;34m\u001b[0m\u001b[0m\n\u001b[0;32m----> 9\u001b[0;31m \u001b[0mprint\u001b[0m\u001b[0;34m(\u001b[0m\u001b[0mremplacewhoscored\u001b[0m\u001b[0;34m(\u001b[0m\u001b[0maa\u001b[0m\u001b[0;34m)\u001b[0m\u001b[0;34m)\u001b[0m\u001b[0;34m\u001b[0m\u001b[0m\n\u001b[0m",
      "\u001b[0;32m<ipython-input-30-6dc6190f4441>\u001b[0m in \u001b[0;36mremplacewhoscored\u001b[0;34m(a)\u001b[0m\n\u001b[1;32m      5\u001b[0m \u001b[0;32mdef\u001b[0m \u001b[0mremplacewhoscored\u001b[0m\u001b[0;34m(\u001b[0m\u001b[0ma\u001b[0m\u001b[0;34m)\u001b[0m\u001b[0;34m:\u001b[0m\u001b[0;34m\u001b[0m\u001b[0m\n\u001b[1;32m      6\u001b[0m     \u001b[0;32mfor\u001b[0m \u001b[0mii\u001b[0m \u001b[0;32min\u001b[0m \u001b[0mrange\u001b[0m\u001b[0;34m(\u001b[0m\u001b[0mint\u001b[0m\u001b[0;34m(\u001b[0m\u001b[0mlen\u001b[0m\u001b[0;34m(\u001b[0m\u001b[0moo\u001b[0m\u001b[0;34m)\u001b[0m\u001b[0;34m)\u001b[0m\u001b[0;34m)\u001b[0m\u001b[0;34m:\u001b[0m\u001b[0;34m\u001b[0m\u001b[0m\n\u001b[0;32m----> 7\u001b[0;31m         \u001b[0ma\u001b[0m\u001b[0;34m.\u001b[0m\u001b[0mreplace\u001b[0m\u001b[0;34m(\u001b[0m\u001b[0moo\u001b[0m\u001b[0;34m[\u001b[0m\u001b[0moo\u001b[0m\u001b[0;34m.\u001b[0m\u001b[0mcolumns\u001b[0m\u001b[0;34m[\u001b[0m\u001b[0;36m1\u001b[0m\u001b[0;34m]\u001b[0m\u001b[0;34m]\u001b[0m\u001b[0;34m[\u001b[0m\u001b[0mii\u001b[0m\u001b[0;34m]\u001b[0m\u001b[0;34m,\u001b[0m\u001b[0moo\u001b[0m\u001b[0;34m[\u001b[0m\u001b[0moo\u001b[0m\u001b[0;34m.\u001b[0m\u001b[0mcolumns\u001b[0m\u001b[0;34m[\u001b[0m\u001b[0;36m2\u001b[0m\u001b[0;34m]\u001b[0m\u001b[0;34m]\u001b[0m\u001b[0;34m[\u001b[0m\u001b[0mii\u001b[0m\u001b[0;34m]\u001b[0m\u001b[0;34m)\u001b[0m\u001b[0;34m\u001b[0m\u001b[0m\n\u001b[0m\u001b[1;32m      8\u001b[0m         \u001b[0;32mreturn\u001b[0m \u001b[0ma\u001b[0m\u001b[0;34m\u001b[0m\u001b[0m\n\u001b[1;32m      9\u001b[0m \u001b[0mprint\u001b[0m\u001b[0;34m(\u001b[0m\u001b[0mremplacewhoscored\u001b[0m\u001b[0;34m(\u001b[0m\u001b[0maa\u001b[0m\u001b[0;34m)\u001b[0m\u001b[0;34m)\u001b[0m\u001b[0;34m\u001b[0m\u001b[0m\n",
      "\u001b[0;31mAttributeError\u001b[0m: 'list' object has no attribute 'replace'"
     ]
    }
   ],
   "source": [
    "### REMPLACER WHOSCORED ###\n",
    "\n",
    "uu1=[]\n",
    "refwhoscored=['France 1415','Italie 1213']\n",
    "\n",
    "\n",
    "remplacerwhoscored=pandas.read_excel('/Users/Martin/Documents/ENSAE/Scrape/Résultat scraping corrigé/RemplacerWhoScored1.xls')\n",
    "ooo=remplacerwhoscored\n",
    "for refwhoscored1 in refwhoscored:\n",
    "    dff = pandas.read_excel('/Users/Martin/Documents/ENSAE/Scrape/Résultat scraping/WhoScored/'+str(refwhoscored1)+'.xls',header=None)\n",
    "    for ref in dff[0]:\n",
    "        oo=pandas.read_csv('/Users/Martin/Documents/ENSAE/Scrape/Résultat scraping/WhoScored/'+str(refwhoscored1)+'/'+str(ref))\n",
    "        aaa=[]\n",
    "        for ii in range(int(len(oo))):\n",
    "            t=str(oo[oo.columns[1]][ii])\n",
    "            ref2=ref\n",
    "            for trtr in range(int(len(remplacerwhoscored[remplacerwhoscored.columns[1]]))):\n",
    "                t=t.replace(ooo[ooo.columns[1]][trtr],ooo[ooo.columns[2]][trtr])\n",
    "                ref2=ref2.replace(ooo[ooo.columns[1]][trtr],ooo[ooo.columns[2]][trtr])\n",
    "            aaa.append(t)\n",
    "        dd=aaa\n",
    "        pathfut='/Users/Martin/Documents/ENSAE/Scrape/Résultat scraping corrigé/WhoScored1/'+str(refwhoscored1)+'/'+str(ref2)\n",
    "        dd = pd.DataFrame(np.array(dd).reshape(int(len(dd)),1))\n",
    "        dd.to_csv(pathfut)\n",
    "        \n",
    "### Remplacer calendrier ###        \n",
    "        \n",
    "uu1=[]\n",
    "refcalendrier=['France 14-15','Italie 13-14']\n",
    "dico1=collections.defaultdict(list)\n",
    "dico2=collections.defaultdict(list)\n",
    "listerefdico=[]\n",
    "\n",
    "\n",
    "remplacercalendrier=pandas.read_excel('/Users/Martin/Documents/ENSAE/Scrape/Résultat scraping corrigé/RemplacerCalendrier1.xls')\n",
    "ooo=remplacercalendrier\n",
    "for calendrier1 in refcalendrier:\n",
    "    \n",
    "    \n",
    "    dff = pandas.read_csv('/Users/Martin/Documents/ENSAE/Scrape/Résultat scraping/Résultats calendrier/'+str(calendrier1)+'.csv',header=None)\n",
    "    for ii in range(int(len(ooo))):\n",
    "        dff=dff.replace(ooo[ooo.columns[1]][ii],ooo[ooo.columns[2]][ii])\n",
    "    pathfut='/Users/Martin/Documents/ENSAE/Scrape/Résultat scraping corrigé/Résultats calendrier1/'+str(calendrier1)\n",
    "    dff.to_csv(pathfut+'.csv')\n",
    "    \n",
    "### Remplacer Fatigue ###\n",
    "\n",
    "reffatigue=pandas.read_csv('/Users/Martin/Documents/ENSAE/Scrape/Résultat scraping/listefatigue.csv',header=None)\n",
    "pourremplacerfatigue=pandas.read_excel('/Users/Martin/Documents/ENSAE/Scrape/Résultat scraping corrigé/RemplacerFatigue1.xls')\n",
    "oo=pourremplacerfatigue\n",
    "for ii in reffatigue[0]:\n",
    "    ref=str(ii)\n",
    "    yt=pandas.read_csv('/Users/Martin/Documents/ENSAE/Scrape/Résultat scraping/Fatigue/'+str(ii))\n",
    "    for i in range(int(len(oo))):\n",
    "        ref=ref.replace(oo[oo.columns[1]][i],oo[oo.columns[2]][i])\n",
    "    dd=yt\n",
    "    pathfut='/Users/Martin/Documents/ENSAE/Scrape/Résultat scraping corrigé/Fatigue1/'+str(ref)\n",
    "    #dd = pd.DataFrame(np.array(dd).reshape(int(len(dd)),1))\n",
    "    dd.to_csv(pathfut)\n",
    "\n",
    "\n",
    "### Remplacer EquipeFUT ###\n",
    "\n",
    "remplacerequipeFUT=pandas.read_excel('/Users/Martin/Documents/ENSAE/Scrape/Résultat scraping corrigé/RemplacerEquipeFUT1.xls')\n",
    "listeequipeFUT=pandas.read_excel('/Users/Martin/Documents/ENSAE/Scrape/Résultat scraping/listeequipeFUT.xls',header=None)\n",
    "aa=listeequipeFUT\n",
    "oo=remplacerequipeFUT\n",
    "for ref1 in aa[0]:\n",
    "    dff=pandas.read_csv('/Users/Martin/Documents/ENSAE/Scrape/Résultat scraping/EquipeFUT/'+str(ref1),header=None)\n",
    "    ref=ref1\n",
    "    for i in range(int(len(oo))):\n",
    "        ref=ref.replace(oo[oo.columns[1]][i]+' 1',oo[oo.columns[2]][i]+' 1')\n",
    "    dd=dff\n",
    "    pathfut='/Users/Martin/Documents/ENSAE/Scrape/Résultat scraping corrigé/EquipeFUT1/'+str(ref)\n",
    "    #dd = pd.DataFrame(np.array(dd).reshape(int(len(dd)),1))\n",
    "    dd.to_csv(pathfut)\n",
    "\n",
    "\n"
   ]
  },
  {
   "cell_type": "code",
   "execution_count": 93,
   "metadata": {
    "collapsed": false
   },
   "outputs": [],
   "source": [
    "\n",
    "\n",
    "\n"
   ]
  },
  {
   "cell_type": "code",
   "execution_count": 84,
   "metadata": {
    "collapsed": false
   },
   "outputs": [
    {
     "name": "stdout",
     "output_type": "stream",
     "text": [
      "                                0 Unnamed: 1\n",
      "0                    0,AC Ajaccio         a1\n",
      "1                     1,AS Monaco         a2\n",
      "2    2,AS Monaco Football Club SA         a3\n",
      "3                      3,AS Nancy         a4\n",
      "4             4,AS Nancy Lorraine         a5\n",
      "5             5,AS Saint-E_tienne         a6\n",
      "6              6,AS Saint-Etienne         a7\n",
      "7                     7,Amiens SC         a8\n",
      "8                    8,Angers SCO         a9\n",
      "9                       9,Arsenal        a10\n",
      "10                 10,Aston Villa        a11\n",
      "11                    11,Atalanta        a12\n",
      "12             12,Athletic Bilbao        a13\n",
      "13     13,Athletic Club de Bilbao        a14\n",
      "14            14,Atle_tico Madrid        a15\n",
      "15         15,Atle_tico de Madrid        a16\n",
      "16                   16,Benevento        a17\n",
      "17                     17,Bologna        a18\n",
      "18                    18,Bordeaux        a19\n",
      "19                 19,Bournemouth        a20\n",
      "20        20,Brighton Hove Albion        a21\n",
      "21                     21,Burnley        a22\n",
      "22                  22,CA Osasuna        a23\n",
      "23                 23,CD Legane_s        a24\n",
      "24                    24,Cagliari        a25\n",
      "25                25,Cardiff City        a26\n",
      "26                       26,Carpi        a27\n",
      "27                     27,Catania        a28\n",
      "28                  28,Celta Vigo        a29\n",
      "29                      29,Cesena        a30\n",
      "..                            ...        ...\n",
      "127               127,Southampton       a128\n",
      "128   128,Sporting Club de Bastia       a129\n",
      "129           129,Sporting Gijo_n       a130\n",
      "130                     130,Spurs       a131\n",
      "131            131,Stade Brestois       a132\n",
      "132       132,Stade Malherbe Caen       a133\n",
      "133               133,Stade Reims       a134\n",
      "134             134,Stade Rennais       a135\n",
      "135          135,Stade Rennais FC       a136\n",
      "136            136,Stade de Reims       a137\n",
      "137                137,Stoke City       a138\n",
      "138                138,Sunderland       a139\n",
      "139              139,Swansea City       a140\n",
      "140                    140,Torino       a141\n",
      "141         141,Tottenham Hotspur       a142\n",
      "142               142,Toulouse FC       a143\n",
      "143              143,Toulouse FC        a144\n",
      "144    144,Toulouse Football Club       a145\n",
      "145               145,UD Almeri_a       a146\n",
      "146             146,UD Las Palmas       a147\n",
      "147                   147,Udinese       a148\n",
      "148               148,Valencia CF       a149\n",
      "149           149,Valenciennes FC       a150\n",
      "150             150,Villarreal CF       a151\n",
      "151                   151,Watford       a152\n",
      "152                 152,West Brom       a153\n",
      "153      153,West Bromwich Albion       a154\n",
      "154                  154,West Ham       a155\n",
      "155           155,West Ham United       a156\n",
      "156            156,Wigan Athletic       a157\n",
      "\n",
      "[157 rows x 2 columns]\n"
     ]
    }
   ],
   "source": [
    "print(oo)"
   ]
  },
  {
   "cell_type": "code",
   "execution_count": 70,
   "metadata": {
    "collapsed": false
   },
   "outputs": [
    {
     "data": {
      "text/plain": [
       "'Paris-Saint-Germain 2014.csv'"
      ]
     },
     "execution_count": 70,
     "metadata": {},
     "output_type": "execute_result"
    }
   ],
   "source": [
    "ii"
   ]
  },
  {
   "cell_type": "code",
   "execution_count": 94,
   "metadata": {
    "collapsed": false
   },
   "outputs": [
    {
     "ename": "NameError",
     "evalue": "name 'a_' is not defined",
     "output_type": "error",
     "traceback": [
      "\u001b[0;31m---------------------------------------------------------------------------\u001b[0m",
      "\u001b[0;31mNameError\u001b[0m                                 Traceback (most recent call last)",
      "\u001b[0;32m<ipython-input-94-2e078504b5f1>\u001b[0m in \u001b[0;36m<module>\u001b[0;34m()\u001b[0m\n\u001b[0;32m----> 1\u001b[0;31m \u001b[0ma\u001b[0m\u001b[0;34m=\u001b[0m\u001b[0ma_\u001b[0m\u001b[0;34m+\u001b[0m\u001b[0;36m1\u001b[0m\u001b[0;34m\u001b[0m\u001b[0m\n\u001b[0m",
      "\u001b[0;31mNameError\u001b[0m: name 'a_' is not defined"
     ]
    }
   ],
   "source": [
    "a=a_+1"
   ]
  },
  {
   "cell_type": "code",
   "execution_count": 95,
   "metadata": {
    "collapsed": true
   },
   "outputs": [],
   "source": [
    "a=2"
   ]
  },
  {
   "cell_type": "code",
   "execution_count": 96,
   "metadata": {
    "collapsed": false
   },
   "outputs": [
    {
     "name": "stdout",
     "output_type": "stream",
     "text": [
      "2\n"
     ]
    }
   ],
   "source": [
    "r=a\n",
    "print(r)"
   ]
  },
  {
   "cell_type": "code",
   "execution_count": null,
   "metadata": {
    "collapsed": true
   },
   "outputs": [],
   "source": []
  }
 ],
 "metadata": {
  "anaconda-cloud": {},
  "kernelspec": {
   "display_name": "Python [Root]",
   "language": "python",
   "name": "Python [Root]"
  },
  "language_info": {
   "codemirror_mode": {
    "name": "ipython",
    "version": 3
   },
   "file_extension": ".py",
   "mimetype": "text/x-python",
   "name": "python",
   "nbconvert_exporter": "python",
   "pygments_lexer": "ipython3",
   "version": "3.5.2"
  }
 },
 "nbformat": 4,
 "nbformat_minor": 0
}
