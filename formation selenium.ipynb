{
 "cells": [
  {
   "cell_type": "code",
   "execution_count": 1,
   "metadata": {
    "collapsed": true
   },
   "outputs": [],
   "source": [
    "#https://www.football-lineups.com/lineup/398035/\n",
    "\n",
    "#On télecharge les packages dont on va avoir besoin\n",
    "import selenium #pip install selenium\n",
    "from selenium import webdriver\n",
    "from selenium.webdriver.common.keys import Keys\n",
    "from selenium.webdriver.common.by import By  \n",
    "import time\n",
    "#BeautifulSoup , Request et Pandas\n",
    "import urllib\n",
    "import bs4\n",
    "from urllib import request\n",
    "import pandas \n",
    "#pour les graphiques\n",
    "%matplotlib inline\n",
    "import matplotlib.pyplot as plt\n",
    "import numpy as np\n",
    "import pandas as pd\n"
   ]
  },
  {
   "cell_type": "code",
   "execution_count": 24,
   "metadata": {
    "collapsed": false
   },
   "outputs": [],
   "source": [
    "browser = webdriver.Chrome(\"/Users/Martin/Desktop/NSM/Paris/chromedriver\")\n",
    "browser.get('https://www.bing.com/news')\n"
   ]
  },
  {
   "cell_type": "code",
   "execution_count": 14,
   "metadata": {
    "collapsed": false
   },
   "outputs": [],
   "source": [
    "\n",
    "# on cherche l'endroit oÃ¹ on peut remplir un formulaire en utilisant les outils du navigateur > inspecter les Ã©lÃ©ments de la page\n",
    "# on voit que la barre de recherche est un Ã©lement du code appelÃ© 'q' comme query\n",
    "# on lui demande de chercher cet Ã©lÃ©ment\n",
    "search = browser.find_element_by_name('q')\n",
    "\n",
    "# on envoie Ã  cet endroit le mot qu'on aurait tapÃ© dans la barre de recherche\n",
    "search.send_keys(\"alstom\")\n",
    "\n",
    "# on appuie sur le bouton \"EntrÃ©e\" Return en anglais\n",
    "search.send_keys(Keys.RETURN) \n",
    "\n",
    "\n"
   ]
  },
  {
   "cell_type": "code",
   "execution_count": 16,
   "metadata": {
    "collapsed": false
   },
   "outputs": [
    {
     "name": "stdout",
     "output_type": "stream",
     "text": [
      "['http://www.railwaysafrica.com/news/alstom-foundation-inaugurates-new-welding-school-in-duduza', 'http://www.engineeringnews.co.za/article/alstom-opens-new-welding-school-in-duduza-2018-01-31', 'http://www.railjournal.com/index.php/middle-east/alstom-rolls-out-first-citadis-for-lusail-lrt.html', 'https://uk.reuters.com/article/uk-alstom-siemens-unions/french-trade-unions-voice-opposition-to-alstom-siemens-tie-up-deal-idUKKBN1FJ1VE?feedType=RSS&feedName=businessNews', 'https://www.theengineer.co.uk/alstom-autonomous-train-technology/', 'https://www.msn.com/en-ie/news/other/alstom-to-test-automated-freight-train-in-the-netherlands/ar-AAv1EOM', 'http://www.4-traders.com/ALSTOM-4607/news/Alstom-Hornell-thinking-green-25844793/', 'http://www.hydrogenfuelnews.com/alstom-to-bring-trains-equipped-with-fuel-cells-to-germany/8533954/', 'http://www.4-traders.com/ALSTOM-4607/news/Alstom-offsets-environmental-impact-of-Hornell-activities-25836086/', 'http://www.bbc.co.uk/news/technology-42782287', 'https://www.globalrailwayreview.com/news/65637/alstom-automatic-train-operation-test/', 'http://www.railwaysafrica.com/news/alstom-ships-the-first-coradia-polyvalent-for-algerias-sntf', 'http://www.raillynews.com/2018/alstom-will-adapt-signalling-system-future-extension-line-9-sao-paulo-metro/', 'http://www.raillynews.com/2018/alstom-perform-automatic-train-operation-test-drive-prorail-rrf-betuweroute-netherlands/', 'http://www.masstransitmag.com/press_release/12392227/alstom-ships-the-first-coradia-polyvalent-for-the-sntf-in-algeria', 'https://www.msn.com/en-gb/news/techandscience/alstom-testing-automated-freight-train/ar-AAv1WqU', 'https://www.globalrailwayreview.com/news/65564/sntf-algeria-first-coradia-polyvalent-alstom/', 'http://www.railjournal.com/index.php/freight/alstom-to-test-ato-in-the-netherlands.html', 'https://hardware.slashdot.org/story/18/01/23/173246/french-train-engineering-giant-alstom-testing-automated-freight-train', 'https://finance.yahoo.com/news/global-railway-automatic-brake-pad-191500910.html', 'http://www.itsforhome.com/pub/index.php/2018/01/29/Global-Smart-Grid-TD-Equipment-Market-2018-ABB-GE-Alstom-Grid-Eaton-Schneider-Electric/', 'http://www.itsforhome.com/pub/index.php/2018/01/24/Smart-Grid-Market-by-Top-Manufacturers-Itron-Cisco-Silver-Spring-ELO-Alstom-SandT-AG-ABB/', 'http://www.railjournal.com/index.php/middle-east/alstom-rolls-out-first-citadis-for-lusail-lrt.html', 'http://www.railwaysafrica.com/news/alstom-foundation-inaugurates-new-welding-school-in-duduza', 'https://www.nyoooz.com/news/chennai/1021761/for-metro-rail-phase-ii-it-will-be-japanese-technology-all-the-way/', 'http://www.theamericanconservative.com/articles/forget-davos-elites-trumps-protectionism-is-a-threat-to-his-own-voters/', 'http://indianexpress.com/article/business/business-others/bharat-salhotra-interview-gst-rate-on-rolling-stock-inputs-may-discourage-domestic-manufacturing-5045462/', 'https://uk.reuters.com/article/us-alstom-siemens-unions/french-trade-unions-voice-opposition-to-alstom-siemens-tie-up-deal-idUKKBN1FJ1RI']\n"
     ]
    }
   ],
   "source": [
    "\n",
    "# On extrait les rÃ©sultats.\n",
    "links = browser.find_elements_by_xpath(\"//div/a[@class='title'][@href]\")\n",
    "\n",
    "results = []\n",
    "for link in links:\n",
    "    url = link.get_attribute('href')\n",
    "    results.append(url)\n",
    "\n",
    "len(results)\n",
    "browser.quit()\n",
    "\n",
    "print(results)"
   ]
  },
  {
   "cell_type": "code",
   "execution_count": 17,
   "metadata": {
    "collapsed": true
   },
   "outputs": [],
   "source": [
    "\n",
    "import time\n",
    "from selenium import webdriver\n",
    "\n",
    "\n",
    "def get_news_specific_dates (beg_date, end_date, subject, hl = \"fr\", gl = \"fr\", tbm = \"nws\", authuser = \"0\") :\n",
    "    '''Permet d obtenir pour une requete donnÃ©e et un intervalle temporel\n",
    "    prÃ©cis les 10 premiers rÃ©sultats \n",
    "    d articles de presse parus sur le sujet'''\n",
    "    get_string = 'https://www.google.com/search?hl={}&gl={}&tbm={}&authuser={}&q={}&tbs=cdr%3A1%2Ccd_min%3A{}%2Ccd_max%3A{}&tbm={}'.format(hl,gl,tbm,authuser,subject,beg_date,end_date,tbm)\n",
    "    print(get_string)\n",
    "    browser.get(get_string)\n",
    "    \n",
    "    # La class peut changer si Google met Ã  jour le style de sa page.\n",
    "    # Cela arrive rÃ©guliÃ¨rement. Dans ce cas, il faut utiliser des\n",
    "    # outils de dÃ©buggage web (Chrome - Outils de dÃ©veloppement)\n",
    "    links = browser.find_elements_by_xpath(\"//h3[@class='r _gJs']/a[@href]\")\n",
    "\n",
    "    results = []\n",
    "    for link in links:\n",
    "        url = link.get_attribute('href')\n",
    "        results.append(url)\n",
    "    browser.quit()    \n",
    "    return results\n"
   ]
  },
  {
   "cell_type": "code",
   "execution_count": 20,
   "metadata": {
    "collapsed": false
   },
   "outputs": [
    {
     "name": "stdout",
     "output_type": "stream",
     "text": [
      "https://www.google.com/search?hl=fr&gl=fr&tbm=nws&authuser=0&q=sociÃ©tÃ© gÃ©nÃ©rale jerome kerviel&tbs=cdr%3A1%2Ccd_min%3A5/1/2015%2Ccd_max%3A5/31/2015&tbm=nws\n",
      "['http://theconversation.com/we-all-lose-from-banker-greed-so-its-time-to-remove-conflicts-42174']\n"
     ]
    }
   ],
   "source": [
    "browser = webdriver.Chrome(\"/Users/Martin/Desktop/NSM/Paris/chromedriver\")\n",
    "\n",
    "articles_mai_2015 = get_news_specific_dates(\"5/1/2015\",\"5/31/2015\",\"sociÃ©tÃ© gÃ©nÃ©rale jerome kerviel\",hl=\"fr\")\n",
    "\n",
    "print(articles_mai_2015)"
   ]
  },
  {
   "cell_type": "code",
   "execution_count": 22,
   "metadata": {
    "collapsed": false
   },
   "outputs": [],
   "source": [
    "\n",
    "# ### Utiliser selenium pour jouer Ã  2048\n",
    "# \n",
    "# Dans cet exemple, on utilise le module pour que python appuie lui mÃªme sur les touches du clavier afin de jouer Ã  2048.\n",
    "# \n",
    "# Note : ce bout de code ne donne pas une solution Ã  2048, il permet juste de voir ce qu'on peut faire avec selenium\n",
    "\n",
    "from selenium import webdriver\n",
    "from selenium.webdriver.common.keys import Keys\n",
    "\n",
    "# on ouvre la page internet du jeu 2048\n",
    "\n",
    "browser = webdriver.Chrome(\"/Users/Martin/Desktop/NSM/Paris/chromedriver\")\n",
    "browser.get('https://gabrielecirulli.github.io/2048/')\n"
   ]
  },
  {
   "cell_type": "code",
   "execution_count": 23,
   "metadata": {
    "collapsed": false
   },
   "outputs": [
    {
     "name": "stdout",
     "output_type": "stream",
     "text": [
      "Score final : 408 en 73 coups\n"
     ]
    }
   ],
   "source": [
    "\n",
    "# Ce qu'on va faire : une boucle qui rÃ©pÃ¨te inlassablement la mÃªme chose : haut / droite / bas / gauche\n",
    "\n",
    "# on commence par cliquer sur la page pour que les touches sachent \n",
    "browser.find_element_by_class_name('grid-container').click()\n",
    "grid = browser.find_element_by_tag_name('body')\n",
    "\n",
    "# pour savoir quels coups faire Ã  quel moment, on crÃ©e un dictionnaire\n",
    "direction = {0: Keys.UP, 1: Keys.RIGHT, 2: Keys.DOWN, 3: Keys.LEFT}\n",
    "count = 0\n",
    "\n",
    "while True:\n",
    "    try: # on vÃ©rifie que le bouton \"Try again\" n'est pas lÃ  - sinon Ã§a veut dire que le jeu est fini\n",
    "        retryButton = browser.find_element_by_link_text('Try again')\n",
    "        scoreElem = browser.find_element_by_class_name('score-container')\n",
    "        break\n",
    "    except:\n",
    "        #Do nothing.  Game is not over yet\n",
    "        pass\n",
    "    # on continue le jeu - on appuie sur la touche suivante pour le coup d'aprÃ¨s\n",
    "    count += 1\n",
    "    grid.send_keys(direction[count % 4]) \n",
    "    time.sleep(0.1)\n",
    "\n",
    "print('Score final : {} en {} coups'.format(scoreElem.text, count))    \n",
    "browser.quit()\n",
    "\n"
   ]
  },
  {
   "cell_type": "code",
   "execution_count": 25,
   "metadata": {
    "collapsed": true
   },
   "outputs": [],
   "source": [
    "\n",
    "# ### Utiliser selenium pour jouer Ã  2048\n",
    "# \n",
    "# Dans cet exemple, on utilise le module pour que python appuie lui mÃªme sur les touches du clavier afin de jouer Ã  2048.\n",
    "# \n",
    "# Note : ce bout de code ne donne pas une solution Ã  2048, il permet juste de voir ce qu'on peut faire avec selenium\n",
    "\n",
    "from selenium import webdriver\n",
    "from selenium.webdriver.common.keys import Keys\n",
    "\n",
    "# on ouvre la page internet du jeu 2048\n",
    "\n",
    "browser = webdriver.Chrome(\"/Users/Martin/Desktop/NSM/Paris/chromedriver\")\n",
    "browser.get('https://www.football-lineups.com/match/266655/')\n",
    "\n",
    "search = browser.find_element_by_name\n"
   ]
  },
  {
   "cell_type": "code",
   "execution_count": null,
   "metadata": {
    "collapsed": true
   },
   "outputs": [],
   "source": []
  }
 ],
 "metadata": {
  "anaconda-cloud": {},
  "kernelspec": {
   "display_name": "Python [Root]",
   "language": "python",
   "name": "Python [Root]"
  },
  "language_info": {
   "codemirror_mode": {
    "name": "ipython",
    "version": 3
   },
   "file_extension": ".py",
   "mimetype": "text/x-python",
   "name": "python",
   "nbconvert_exporter": "python",
   "pygments_lexer": "ipython3",
   "version": "3.5.2"
  }
 },
 "nbformat": 4,
 "nbformat_minor": 0
}
