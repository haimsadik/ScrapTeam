{
 "cells": [
  {
   "cell_type": "code",
   "execution_count": 3,
   "metadata": {
    "collapsed": true
   },
   "outputs": [],
   "source": [
    "#On télecharge les packages dont on va avoir besoin\n",
    "import selenium #pip install selenium\n",
    "from selenium import webdriver\n",
    "from selenium.webdriver.common.keys import Keys\n",
    "from selenium.webdriver.common.by import By  \n",
    "import time\n",
    "#BeautifulSoup , Request et Pandas\n",
    "import urllib\n",
    "import bs4\n",
    "from urllib import request\n",
    "import pandas \n",
    "#pour les graphiques\n",
    "%matplotlib inline\n",
    "import matplotlib.pyplot as plt\n",
    "import numpy as np\n",
    "import pandas as pd\n",
    "import collections\n",
    "import time\n"
   ]
  },
  {
   "cell_type": "code",
   "execution_count": 4,
   "metadata": {
    "collapsed": false
   },
   "outputs": [],
   "source": [
    "path_to_chromedriver = '/Users/Martin/Desktop/NSM/Paris/chromedriver' # change path as needed\n",
    "browser = webdriver.Chrome(executable_path = path_to_chromedriver)\n",
    "\n",
    "url = 'https://www.whoscored.com/Regions/74/Tournaments/22/Seasons/4279/Stages/9105/Fixtures/France-Ligue-1-2014-2015'\n",
    "browser.get(url)"
   ]
  },
  {
   "cell_type": "code",
   "execution_count": 162,
   "metadata": {
    "collapsed": false
   },
   "outputs": [],
   "source": [
    "#2014-15\n",
    "path_to_chromedriver = '/Users/Martin/Desktop/NSM/Paris/chromedriver' # change path as needed\n",
    "browser = webdriver.Chrome(executable_path = path_to_chromedriver)\n",
    "url = 'https://www.whoscored.com/Regions/74/Tournaments/22/Seasons/4279/Stages/9105/Fixtures/France-Ligue-1-2014-2015'\n",
    "browser.get(url)\n",
    "année='201415'\n",
    "differentsclubs=['Lyon',\n",
    "'Evian Thonon Gaillard',\n",
    "'Lorient',\n",
    "'Bordeaux',\n",
    "'Guingamp',\n",
    "'Reims',\n",
    "'Montpellier',\n",
    "'Rennes',\n",
    "'SC Bastia',\n",
    "'Saint-Etienne',\n",
    "'Nice',\n",
    "'Caen',\n",
    "'Metz',\n",
    "'Marseille',\n",
    "'Lille',\n",
    "'Lens',\n",
    "'Monaco',\n",
    "'Toulouse',\n",
    "'Nantes',\n",
    "'Paris Saint Germain']\n",
    "\n",
    "listname=[]\n",
    "a=browser.find_element_by_xpath('//*[@id=\"tournament-fixture\"]').text\n",
    "nombredate=a.count('201')\n",
    "nombre=0\n",
    "for j in range(int(len(differentsclubs))):\n",
    "    nombre=nombre+a.count(differentsclubs[j])\n",
    "nombre=nombre/2+nombredate\n",
    "données=collections.defaultdict(list)\n",
    "\n",
    "for mois in range(1):#de mai a aout\n",
    "    a=browser.find_element_by_xpath('//*[@id=\"tournament-fixture\"]').text\n",
    "    nombredate=a.count('201')\n",
    "    nombre=0\n",
    "    for j in range(int(len(differentsclubs))):\n",
    "        nombre=nombre+a.count(differentsclubs[j])\n",
    "    nombre=nombre/2+nombredate\n",
    "    for j in range(5):#for j in range(int(nombre)):\n",
    "        proxy=browser.find_element_by_xpath('//*[@id=\"tournament-fixture\"]/tbody/tr['+str(j+1)+']').text\n",
    "        if '201' in proxy:\n",
    "            date=proxy\n",
    "        else:\n",
    "            browser.find_element_by_xpath('//*[@id=\"tournament-fixture\"]/tbody/tr['+str(j+1)+']/td[5]/a').click()\n",
    "        #INSERER LE SCRAPING DE LA PAGE PUIS\n",
    "            eqdom=browser.find_element_by_xpath('//*[@id=\"match-header\"]/table/tbody/tr[1]/td[1]/a').text\n",
    "            eqext=browser.find_element_by_xpath('//*[@id=\"match-header\"]/table/tbody/tr[1]/td[3]/a').text\n",
    "            name=eqdom+'//'+eqext+'//'+date\n",
    "            listname.append(name)\n",
    "            coachdom=browser.find_element_by_xpath('//*[@id=\"match-centre-header\"]/div[1]/div[2]/div[2]/span[2]').text\n",
    "            coachext=browser.find_element_by_xpath('//*[@id=\"match-centre-header\"]/div[3]/div[2]/div[2]/span[2]').text\n",
    "            scoreft=browser.find_element_by_xpath('//*[@id=\"match-header\"]/table/tbody/tr[1]/td[2]').text\n",
    "            scoreht=browser.find_element_by_xpath('//*[@id=\"match-header\"]/table/tbody/tr[2]/td[2]/div[2]/dl/dd[1]').text\n",
    "            noteseq=browser.find_element_by_xpath('//*[@id=\"match-centre-stats\"]/ul/li[1]/div[1]').text\n",
    "            shots=browser.find_element_by_xpath('//*[@id=\"match-centre-stats\"]/ul/li[3]/div[1]').text\n",
    "            possession=browser.find_element_by_xpath('//*[@id=\"match-centre-stats\"]/ul/li[5]/div[1]').text\n",
    "            notesjoueur=browser.find_element_by_xpath('//*[@id=\"stadium\"]/div[2]/div[2]').text\n",
    "            données[name].append(eqdom)\n",
    "            données[name].append(eqext)\n",
    "            données[name].append(coachdom)\n",
    "            données[name].append(coachext)\n",
    "            données[name].append(scoreft.split(' : ')[0])\n",
    "            données[name].append(scoreft.split(' : ')[1])\n",
    "            données[name].append(scoreht.split(' : ')[0])\n",
    "            données[name].append(scoreht.split(' : ')[1])\n",
    "            données[name].append(noteseq.split(' - ')[0])\n",
    "            données[name].append(noteseq.split(' - ')[1])\n",
    "            données[name].append(shots.split(' - ')[0])\n",
    "            données[name].append(shots.split(' - ')[1])\n",
    "            données[name].append(possession.split(' - ')[0])\n",
    "            données[name].append(possession.split(' - ')[1])\n",
    "            notesjoueur=notesjoueur.split('\\n')\n",
    "\n",
    "            for i in range(int(len(notesjoueur)/2)):\n",
    "                a=notesjoueur[2*i+1].split('.')\n",
    "                notesjoueur[2*i+1]=a[1]\n",
    "\n",
    "            for i in range(int(len(notesjoueur))):\n",
    "                données[name].append(notesjoueur[i])\n",
    "\n",
    "            time.sleep(5)\n",
    "\n",
    "            browser.find_element_by_xpath('//*[@id=\"sub-navigation\"]/ul/li[1]/a').click()\n",
    "            a=browser.find_element_by_xpath('//*[@id=\"missing-players\"]').text\n",
    "            a=a.split('\\n')\n",
    "            a=a[2:]\n",
    "            données[name].append('Missdom')\n",
    "            for i in range(int(len(a))):\n",
    "                if a[i]=='Player Reason Status Rating':\n",
    "                    données[name].append('Missext')\n",
    "                else:\n",
    "            \n",
    "                    if 'Doubtful' not in a[i]:\n",
    "                        b=a[i].replace(' Out','')\n",
    "                        données[name].append(b)\n",
    "            time.sleep(5)\n",
    "\n",
    "############\n",
    "\n",
    "            browser.find_element_by_xpath('//*[@id=\"sub-navigation\"]/ul/li[2]/a').click()\n",
    "#Previous meetings\n",
    "            c=browser.find_element_by_xpath('//*[@id=\"previous-meetings-grid\"]/tbody/tr[1]/td[6]/a').text\n",
    "            c=c.split(' : ')\n",
    "            wongen=browser.find_element_by_xpath('//*[@id=\"previous-meetings-stats-grid-wrapper\"]/table/thead/tr/th[5]/span').text\n",
    "            drewgen=browser.find_element_by_xpath('//*[@id=\"previous-meetings-stats-grid-wrapper\"]/table/thead/tr/th[6]/span').text\n",
    "            wongen=wongen.replace('Won (','')\n",
    "            wongen=wongen.replace('%)','')\n",
    "            drewgen=drewgen.replace('Drew (','')\n",
    "            drewgen=drewgen.replace('%)','')\n",
    "            données[name].append(wongen)\n",
    "            données[name].append(drewgen)\n",
    "            if a==b:\n",
    "                données[name].append(c[0])\n",
    "                données[name].append(c[1])\n",
    "            else:\n",
    "                données[name].append(c[1])\n",
    "                données[name].append(c[0])\n",
    "    \n",
    "            time.sleep(2)\n",
    "            browser.find_element_by_xpath('//*[@id=\"previous-meetings-view\"]/dd[2]/a').click()\n",
    "            time.sleep(2)\n",
    "            wonhome=browser.find_element_by_xpath('//*[@id=\"previous-meetings-stats-grid-wrapper\"]/table/thead/tr/th[5]/span').text\n",
    "            drewhome=browser.find_element_by_xpath('//*[@id=\"previous-meetings-stats-grid-wrapper\"]/table/thead/tr/th[6]/span').text\n",
    "            wonhome=wonhome.replace('Won (','')\n",
    "            wonhome=wonhome.replace('%)','')\n",
    "            drewhome=drewhome.replace('Drew (','')\n",
    "            drewhome=drewhome.replace('%)','')\n",
    "            données[name].append(wonhome)\n",
    "            données[name].append(drewhome)\n",
    "            d=browser.find_element_by_xpath('//*[@id=\"previous-meetings-grid\"]/tbody/tr[1]/td[6]/a').text\n",
    "            d=d.split(' : ')\n",
    "            données[name].append(d[0])\n",
    "            données[name].append(d[1])\n",
    "            \n",
    "            time.sleep(2)\n",
    "            browser.get(url)\n",
    "            \n",
    "            \n",
    "        \n",
    "            \n",
    "for i in range(int(len(listname))):\n",
    "    print(listname[i])\n",
    "    print(données[liname[i]])\n",
    "\n"
   ]
  },
  {
   "cell_type": "code",
   "execution_count": 164,
   "metadata": {
    "collapsed": false
   },
   "outputs": [
    {
     "name": "stdout",
     "output_type": "stream",
     "text": [
      "['Metz', 'Marseille', 'Albert Cartier', 'Marcelo Bielsa', '0', '2', '0', '1', '6.63', '7.35', '18', '11', '50.2', '49.8', '6.7', 'Mezui', '6.6', 'Métanire', '6.5', 'Palomino', '7.0', 'Choplin', '6.8', 'Bussmann', '6.4', 'Kashi', '7.2', 'Sassi', '6.9', 'Sarr', '6.4', 'Malouda', '7.0', 'Lejeune', '6.3', 'Maiga', '7.9', 'Mandanda', '7.9', 'Lemina', '8.2', 'Nkoulou', '7.4', 'Fanni', '7.5', 'Mendy', '7.3', 'Imbula', '7.2', 'Romao', '6.4', 'Alessandrini', '7.5', 'Payet', '7.2', 'Ayew', '8.6', 'Gignac', 'Missdom', 'Romain Rocchi 6.78', 'Jonathan Rivierez 7.14', 'Kwame Nsor 6', 'Sylvain Marchal 6.81', 'Guido Milán 6.88', 'Juan Manuel Falcón 6.32', 'Missext', 'Brice Dja Djédjé 7.03', 'Jérémy Morel 7.25', 'Abdel Barrada 6.44', '17', '0', '1', '3', '33', '17', '1', '2']\n"
     ]
    }
   ],
   "source": [
    "print(données[listname[0]])"
   ]
  },
  {
   "cell_type": "code",
   "execution_count": 24,
   "metadata": {
    "collapsed": false
   },
   "outputs": [
    {
     "data": {
      "text/plain": [
       "'Friday, May 1 2015'"
      ]
     },
     "execution_count": 24,
     "metadata": {},
     "output_type": "execute_result"
    }
   ],
   "source": [
    "https://www.whoscored.com/Matches/824554/Live/France-Ligue-1-2014-2015-Metz-Marseille"
   ]
  },
  {
   "cell_type": "code",
   "execution_count": 5,
   "metadata": {
    "collapsed": false
   },
   "outputs": [],
   "source": [
    "#Je commence a scraper la page du premier match pour un exemple\n",
    "path_to_chromedriver = '/Users/Martin/Desktop/NSM/Paris/chromedriver' # change path as needed\n",
    "browser = webdriver.Chrome(executable_path = path_to_chromedriver)\n",
    "url = 'https://www.whoscored.com/Matches/824554/Live/France-Ligue-1-2014-2015-Metz-Marseille'\n",
    "browser.get(url)"
   ]
  },
  {
   "cell_type": "code",
   "execution_count": 141,
   "metadata": {
    "collapsed": false
   },
   "outputs": [],
   "source": [
    "path_to_chromedriver = '/Users/Martin/Desktop/NSM/Paris/chromedriver' # change path as needed\n",
    "browser = webdriver.Chrome(executable_path = path_to_chromedriver)\n",
    "url = 'https://www.whoscored.com/Matches/824554/Live/France-Ligue-1-2014-2015-Metz-Marseille'\n",
    "browser.get(url)\n",
    "#choper date aussi\n",
    "données=[]\n",
    "eqdom=browser.find_element_by_xpath('//*[@id=\"match-header\"]/table/tbody/tr[1]/td[1]/a').text\n",
    "eqext=browser.find_element_by_xpath('//*[@id=\"match-header\"]/table/tbody/tr[1]/td[3]/a').text\n",
    "name=eqdom+'//'+eqext+'//'+date\n",
    "listname.append(name)\n",
    "coachdom=browser.find_element_by_xpath('//*[@id=\"match-centre-header\"]/div[1]/div[2]/div[2]/span[2]').text\n",
    "coachext=browser.find_element_by_xpath('//*[@id=\"match-centre-header\"]/div[3]/div[2]/div[2]/span[2]').text\n",
    "scoreft=browser.find_element_by_xpath('//*[@id=\"match-header\"]/table/tbody/tr[1]/td[2]').text\n",
    "scoreht=browser.find_element_by_xpath('//*[@id=\"match-header\"]/table/tbody/tr[2]/td[2]/div[2]/dl/dd[1]').text\n",
    "noteseq=browser.find_element_by_xpath('//*[@id=\"match-centre-stats\"]/ul/li[1]/div[1]').text\n",
    "shots=browser.find_element_by_xpath('//*[@id=\"match-centre-stats\"]/ul/li[3]/div[1]').text\n",
    "possession=browser.find_element_by_xpath('//*[@id=\"match-centre-stats\"]/ul/li[5]/div[1]').text\n",
    "notesjoueur=browser.find_element_by_xpath('//*[@id=\"stadium\"]/div[2]/div[2]').text\n",
    "données.append(eqdom)\n",
    "données.append(eqext)\n",
    "données.append(coachdom)\n",
    "données.append(coachext)\n",
    "données.append(scoreft.split(' : ')[0])\n",
    "données.append(scoreft.split(' : ')[1])\n",
    "données.append(scoreht.split(' : ')[0])\n",
    "données.append(scoreht.split(' : ')[1])\n",
    "données.append(noteseq.split(' - ')[0])\n",
    "données.append(noteseq.split(' - ')[1])\n",
    "données.append(shots.split(' - ')[0])\n",
    "données.append(shots.split(' - ')[1])\n",
    "données.append(possession.split(' - ')[0])\n",
    "données.append(possession.split(' - ')[1])\n",
    "notesjoueur=notesjoueur.split('\\n')\n",
    "\n",
    "for i in range(int(len(notesjoueur)/2)):\n",
    "    a=notesjoueur[2*i+1].split('.')\n",
    "    notesjoueur[2*i+1]=a[1]\n",
    "\n",
    "for i in range(int(len(notesjoueur))):\n",
    "    données.append(notesjoueur[i])\n",
    "\n",
    "time.sleep(5)\n",
    "\n",
    "browser.find_element_by_xpath('//*[@id=\"sub-navigation\"]/ul/li[1]/a').click()\n",
    "a=browser.find_element_by_xpath('//*[@id=\"missing-players\"]').text\n",
    "a=a.split('\\n')\n",
    "a=a[2:]\n",
    "données.append('Missdom')\n",
    "for i in range(int(len(a))):\n",
    "    if a[i]=='Player Reason Status Rating':\n",
    "        données.append('Missext')\n",
    "    else:\n",
    "            \n",
    "        if 'Doubtful' not in a[i]:\n",
    "            b=a[i].replace(' Out','')\n",
    "            données.append(b)\n",
    "time.sleep(5)\n",
    "\n",
    "############\n",
    "\n",
    "browser.find_element_by_xpath('//*[@id=\"sub-navigation\"]/ul/li[2]/a').click()\n",
    "#Previous meetings\n",
    "c=browser.find_element_by_xpath('//*[@id=\"previous-meetings-grid\"]/tbody/tr[1]/td[6]/a').text\n",
    "c=c.split(' : ')\n",
    "wongen=browser.find_element_by_xpath('//*[@id=\"previous-meetings-stats-grid-wrapper\"]/table/thead/tr/th[5]/span').text\n",
    "drewgen=browser.find_element_by_xpath('//*[@id=\"previous-meetings-stats-grid-wrapper\"]/table/thead/tr/th[6]/span').text\n",
    "wongen=wongen.replace('Won (','')\n",
    "wongen=wongen.replace('%)','')\n",
    "drewgen=drewgen.replace('Drew (','')\n",
    "drewgen=drewgen.replace('%)','')\n",
    "données.append(wongen)\n",
    "données.append(drewgen)\n",
    "if a==b:\n",
    "    données.append(c[0])\n",
    "    données.append(c[1])\n",
    "else:\n",
    "    données.append(c[1])\n",
    "    données.append(c[0])\n",
    "    \n",
    "time.sleep(2)\n",
    "browser.find_element_by_xpath('//*[@id=\"previous-meetings-view\"]/dd[2]/a').click()\n",
    "time.sleep(2)\n",
    "wonhome=browser.find_element_by_xpath('//*[@id=\"previous-meetings-stats-grid-wrapper\"]/table/thead/tr/th[5]/span').text\n",
    "drewhome=browser.find_element_by_xpath('//*[@id=\"previous-meetings-stats-grid-wrapper\"]/table/thead/tr/th[6]/span').text\n",
    "wonhome=wonhome.replace('Won (','')\n",
    "wonhome=wonhome.replace('%)','')\n",
    "drewhome=drewhome.replace('Drew (','')\n",
    "drewhome=drewhome.replace('%)','')\n",
    "données.append(wonhome)\n",
    "données.append(drewhome)\n",
    "d=browser.find_element_by_xpath('//*[@id=\"previous-meetings-grid\"]/tbody/tr[1]/td[6]/a').text\n",
    "d=d.split(' : ')\n",
    "données.append(d[0])\n",
    "données.append(d[1])\n",
    "\n"
   ]
  },
  {
   "cell_type": "code",
   "execution_count": 142,
   "metadata": {
    "collapsed": false
   },
   "outputs": [
    {
     "name": "stdout",
     "output_type": "stream",
     "text": [
      "['Metz', 'Marseille', 'Albert Cartier', 'Marcelo Bielsa', '0', '2', '0', '1', '6.63', '7.35', '18', '11', '50.2', '49.8', '6.7', 'Mezui', '6.6', 'Métanire', '6.5', 'Palomino', '7.0', 'Choplin', '6.8', 'Bussmann', '6.4', 'Kashi', '7.2', 'Sassi', '6.9', 'Sarr', '6.4', 'Malouda', '7.0', 'Lejeune', '6.3', 'Maiga', '7.9', 'Mandanda', '7.9', 'Lemina', '8.2', 'Nkoulou', '7.4', 'Fanni', '7.5', 'Mendy', '7.3', 'Imbula', '7.2', 'Romao', '6.4', 'Alessandrini', '7.5', 'Payet', '7.2', 'Ayew', '8.6', 'Gignac', 'Missdom', 'Romain Rocchi 6.78', 'Jonathan Rivierez 7.14', 'Kwame Nsor 6', 'Sylvain Marchal 6.81', 'Guido Milán 6.88', 'Juan Manuel Falcón 6.32', 'Missext', 'Brice Dja Djédjé 7.03', 'Jérémy Morel 7.25', 'Abdel Barrada 6.44', '17', '0', '1', '3', '33', '17', '1', '2']\n"
     ]
    }
   ],
   "source": [
    "print(données)"
   ]
  },
  {
   "cell_type": "code",
   "execution_count": 131,
   "metadata": {
    "collapsed": false
   },
   "outputs": [
    {
     "name": "stdout",
     "output_type": "stream",
     "text": [
      "['80', '0', '1', '2', '80', '0', '2', '1']\n"
     ]
    }
   ],
   "source": [
    "#attention pour le premier\n",
    "\n",
    "#previous mettings\n",
    "#a=browser.find_element_by_xpath('//*[@id=\"previous-meetings-grid\"]/tbody/tr[1]/td[5]/a').text\n",
    "#b=browser.find_element_by_xpath('//*[@id=\"match-header\"]/table/tbody/tr[1]/td[1]/a').text\n",
    "c=browser.find_element_by_xpath('//*[@id=\"previous-meetings-grid\"]/tbody/tr[1]/td[6]/a').text\n",
    "c=c.split(' : ')\n",
    "wongen=browser.find_element_by_xpath('//*[@id=\"previous-meetings-stats-grid-wrapper\"]/table/thead/tr/th[5]/span').text\n",
    "drewgen=browser.find_element_by_xpath('//*[@id=\"previous-meetings-stats-grid-wrapper\"]/table/thead/tr/th[6]/span').text\n",
    "wongen=wongen.replace('Won (','')\n",
    "wongen=wongen.replace('%)','')\n",
    "drewgen=drewgen.replace('Drew (','')\n",
    "drewgen=drewgen.replace('%)','')\n",
    "données1.append(wongen)\n",
    "données1.append(drewgen)\n",
    "if a==b:\n",
    "    données1.append(c[0])\n",
    "    données1.append(c[1])\n",
    "else:\n",
    "    données1.append(c[1])\n",
    "    données1.append(c[0])\n",
    "    \n",
    "time.sleep(3)\n",
    "browser.find_element_by_xpath('//*[@id=\"previous-meetings-view\"]/dd[2]/a').click()\n",
    "wonhome=browser.find_element_by_xpath('//*[@id=\"previous-meetings-stats-grid-wrapper\"]/table/thead/tr/th[5]/span').text\n",
    "drewhome=browser.find_element_by_xpath('//*[@id=\"previous-meetings-stats-grid-wrapper\"]/table/thead/tr/th[6]/span').text\n",
    "wonhome=wonhome.replace('Won (','')\n",
    "wonhome=wonhome.replace('%)','')\n",
    "drewhome=drewhome.replace('Drew (','')\n",
    "drewhome=drewhome.replace('%)','')\n",
    "données1.append(wonhome)\n",
    "données1.append(drewhome)\n",
    "d=browser.find_element_by_xpath('//*[@id=\"previous-meetings-grid\"]/tbody/tr[1]/td[6]/a').text\n",
    "d=d.split(' : ')\n",
    "données1.append(d[0])\n",
    "données1.append(d[1])\n",
    "\n",
    "\n",
    "#browser.find_element_by_xpath('//*[@id=\"previous-meetings-view\"]/dd[2]/a').click()\n",
    "#\n",
    "\n",
    "print(données1)"
   ]
  },
  {
   "cell_type": "code",
   "execution_count": 129,
   "metadata": {
    "collapsed": false
   },
   "outputs": [
    {
     "name": "stdout",
     "output_type": "stream",
     "text": [
      "0\n",
      "80\n"
     ]
    }
   ],
   "source": [
    "wonhome=browser.find_element_by_xpath('//*[@id=\"previous-meetings-stats-grid-wrapper\"]/table/thead/tr/th[5]/span').text\n",
    "drewhome=browser.find_element_by_xpath('//*[@id=\"previous-meetings-stats-grid-wrapper\"]/table/thead/tr/th[6]/span').text\n",
    "wonhome=wonhome.replace('Won (','')\n",
    "wonhome=wonhome.replace('%)','')\n",
    "drewhome=drewhome.replace('Drew (','')\n",
    "drewhome=drewhome.replace('%)','')\n",
    "print(drewhome)\n",
    "print(wonhome)\n",
    "#a=a.replace('')"
   ]
  },
  {
   "cell_type": "code",
   "execution_count": 122,
   "metadata": {
    "collapsed": false
   },
   "outputs": [
    {
     "name": "stdout",
     "output_type": "stream",
     "text": [
      "['16', '38', '12', '7', '19', '44', '50', '43', '19', '6', '5', '8', '17', '17', '23', '6', '38', '17', '12', '9', '47', '44', '63', '41', '19', '5', '7', '7', '16', '21', '22', 'W', 'D', 'L', 'W', 'D', 'W', '4', '1', '7', '2']\n"
     ]
    }
   ],
   "source": [
    "#############################\n",
    "#classement actuel (INUTILE)#\n",
    "#############################\n",
    "\n",
    "b='Lyon'\n",
    "classement=browser.find_element_by_xpath('//*[@id=\"standings-wide-grid\"]/tbody').text\n",
    "classement=classement.split('\\n')\n",
    "c0=classement[0].split(' ')\n",
    "c1=classement[1].split(' ')\n",
    "l0=int(len(c0))\n",
    "l1=int(len(c1))\n",
    "données1=[]\n",
    "if b in classement[0]:\n",
    "    données1.append(c0[0])\n",
    "    for i in range(l0-21,l0-7):\n",
    "        données1.append(c0[i])\n",
    "    données1.append(c1[0])\n",
    "    for i in range(l1-21,l1-14):\n",
    "        données1.append(c1[i])\n",
    "    for i in range(l1-8,l1):\n",
    "        données1.append(c1[i])\n",
    "else:\n",
    "    données1.append(c1[0])\n",
    "    for i in range(l1-21,l1-7):\n",
    "        données1.append(c1[i])\n",
    "    données1.append(c0[0])\n",
    "    for i in range(l0-21,l0-14):\n",
    "        données1.append(c0[i])\n",
    "    for i in range(l0-8,l0):\n",
    "        données1.append(c0[i])\n",
    "\n",
    "\n",
    "time.sleep(2)\n",
    "browser.find_element_by_xpath('//*[@id=\"tables\"]/li[2]/a').click()\n",
    "browser.find_element_by_xpath('//*[@id=\"forms-type\"]/dd[1]/a').click()\n",
    "f1=browser.find_element_by_xpath('//*[@id=\"forms-grid\"]/tbody/tr[1]/td[11]/a[1]').text\n",
    "f2=browser.find_element_by_xpath('//*[@id=\"forms-grid\"]/tbody/tr[1]/td[11]/a[2]').text\n",
    "f3=browser.find_element_by_xpath('//*[@id=\"forms-grid\"]/tbody/tr[1]/td[11]/a[3]').text\n",
    "f4=browser.find_element_by_xpath('//*[@id=\"forms-grid\"]/tbody/tr[2]/td[11]/a[1]').text\n",
    "f5=browser.find_element_by_xpath('//*[@id=\"forms-grid\"]/tbody/tr[2]/td[11]/a[2]').text\n",
    "f6=browser.find_element_by_xpath('//*[@id=\"forms-grid\"]/tbody/tr[2]/td[11]/a[3]').text\n",
    "if browser.find_element_by_xpath('//*[@id=\"forms-grid\"]/tbody/tr[1]/td[2]/a').text==b:\n",
    "    données1.append(f1)\n",
    "    données1.append(f2)\n",
    "    données1.append(f3)\n",
    "    données1.append(f4)\n",
    "    données1.append(f5)\n",
    "    données1.append(f6)\n",
    "else:\n",
    "    données1.append(f4)\n",
    "    données1.append(f5)\n",
    "    données1.append(f6)\n",
    "    données1.append(f1)\n",
    "    données1.append(f2)\n",
    "    données1.append(f3)\n",
    "time.sleep(3)\n",
    "browser.find_element_by_xpath('//*[@id=\"forms-view\"]/dd[4]/a').click()\n",
    "h1=browser.find_element_by_xpath('//*[@id=\"forms-wide-grid\"]/tbody/tr[1]/td[9]').text\n",
    "h2=browser.find_element_by_xpath('//*[@id=\"forms-wide-grid\"]/tbody/tr[1]/td[16]').text\n",
    "h3=browser.find_element_by_xpath('//*[@id=\"forms-wide-grid\"]/tbody/tr[1]/td[23]').text\n",
    "h4=browser.find_element_by_xpath('//*[@id=\"forms-wide-grid\"]/tbody/tr[2]/td[9]').text\n",
    "h5=browser.find_element_by_xpath('//*[@id=\"forms-wide-grid\"]/tbody/tr[2]/td[16]').text\n",
    "h6=browser.find_element_by_xpath('//*[@id=\"forms-wide-grid\"]/tbody/tr[2]/td[23]').text\n",
    "if browser.find_element_by_xpath('//*[@id=\"forms-wide-grid\"]/tbody/tr[1]/td[2]/a').text==b:\n",
    "    données1.append(h1)\n",
    "    données1.append(h2)\n",
    "    données1.append(h4)\n",
    "    données1.append(h6)\n",
    "else:\n",
    "    données1.append(h4)\n",
    "    données1.append(h5)\n",
    "    données1.append(h1)\n",
    "    données1.append(h3)\n",
    "\n",
    "#browser.find_element_by_xpath('')\n",
    "#browser.find_element_by_xpath('')\n",
    "#browser.find_element_by_xpath('')\n",
    "#browser.find_element_by_xpath('')\n",
    "#browser.find_element_by_xpath('')\n",
    "print(données1)"
   ]
  },
  {
   "cell_type": "code",
   "execution_count": 146,
   "metadata": {
    "collapsed": false
   },
   "outputs": [
    {
     "name": "stdout",
     "output_type": "stream",
     "text": [
      "['rt', 'yu', 'ui', 'ji']\n"
     ]
    }
   ],
   "source": [
    "h=['rt','yu','ui','ji']\n",
    "dico=collections.defaultdict(list)\n",
    "for i in range(2):\n",
    "    a=h[i]+h[i+1]\n",
    "    dico[a]=h\n",
    "print(dico['rtyu'])"
   ]
  },
  {
   "cell_type": "code",
   "execution_count": 145,
   "metadata": {
    "collapsed": false
   },
   "outputs": [
    {
     "name": "stdout",
     "output_type": "stream",
     "text": [
      "['rt', 'yu', 'ui', 'ji']\n"
     ]
    }
   ],
   "source": []
  },
  {
   "cell_type": "code",
   "execution_count": null,
   "metadata": {
    "collapsed": true
   },
   "outputs": [],
   "source": []
  }
 ],
 "metadata": {
  "anaconda-cloud": {},
  "kernelspec": {
   "display_name": "Python [Root]",
   "language": "python",
   "name": "Python [Root]"
  },
  "language_info": {
   "codemirror_mode": {
    "name": "ipython",
    "version": 3
   },
   "file_extension": ".py",
   "mimetype": "text/x-python",
   "name": "python",
   "nbconvert_exporter": "python",
   "pygments_lexer": "ipython3",
   "version": "3.5.2"
  }
 },
 "nbformat": 4,
 "nbformat_minor": 0
}
