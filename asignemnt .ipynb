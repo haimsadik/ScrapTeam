{
 "cells": [
  {
   "cell_type": "code",
   "execution_count": 1,
   "metadata": {
    "collapsed": false
   },
   "outputs": [],
   "source": [
    "import matplotlib.pyplot as plt"
   ]
  },
  {
   "cell_type": "code",
   "execution_count": 2,
   "metadata": {
    "collapsed": false
   },
   "outputs": [],
   "source": [
    "y=[4.928955358,20.4201479,2.623745826,1.767959499,-9.88737932,-1.761746956,7.09992985,5.53739841,7.553622562,5.277105832,15.68890025,3.802672991,2.669554451,1.096223144,-0.696056015,-1.522624016,-2.163186458,1.033683724]\n",
    "z=[-0.979734631,-1.753454003,-3.984440211,-1.844886686,10.70349383,4.453019855,1.859630339,0.506554635,0.770516499,1.74533994,3.888632848,1.409005225,0.352758349,1.050567293,0.318263756,3.724581232,2.635944946,1.551464736]\n",
    "n=[1994,1995,1996,1997,1998,1999,2000,2001,2002,2003,2004,2005,2006,2007,2008,2009,2010,2011]\n",
    "\n",
    "fig, ax = plt.subplots()\n",
    "ax.scatter(z, y)\n",
    "\n",
    "for i, txt in enumerate(n):\n",
    "    ax.annotate(txt, (z[i],y[i]))\n",
    "\n"
   ]
  },
  {
   "cell_type": "code",
   "execution_count": null,
   "metadata": {
    "collapsed": false
   },
   "outputs": [],
   "source": [
    "plt.show()"
   ]
  },
  {
   "cell_type": "code",
   "execution_count": null,
   "metadata": {
    "collapsed": true
   },
   "outputs": [],
   "source": [
    "y=[3.083779465,17.95889381,3.291767257,2.150693732,-6.992242358,0.234222786,8.278423664,5.953388411,7.255640984,5.396923051,16.29538792,5.525191647,5.051241609,1.233838669,1.021076957,-2.308234969,-2.385449347,3.474926294]\n",
    "z=[-0.979734631,-1.753454003,-3.984440211,-1.844886686,10.70349383,4.453019855,1.859630339,0.506554635,0.770516499,1.74533994,3.888632848,1.409005225,0.352758349,1.050567293,0.318263756,3.724581232,2.635944946,1.551464736]\n",
    "n=[1994,1995,1996,1997,1998,1999,2000,2001,2002,2003,2004,2005,2006,2007,2008,2009,2010,2011]\n",
    "\n",
    "fig, ax = plt.subplots()\n",
    "ax.scatter(z, y)\n",
    "\n",
    "for i, txt in enumerate(n):\n",
    "    ax.annotate(txt, (z[i],y[i]))\n",
    "\n",
    "\n",
    "\n"
   ]
  }
 ],
 "metadata": {
  "anaconda-cloud": {},
  "kernelspec": {
   "display_name": "Python [Root]",
   "language": "python",
   "name": "Python [Root]"
  },
  "language_info": {
   "codemirror_mode": {
    "name": "ipython",
    "version": 3
   },
   "file_extension": ".py",
   "mimetype": "text/x-python",
   "name": "python",
   "nbconvert_exporter": "python",
   "pygments_lexer": "ipython3",
   "version": "3.5.2"
  }
 },
 "nbformat": 4,
 "nbformat_minor": 0
}
