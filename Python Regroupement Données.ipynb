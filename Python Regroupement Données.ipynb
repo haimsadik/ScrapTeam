{
 "cells": [
  {
   "cell_type": "code",
   "execution_count": 2,
   "metadata": {
    "collapsed": true
   },
   "outputs": [],
   "source": [
    "#On télecharge les packages dont on va avoir besoin\n",
    "import selenium #pip install selenium\n",
    "from selenium import webdriver\n",
    "from selenium.webdriver.common.keys import Keys\n",
    "from selenium.webdriver.common.by import By  \n",
    "import time\n",
    "#BeautifulSoup , Request et Pandas\n",
    "import urllib\n",
    "import bs4\n",
    "from urllib import request\n",
    "import pandas \n",
    "#pour les graphiques\n",
    "#%matplotlib inline\n",
    "import matplotlib.pyplot as plt\n",
    "import numpy as np\n",
    "import pandas as pd\n",
    "import collections\n",
    "import time\n",
    "from selenium.webdriver.support.ui import Select\n",
    "import csv"
   ]
  },
  {
   "cell_type": "code",
   "execution_count": 79,
   "metadata": {
    "collapsed": false
   },
   "outputs": [
    {
     "name": "stdout",
     "output_type": "stream",
     "text": [
      "138\n",
      "111\n",
      "116\n",
      "122\n",
      "107\n"
     ]
    }
   ],
   "source": [
    "#ENCORE A FAIRE-=\n",
    "# CHERCHER SIL NY A PAS DE VALEURS MANQUANTES DANS WHOSCORED OU AUTRES DONNEES\n",
    "# pour classement aussi il y a manqyants (liste manquantes)\n",
    "\n",
    "\n",
    "def isFloat2(num):\n",
    "    try:\n",
    "        float(str(num))\n",
    "        return True\n",
    "    except ValueError:\n",
    "        return False\n",
    "#print the column names\n",
    "listematch=[]\n",
    "xlist=collections.defaultdict(list)\n",
    "vraidonnées=collections.defaultdict(list)\n",
    "\n",
    "\n",
    "Manque=['Angleterre2015-20169Journée  Général.csv','Espagne2014-201516Journée  Général.csv',\n",
    "        'France2013-201426Journée  Général.csv','France2015-201637Journée  Général.csv',\n",
    "       'Italie2014-20156Journée  Général.csv','Italie2015-20168Journée  Général.csv',\n",
    "       'Italie2015-201627Journée  Général.csv','Italie2016-201717Journée  Général.csv']\n",
    "\n",
    "\n",
    "refwhoscored=['France 1415']\n",
    "\n",
    "\n",
    "            ###########  1. WHOSCORED   ############\n",
    "            ##########   1.1 WHOSCORED   ###########\n",
    "        \n",
    "for ref in refwhoscored:\n",
    "    dff = pandas.read_excel('/Users/Martin/Documents/ENSAE/Scrape/Résultat scraping corrigé/WhoScored1/'+str(ref)+'.xls',header=None)\n",
    "    #Pas obligé\n",
    "    length=len(dff[0])\n",
    "    for jj in range(5):#for j in range(length)\n",
    "        match=dff[0][jj]\n",
    "    #Plutot ca : \n",
    "    #for match in dff[0]:#for match in dff:\n",
    "        if 'liste' not in match:\n",
    "            listematch.append(match)\n",
    "            x=pandas.read_csv('/Users/Martin/Documents/ENSAE/Scrape/Résultat scraping corrigé/WhoScored1/'+str(ref)+'/'+str(match))\n",
    "            x=x[x.columns[1]]\n",
    "            xlist[match]=list(x)\n",
    "            #Je rentre les données jusqu'a Missdom\n",
    "            for i in range(61):\n",
    "                vraidonnées[match].append(xlist[match][i])\n",
    "            vraidonnées[match].append('Finbasique')\n",
    "            \n",
    "            ##########   1.2 WHOSCORED   ###########\n",
    "            ########      MISSDOM MISSEXT       ########\n",
    "\n",
    "            for ii in range(61,len(xlist[match])):\n",
    "                if not xlist[match][ii].isdigit():\n",
    "                    if xlist[match][ii] is not 'BUG':\n",
    "                        bbb=xlist[match][ii]\n",
    "                        bbb=bbb.split(' ')\n",
    "                        if len(bbb)==1:\n",
    "                            vraidonnées[match].append('Missext')\n",
    "                        else:    \n",
    "                            b1=' '.join(bbb[:-1])\n",
    "                            b2=bbb[len(bbb)-1]\n",
    "                            if isFloat2(b2) is True:\n",
    "                                vraidonnées[match].append(b1)\n",
    "                                vraidonnées[match].append(b2)\n",
    "            vraidonnées[match].append('Finmanquants')            \n",
    "            \n",
    "            ### CHERCHER A QUELLE JOURNEE ON SE TROUVE ###\n",
    "            ########### CALENDRIER #############\n",
    "                \n",
    "            mm=ref.split(' ')\n",
    "            refcalendrier=str(mm[0])+' '+str(mm[1][0])+str(mm[1][1])+'-'+str(mm[1][2])+str(mm[1][3])\n",
    "            calendrier=pandas.read_csv('/Users/Martin/Documents/ENSAE/Scrape/Résultat scraping corrigé/Résultats calendrier1/'+str(refcalendrier)+'.csv',header=None)\n",
    "            for itt in range(int(len(calendrier[calendrier.columns[1]]))):\n",
    "                if str(calendrier[calendrier.columns[4]][itt])==vraidonnées[match][0] and str(calendrier[calendrier.columns[5]][itt])==vraidonnées[match][1] and str(calendrier[calendrier.columns[6]][itt])==vraidonnées[match][4] and str(calendrier[calendrier.columns[7]][itt])==vraidonnées[match][5]:\n",
    "                    journée=calendrier[calendrier.columns[2]][itt]\n",
    "                    date=calendrier[calendrier.columns[3]][itt]\n",
    "                    \n",
    "                    vraidonnées[match].append(journée)\n",
    "                    vraidonnées[match].append(date)\n",
    "                    \n",
    "                \n",
    "            ########  INCORPORATION CLASSEMENT  ########\n",
    "            ########    CLASSEMENT #########\n",
    "        \n",
    "            Manque=['Angleterre2015-20169Journée  Général.csv','Espagne2014-201516Journée  Général.csv',\n",
    "                    'France2013-201426Journée  Général.csv','France2015-201637Journée  Général.csv',\n",
    "                    'Italie2014-20156Journée  Général.csv','Italie2015-20168Journée  Général.csv',\n",
    "                    'Italie2015-201627Journée  Général.csv','Italie2016-201717Journée  Général.csv']\n",
    "            refclassement=pmm[0]+'20'+str(pmm[1][0])+str(pmm[1][1])+'-'+'20'+str(pmm[1][2])+str(pmm[1][3])+str(journée)+'Journée'\n",
    "            if not refclassement+'  Général.csv'in Manque:\n",
    "                classementgén=pandas.read_csv('/Users/Martin/Documents/ENSAE/Scrape/Résultat scraping corrigé/classement1/'+str(refclassement)+'  Général.csv')\n",
    "                classementdom=pandas.read_csv('/Users/Martin/Documents/ENSAE/Scrape/Résultat scraping corrigé/classement1/'+str(refclassement)+'  Domicile.csv')\n",
    "                classementext=pandas.read_csv('/Users/Martin/Documents/ENSAE/Scrape/Résultat scraping corrigé/classement1/'+str(refclassement)+'  Extérieur.csv')\n",
    "                for ggg in range(int(len(classementgén[classementgén.columns[3]]))):\n",
    "                    if str(classementgén[classementgén.columns[3]][ggg])==vraidonnées[match][0]:\n",
    "                        vraidonnées[match].append(ggg)\n",
    "                        for jjk in range(4,12):\n",
    "                            vraidonnées[match].append(classementgén[classementgén.columns[jjk]][ggg])\n",
    "                for ggg in range(int(len(classementgén[classementgén.columns[3]]))):\n",
    "                    if str(classementgén[classementgén.columns[3]][ggg])==vraidonnées[match][1]:\n",
    "                        vraidonnées[match].append(ggg)\n",
    "                        for jjk in range(4,12):\n",
    "                            vraidonnées[match].append(classementgén[classementgén.columns[jjk]][ggg])\n",
    "                for ggg in range(int(len(classementdom[classementdom.columns[3]]))):\n",
    "                    if str(classementdom[classementdom.columns[3]][ggg])==vraidonnées[match][0]:\n",
    "                        vraidonnées[match].append(ggg)\n",
    "                        for jjk in range(4,12):\n",
    "                            vraidonnées[match].append(classementdom[classementdom.columns[jjk]][ggg])\n",
    "                for ggg in range(int(len(classementext[classementgén.columns[3]]))):\n",
    "                    if str(classementext[classementext.columns[3]][ggg])==vraidonnées[match][1]:\n",
    "                        vraidonnées[match].append(ggg)\n",
    "                        for jjk in range(4,12):\n",
    "                            vraidonnées[match].append(classementext[classementext.columns[jjk]][ggg])\n",
    "                \n",
    "            ### INCORPORATION EQUIPE FUT###\n",
    "            ### EQUIPE FUT ####\n",
    "            refequipedom=vraidonnées[match][0]+' '+ref.split(' ')[1][2]+ref.split(' ')[1][3]\n",
    "            refequipeext=vraidonnées[match][1]+' '+ref.split(' ')[1][2]+ref.split(' ')[1][3]\n",
    "            equipedom=pandas.read_csv('/Users/Martin/Documents/ENSAE/Scrape/Résultat scraping corrigé/EquipeFUT1/'+str(refequipedom)+'.csv')\n",
    "            equipeext=pandas.read_csv('/Users/Martin/Documents/ENSAE/Scrape/Résultat scraping corrigé/EquipeFUT1/'+str(refequipeext)+'.csv')\n",
    "            dff=equipedom\n",
    "            for mlml in range(2,int(len(dff.transpose()))):\n",
    "                for frfr in range(int(len(dff[dff.columns[mlml]]))):\n",
    "                    vraidonnées[match].append(dff[dff.columns[mlml]][frfr])\n",
    "            dff=equipeext\n",
    "            for mlml in range(2,int(len(dff.transpose()))):\n",
    "                for frfr in range(int(len(dff[dff.columns[mlml]]))):\n",
    "                    vraidonnées[match].append(dff[dff.columns[mlml]][frfr])\n",
    "                    \n",
    "                    \n",
    "            #### INCORPORATION FATIGUE ####\n",
    "            \n",
    "            \n",
    "            \n",
    "            #### INCORPORATION DERNIERS AFFRONTEMENTS ####\n",
    "            \n",
    "            \n",
    "            \n",
    "            #### INCORPORATION FORME ??? ###\n",
    "            \n",
    "            \n",
    "            \n",
    "            #### INCORPOORATION ELEMENTS AUTRES BUDGETS ETC ###\n",
    "                \n",
    "            \n",
    "            \n",
    "                                \n",
    "                                \n",
    "                                \n",
    "                \n",
    "for i in listematch:\n",
    "    print(vraidonnées[i])\n",
    "\n"
   ]
  },
  {
   "cell_type": "code",
   "execution_count": 106,
   "metadata": {
    "collapsed": false
   },
   "outputs": [
    {
     "name": "stdout",
     "output_type": "stream",
     "text": [
      "['0', '74', 'CISSÉ', 'ST', '80', '74', '63', '69', '30', '75', '1', '73', 'AYITÉ', 'LW', '83', '69', '64', '76', '27', '54', '2', '73', 'BRANDÃO', 'ST', '53', '76', '68', '62', '43', '76', '3', '72', 'SIO', 'ST', '91', '69', '70', '75', '29', '70', '4', '71', 'DIALLO', 'ST', '78', '70', '69', '74', '42', '68', '5', '70', 'MABOULOU', 'LW', '76', '70', '67', '71', '34', '64', '6', '68', 'MOKULU', 'ST', '75', '62', '62', '72', '31', '79', '7', '68', 'TALLO', 'ST', '69', '68', '60', '67', '27', '66', '8', '67', 'ONGENDA', 'LW', '79', '56', '60', '74', '39', '58', '9', '59', 'RODRÍGUEZ', 'ST', '74', '58', '55', '66', '32', '50', '10', '74', 'BOUDEBOUZ', 'CAM', '76', '69', '75', '77', '31', '56', '11', '74', 'ROMARIC', 'CM', '53', '71', '80', '68', '68', '76', '12', '72', 'GILLET', 'CM', '73', '71', '71', '69', '69', '76', '13', '71', 'MOSTEFA', 'CDM', '58', '51', '61', '48', '67', '80', '14', '69', 'RASPENTINO', 'RM', '76', '69', '65', '72', '29', '57', '15', '68', 'PINO', 'CAM', '86', '63', '62', '74', '29', '57', '16', '68', 'NGANDO', 'CAM', '73', '64', '64', '72', '35', '43', '17', '67', 'CAHUZAC', 'CDM', '67', '45', '58', '47', '67', '74', '18', '59', 'FOFANA', 'CM', '66', '56', '55', '57', '57', '66', '19', '59', 'VINCENT', 'CM', '53', '38', '59', '57', '50', '59', '20', '73', 'SQUILLACI', 'CB', '46', '33', '51', '55', '75', '61', '21', '72', 'MODESTO', 'CB', '55', '51', '59', '55', '72', '71', '22', '72', 'DIAKITÉ', 'RB', '76', '40', '62', '62', '72', '75', '23', '68', 'PALMIERI', 'LB', '80', '60', '70', '73', '63', '65', '24', '70', 'PEYBERNÈS', 'CB', '53', '32', '48', '50', '72', '71', '25', '67', 'JEBBOUR', 'RB', '77', '59', '65', '63', '63', '70', '26', '66', 'CIONI', 'RB', '64', '25', '58', '57', '66', '67', '27', '72', 'ARÉOLA', 'GK', '75', '69', '68', '73', '54', '70', '28', '67', 'LECA', 'GK', '62', '71', '59', '72', '38', '69', '29', '67', 'HANSEN', 'GK', '67', '61', '68', '72', '36', '69', '30', '56', 'VINCENSINI', 'GK', '58', '47', '53', '66', '54', '54', '0', '71', 'BEKAMENGA', 'ST', '75', '71', '58', '66', '31', '72', '1', '70', 'TOUZGHAR', 'ST', '76', '68', '49', '72', '29', '63', '2', '69', 'AUTRET', 'LW', '75', '64', '68', '72', '41', '52', '3', '69', 'COULIBALY', 'ST', '65', '71', '55', '65', '36', '74', '4', '68', 'NOMENJANAHARY', 'LW', '84', '44', '61', '69', '57', '60', '5', '58', 'GUILLAUME', 'ST', '50', '60', '38', '55', '29', '54', '6', '71', 'CHAVARRÍA', 'RM', '87', '68', '66', '71', '34', '74', '7', '69', 'JADEYAOUI', 'LM', '84', '50', '65', '73', '26', '54', '8', '67', 'VALDIVIA', 'CM', '64', '67', '65', '63', '66', '73', '9', '66', 'CYPRIEN', 'CM', '81', '51', '63', '70', '58', '55', '10', '65', 'LE MOIGNE', 'CDM', '51', '59', '68', '63', '51', '74', '11', '63', 'BOULENGER', 'LM', '67', '42', '60', '64', '47', '69', '12', '62', \"N'DIAYE\", 'LM', '84', '58', '58', '62', '30', '62', '13', '62', 'BOURIGEAUD', 'CM', '64', '44', '61', '61', '49', '59', '14', '61', 'OLSEN', 'CM', '65', '42', '61', '65', '32', '63', '15', '60', 'BAOUIA', 'RM', '71', '42', '59', '62', '42', '50', '16', '72', 'KANTARI', 'CB', '53', '34', '51', '53', '74', '73', '17', '69', 'YAHIA', 'CB', '48', '45', '54', '48', '67', '71', '18', '68', 'BAAL', 'LB', '79', '48', '64', '63', '64', '76', '19', '68', 'LANDRE', 'CB', '67', '33', '49', '53', '68', '72', '20', '65', 'GBAMIN', 'RB', '74', '29', '52', '62', '63', '63', '21', '64', 'LALA', 'RB', '70', '38', '51', '56', '62', '71', '22', '64', 'CVETINOVIC', 'CB', '64', '45', '52', '56', '63', '70', '23', '63', 'IKOKO', 'RB', '85', '33', '53', '59', '61', '67', '24', '63', 'BA', 'CB', '66', '31', '40', '42', '62', '73', '25', '61', 'TOURÉ', 'RB', '68', '27', '50', '48', '60', '74', '26', '61', 'CAVARÉ', 'RB', '56', '36', '47', '55', '62', '79', '27', '60', 'FRADJ', 'RB', '61', '28', '45', '48', '60', '64', '28', '58', 'BESLE', 'CB', '53', '46', '45', '49', '56', '68', '29', '69', 'DELLE', 'GK', '71', '69', '65', '74', '52', '65', '30', '68', 'RIOU', 'GK', '67', '68', '61', '71', '40', '70', '31', '58', 'BELON', 'GK', '67', '57', '51', '61', '49', '48']\n",
      "   Unnamed: 0    0      1      2        3    4       5         6       7  \\\n",
      "0           0  NaN      0      1        2    3       4         5       6   \n",
      "1           1  0.0     74     73       73   72      71        70      68   \n",
      "2           2  1.0  CISSÉ  AYITÉ  BRANDÃO  SIO  DIALLO  MABOULOU  MOKULU   \n",
      "3           3  2.0     ST     LW       ST   ST      ST        LW      ST   \n",
      "4           4  3.0     80     83       53   91      78        76      75   \n",
      "5           5  4.0     74     69       76   69      70        70      62   \n",
      "6           6  5.0     63     64       68   70      69        67      62   \n",
      "7           7  6.0     69     76       62   75      74        71      72   \n",
      "8           8  7.0     30     27       43   29      42        34      31   \n",
      "9           9  8.0     75     54       76   70      68        64      79   \n",
      "\n",
      "       8     ...           22       23        24         25       26     27  \\\n",
      "0      7     ...           21       22        23         24       25     26   \n",
      "1     68     ...           72       72        68         70       67     66   \n",
      "2  TALLO     ...      MODESTO  DIAKITÉ  PALMIERI  PEYBERNÈS  JEBBOUR  CIONI   \n",
      "3     ST     ...           CB       RB        LB         CB       RB     RB   \n",
      "4     69     ...           55       76        80         53       77     64   \n",
      "5     68     ...           51       40        60         32       59     25   \n",
      "6     60     ...           59       62        70         48       65     58   \n",
      "7     67     ...           55       62        73         50       63     57   \n",
      "8     27     ...           72       72        63         72       63     66   \n",
      "9     66     ...           71       75        65         71       70     67   \n",
      "\n",
      "       28    29      30          31  \n",
      "0      27    28      29          30  \n",
      "1      72    67      67          56  \n",
      "2  ARÉOLA  LECA  HANSEN  VINCENSINI  \n",
      "3      GK    GK      GK          GK  \n",
      "4      75    62      67          58  \n",
      "5      69    71      61          47  \n",
      "6      68    59      68          53  \n",
      "7      73    72      72          66  \n",
      "8      54    38      36          54  \n",
      "9      70    69      69          54  \n",
      "\n",
      "[10 rows x 33 columns]\n"
     ]
    }
   ],
   "source": [
    "\n",
    "print(a)\n",
    "print(equipedom)"
   ]
  },
  {
   "cell_type": "code",
   "execution_count": 98,
   "metadata": {
    "collapsed": false
   },
   "outputs": [
    {
     "data": {
      "text/plain": [
       "33"
      ]
     },
     "execution_count": 98,
     "metadata": {},
     "output_type": "execute_result"
    }
   ],
   "source": [
    "dff=equipedom\n",
    "dff=dff.transpose()\n",
    "int(len(dff[dff.columns[1]]))"
   ]
  },
  {
   "cell_type": "code",
   "execution_count": 41,
   "metadata": {
    "collapsed": false
   },
   "outputs": [
    {
     "name": "stdout",
     "output_type": "stream",
     "text": [
      "Bordeaux\n",
      "Lille\n",
      "1\n",
      "0\n"
     ]
    }
   ],
   "source": [
    "print()\n",
    "print()\n",
    "print(vraidonnées[match][4])\n",
    "print(vraidonnées[match][5])"
   ]
  },
  {
   "cell_type": "code",
   "execution_count": 100,
   "metadata": {
    "collapsed": false
   },
   "outputs": [
    {
     "name": "stdout",
     "output_type": "stream",
     "text": [
      "2\n",
      "3\n",
      "4\n",
      "5\n",
      "6\n",
      "7\n",
      "8\n",
      "9\n",
      "10\n"
     ]
    }
   ],
   "source": [
    "for i in range(2,11):\n",
    "    print(i)"
   ]
  },
  {
   "cell_type": "code",
   "execution_count": null,
   "metadata": {
    "collapsed": true
   },
   "outputs": [],
   "source": []
  }
 ],
 "metadata": {
  "anaconda-cloud": {},
  "kernelspec": {
   "display_name": "Python [Root]",
   "language": "python",
   "name": "Python [Root]"
  },
  "language_info": {
   "codemirror_mode": {
    "name": "ipython",
    "version": 3
   },
   "file_extension": ".py",
   "mimetype": "text/x-python",
   "name": "python",
   "nbconvert_exporter": "python",
   "pygments_lexer": "ipython3",
   "version": "3.5.2"
  }
 },
 "nbformat": 4,
 "nbformat_minor": 0
}
