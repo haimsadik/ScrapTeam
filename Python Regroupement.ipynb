{
 "cells": [
  {
   "cell_type": "code",
   "execution_count": 2,
   "metadata": {
    "collapsed": true
   },
   "outputs": [],
   "source": [
    "#On télecharge les packages dont on va avoir besoin\n",
    "import selenium #pip install selenium\n",
    "from selenium import webdriver\n",
    "from selenium.webdriver.common.keys import Keys\n",
    "from selenium.webdriver.common.by import By  \n",
    "import time\n",
    "#BeautifulSoup , Request et Pandas\n",
    "import urllib\n",
    "import bs4\n",
    "from urllib import request\n",
    "import pandas \n",
    "#pour les graphiques\n",
    "#%matplotlib inline\n",
    "import matplotlib.pyplot as plt\n",
    "import numpy as np\n",
    "import pandas as pd\n",
    "import collections\n",
    "import time\n",
    "from selenium.webdriver.support.ui import Select\n",
    "import csv"
   ]
  },
  {
   "cell_type": "code",
   "execution_count": 188,
   "metadata": {
    "collapsed": false
   },
   "outputs": [
    {
     "name": "stdout",
     "output_type": "stream",
     "text": [
      "['Bordeaux', 'Caen', 'Willy Sagnol', 'Patrice Garande', '1', '1', '1', '0', '6.54', '6.65', '12', '11', '53.6', '46.4', 'compodom', '6.3', 'Carrasso', '6.9', 'Mariano', '6.9', 'Faubert', '7.1', 'Pallois', '6.0', 'Poundjé', '6.2', 'Rolan', '6.6', 'Plasil', '6.6', 'Sertic', '6.5', 'Poko', '7.0', 'Maurice-Belay', '7.1', 'Diabaté', 'compoext', '6.1', 'Vercoutre', '6.2', 'Calvé', '6.2', 'Silva', '6.5', 'Musavu-King', '6.5', 'Imorou', '6.7', 'Adeoti', '7.1', 'Nangis', '7.1', 'Féret', '7.7', 'Kanté', '6.5', 'Koita', '6.4', 'Duhamel', 'Missdom', 'Henri Saivet', '6.4', 'Lamine Sané', '7.14', 'Tiago Ilori', '7.04', 'Thomas Touré', '6.76', 'Missext', 'Alaeddine Yahia', '6.66']\n",
      "['Bordeaux', 'Caen', 'Willy Sagnol', 'Patrice Garande', '1', '1', '1', '0', '6.54', '6.65', '12', '11', '53.6', '46.4', 'compodom', '6.3', 'Carrasso', '6.9', 'Mariano', '6.9', 'Faubert', '7.1', 'Pallois', '6.0', 'Poundjé', '6.2', 'Rolan', '6.6', 'Plasil', '6.6', 'Sertic', '6.5', 'Poko', '7.0', 'Maurice-Belay', '7.1', 'Diabaté', 'compoext', '6.1', 'Vercoutre', '6.2', 'Calvé', '6.2', 'Silva', '6.5', 'Musavu-King', '6.5', 'Imorou', '6.7', 'Adeoti', '7.1', 'Nangis', '7.1', 'Féret', '7.7', 'Kanté', '6.5', 'Koita', '6.4', 'Duhamel', 'Missdom', 'Henri Saivet 6.4', 'Théo Pellenard N/A', 'Jussiê N/A', 'Lamine Sané 7.14', 'Tiago Ilori 7.04', 'Thomas Touré 6.76', 'Missext', 'Alaeddine Yahia 6.66', '50', '17', '0', '1', '60', '20', '2', '0']\n",
      "['Bordeaux', 'Evian', 'Willy Sagnol', 'Pascal Dupraz', '2', '1', '1', '0', '6.93', '6.37', '7', '8', '54.9', '45.1', 'compodom', '6.1', 'Carrasso', '7.4', 'Mariano', '8.0', 'Sané', '7.3', 'Pallois', '6.6', 'Contento', '7.3', 'Rolan', '7.2', 'Plasil', '6.9', 'Sertic', '7.5', 'Khazri', '7.5', 'Maurice-Belay', '7.0', 'Diabaté', 'compoext', '5.7', 'Hansen', '6.4', 'Abdallah', '6.7', 'Mongongu', '6.6', 'Mensah', '6.2', 'Sabaly', '7.2', 'Tejeda', '6.5', 'Sorlin', '6.5', 'Camus', '5.9', \"N'Sikulu\", '5.9', 'Benezet', '6.4', 'Bruno', 'Missdom', 'Henri Saivet', '6.4', 'Abdou Traoré', '6.36', 'Missext', 'Aldo Angoula', '6.65']\n",
      "['Bordeaux', 'Evian', 'Willy Sagnol', 'Pascal Dupraz', '2', '1', '1', '0', '6.93', '6.37', '7', '8', '54.9', '45.1', 'compodom', '6.1', 'Carrasso', '7.4', 'Mariano', '8.0', 'Sané', '7.3', 'Pallois', '6.6', 'Contento', '7.3', 'Rolan', '7.2', 'Plasil', '6.9', 'Sertic', '7.5', 'Khazri', '7.5', 'Maurice-Belay', '7.0', 'Diabaté', 'compoext', '5.7', 'Hansen', '6.4', 'Abdallah', '6.7', 'Mongongu', '6.6', 'Mensah', '6.2', 'Sabaly', '7.2', 'Tejeda', '6.5', 'Sorlin', '6.5', 'Camus', '5.9', \"N'Sikulu\", '5.9', 'Benezet', '6.4', 'Bruno', 'Missdom', 'Henri Saivet 6.4', 'Théo Pellenard N/A', 'Jussiê N/A', 'Abdou Traoré 6.36', 'Missext', 'Aldo Angoula 6.65', '67', '33', '1', '2', '75', '25', '2', '1']\n",
      "['Bordeaux', 'Guingamp', 'Willy Sagnol', 'Jocelyn Gourvennec', '1', '1', '0', '1', '6.75', '6.71', '14', '9', '65.7', '34.3', 'compodom', '7.2', 'Carrasso', '6.9', 'Mariano', '7.3', 'Ilori', '7.0', 'Pallois', '7.4', 'Poundjé', '6.6', 'Plasil', '6.5', 'Yambéré', '7.5', 'Chantôme', '6.0', 'Rolan', '6.5', 'Thelin', '6.9', 'Touré', 'compoext', '6.3', 'Lössl', '6.8', 'Jacobsen', '6.5', 'Sorbon', '7.4', 'Angoua', '7.0', 'Lévêque', '7.6', 'Pied', '6.7', 'Giresse', '7.4', 'Diallo', '5.9', 'Coco', '6.2', 'Mandanne', '7.3', 'Beauvue', 'Missdom', 'Cheick Diabaté', '6.96', 'Grégory Sertic', '6.84', 'Wahbi Khazri', '6.99', 'Missext', 'Julien Cardy', '5.98', 'Ronnie Schwartz', '6.3', 'Younousse Sankharé', '6.77', 'Baissama Sankoh', '6.76', 'Ladislas Douniama', '6.1']\n",
      "['Bordeaux', 'Guingamp', 'Willy Sagnol', 'Jocelyn Gourvennec', '1', '1', '0', '1', '6.75', '6.71', '14', '9', '65.7', '34.3', 'compodom', '7.2', 'Carrasso', '6.9', 'Mariano', '7.3', 'Ilori', '7.0', 'Pallois', '7.4', 'Poundjé', '6.6', 'Plasil', '6.5', 'Yambéré', '7.5', 'Chantôme', '6.0', 'Rolan', '6.5', 'Thelin', '6.9', 'Touré', 'compoext', '6.3', 'Lössl', '6.8', 'Jacobsen', '6.5', 'Sorbon', '7.4', 'Angoua', '7.0', 'Lévêque', '7.6', 'Pied', '6.7', 'Giresse', '7.4', 'Diallo', '5.9', 'Coco', '6.2', 'Mandanne', '7.3', 'Beauvue', 'Missdom', 'Cheick Diabaté 6.96', 'Théo Pellenard N/A', 'Jussiê N/A', 'Grégory Sertic 6.84', 'Wahbi Khazri 6.99', 'Missext', 'Julien Cardy 5.98', 'Ronnie Schwartz 6.3', 'Younousse Sankharé 6.77', 'Baissama Sankoh 6.76', 'Ladislas Douniama 6.1', '83', '0', '1', '2', '100', '0', '5', '1']\n",
      "['Bordeaux', 'Lens', 'Willy Sagnol', 'Antoine Kombouaré', '2', '1', '0', '0', '6.89', '6.61', '17', '9', '61.5', '38.5', 'compodom', '6.2', 'Carrasso', '7.8', 'Mariano', '6.8', 'Yambéré', '7.1', 'Ilori', '7.8', 'Contento', '6.8', 'Sertic', '7.0', 'Poko', '6.5', 'Traoré', '6.6', 'Saivet', '7.3', 'Thelin', '7.0', 'Rolan', 'compoext', '6.8', 'Riou', '6.8', 'Gbamin', '6.9', 'Landre', '7.6', 'Kantari', '5.8', 'Baal', '7.1', 'Valdivia', '6.7', 'Moigne', '6.6', 'Jadeyaoui', '7.4', 'Chavarria', '6.2', 'Coulibaly', '6.7', 'Guillaume', 'Missdom', 'Cheick Diabaté', '6.96', 'Marc Planus', '6.9', 'Lamine Sané', '7.14', 'Clément Chantôme', '7.04', 'Jaroslav Plasil', '6.87', 'Wahbi Khazri', '6.99', 'Missext', 'Dimitri Kevin Cavare', '6.56', \"Deme N'Diaye\", '6.55', 'Benjamin Bourigeaud', '6.66', 'Yoann Touzghar', '6.41']\n",
      "['Bordeaux', 'Lens', 'Willy Sagnol', 'Antoine Kombouaré', '2', '1', '0', '0', '6.89', '6.61', '17', '9', '61.5', '38.5', 'compodom', '6.2', 'Carrasso', '7.8', 'Mariano', '6.8', 'Yambéré', '7.1', 'Ilori', '7.8', 'Contento', '6.8', 'Sertic', '7.0', 'Poko', '6.5', 'Traoré', '6.6', 'Saivet', '7.3', 'Thelin', '7.0', 'Rolan', 'compoext', '6.8', 'Riou', '6.8', 'Gbamin', '6.9', 'Landre', '7.6', 'Kantari', '5.8', 'Baal', '7.1', 'Valdivia', '6.7', 'Moigne', '6.6', 'Jadeyaoui', '7.4', 'Chavarria', '6.2', 'Coulibaly', '6.7', 'Guillaume', 'Missdom', 'Cheick Diabaté 6.96', 'Marc Planus 6.9', 'Lamine Sané 7.14', 'Clément Chantôme 7.04', 'Jaroslav Plasil 6.87', 'Wahbi Khazri 6.99', 'Missext', 'Dimitri Kevin Cavare 6.56', \"Deme N'Diaye 6.55\", 'Benjamin Bourigeaud 6.66', 'Yoann Touzghar 6.41', '50', '17', '2', '1', '67', '33', '2', '2']\n",
      "['Bordeaux', 'Lille', 'Willy Sagnol', 'René Girard', '1', '0', '0', '0', '7.06', '6.47', '13', '7', '52', '48', 'compodom', '7.1', 'Carrasso', '7.3', 'Mariano', '7.8', 'Sané', '8.1', 'Pallois', '7.5', 'Contento', '7.0', 'Plasil', '6.8', 'Traoré', '6.9', 'Rolan', '7.4', 'Maurice-Belay', '7.4', 'Touré', '7.3', 'Diabaté', 'compoext', '6.7', 'Enyeama', '6.6', 'Soumaoro', '7.4', 'Kjaer', '7.0', 'Basa', '6.9', 'Sidibe', '6.2', 'Mavuba', '6.3', 'Delaplace', '6.7', 'Gueye', '6.1', 'Martin', '6.0', 'Origi', '6.2', 'Roux', 'Missdom', 'Julien Faubert', '6.74', 'Missext', 'Rony Lopes', '6.62', 'Pape Souaré', '6.79', 'Franck Beria', '6.91', 'Sébastien Corchia', '6.86']\n",
      "['Bordeaux', 'Lille', 'Willy Sagnol', 'René Girard', '1', '0', '0', '0', '7.06', '6.47', '13', '7', '52', '48', 'compodom', '7.1', 'Carrasso', '7.3', 'Mariano', '7.8', 'Sané', '8.1', 'Pallois', '7.5', 'Contento', '7.0', 'Plasil', '6.8', 'Traoré', '6.9', 'Rolan', '7.4', 'Maurice-Belay', '7.4', 'Touré', '7.3', 'Diabaté', 'compoext', '6.7', 'Enyeama', '6.6', 'Soumaoro', '7.4', 'Kjaer', '7.0', 'Basa', '6.9', 'Sidibe', '6.2', 'Mavuba', '6.3', 'Delaplace', '6.7', 'Gueye', '6.1', 'Martin', '6.0', 'Origi', '6.2', 'Roux', 'Missdom', 'Théo Pellenard N/A', 'Jussiê N/A', 'Julien Faubert 6.74', 'Missext', 'Rony Lopes 6.62', 'Pape Souaré 6.79', 'Franck Beria 6.91', 'Sébastien Corchia 6.86', '33', '33', '1', '2', '33', '67', '1', '0']\n"
     ]
    }
   ],
   "source": [
    "def isFloat2(num):\n",
    "    try:\n",
    "        float(str(num))\n",
    "        return True\n",
    "    except ValueError:\n",
    "        return False\n",
    "#print the column names\n",
    "listematch=[]\n",
    "xlist=collections.defaultdict(list)\n",
    "vraidonnées=collections.defaultdict(list)\n",
    "correspclub=collections.defaultdict(list)\n",
    "\n",
    "\n",
    "referencedonnees=['France 1415']\n",
    "\n",
    "nombrecorrespondance=1\n",
    "\n",
    "correspclub['France 1415']=['Classement','WhoScored',\n",
    "'Olympique Lyonnais','Lyon',\n",
    "'Lille OSC','Lille',\n",
    "'FC Metz','Metz',\n",
    "'Girondins de Bordeaux','Bordeaux',\n",
    "'FC Nantes Atlantique','Nantes',\n",
    "'OGC Nice','Nice',\n",
    "'Olympique de Marseille','Marseille',\n",
    "'Montpellier Herault SC','Montpellier',\n",
    "'Paris SG','PSG',\n",
    "'Toulouse FC','Toulouse',\n",
    "'AS Saint-Etienne','Saint-Etienne',\n",
    "'Stade Rennais','Rennes',\n",
    "'Evian Thonon Gaillard','Evian',\n",
    "'Reims','Reims',\n",
    "'Bastia SC','SC Bastia',\n",
    "'Lorient','Lorient',\n",
    "'Lens','Lens',\n",
    "'AS Monaco','Monaco',\n",
    "'En Avant Guingamp','Guingamp',\n",
    "'SM Caen','Caen']\n",
    "\n",
    "\n",
    "for ref in referencedonnees:\n",
    "    dff = pandas.read_excel('/Users/Martin/Documents/ENSAE/Scrape/Résultat scraping/WhoScored/'+str(ref)+'.xls',header=None)\n",
    "    \n",
    "    #Pas obligé\n",
    "    length=len(dff[0])\n",
    "    for jj in range(5):#for j in range(length)\n",
    "        match=dff[0][jj]\n",
    "        \n",
    "    #Plutot ca : \n",
    "    #for match in dff[0]:#for match in dff:\n",
    "        if 'liste' not in match:\n",
    "            listematch.append(match)\n",
    "            x=pandas.read_csv('/Users/Martin/Documents/ENSAE/Scrape/Résultat scraping/WhoScored/'+str(ref)+'/'+str(match))\n",
    "            x=x[x.columns[1]]\n",
    "            xlist[match]=list(x)\n",
    "            #Je rentre les données jusqu'a Missdom\n",
    "            for i in range(61):\n",
    "                vraidonnées[match].append(xlist[match][i])\n",
    "                \n",
    "            vraidonnées[match].append('Finbasique') \n",
    "            ### CHERCHER A QUELLE JOURNEE ON SE TROUVE ###\n",
    "            \n",
    "                \n",
    "                \n",
    "            ########  INCORPORATION CLASSEMENT  ########\n",
    "        \n",
    "        \n",
    "        \n",
    "        \n",
    "            ########      MISSDOM MISSEXT       ########\n",
    "            \n",
    "            #Remplis les manquants (jusqu'a la fin donc)\n",
    "            for ii in range(61,len(xlist[match])):\n",
    "                if not xlist[match][ii].isdigit():\n",
    "                    if xlist[match][ii] is not 'BUG':\n",
    "                        bbb=xlist[match][ii]\n",
    "                        bbb=bbb.split(' ')\n",
    "                        if len(bbb)==1:\n",
    "                            vraidonnées[match].append('Missext')\n",
    "                        else:    \n",
    "                            b1=' '.join(bbb[:-1])\n",
    "                            b2=bbb[len(bbb)-1]\n",
    "                            if isFloat2(b2) is True:\n",
    "                                vraidonnées[match].append(b1)\n",
    "                                vraidonnées[match].append(b2)\n",
    "            vraidonnées[match].append('Finmanquants') \n",
    "            \n",
    "                                \n",
    "                                \n",
    "                                \n",
    "                \n",
    "for i in listematch:\n",
    "    print(vraidonnées[i])\n",
    "    print(xlist[i])\n"
   ]
  },
  {
   "cell_type": "code",
   "execution_count": 185,
   "metadata": {
    "collapsed": false
   },
   "outputs": [
    {
     "data": {
      "text/plain": [
       "True"
      ]
     },
     "execution_count": 185,
     "metadata": {},
     "output_type": "execute_result"
    }
   ],
   "source": [
    "def isFloat2(num):\n",
    "    try:\n",
    "        float(str(num))\n",
    "        return True\n",
    "    except ValueError:\n",
    "        return False\n",
    "b2='6.2'\n",
    "isFloat2(b2)"
   ]
  },
  {
   "cell_type": "code",
   "execution_count": 184,
   "metadata": {
    "collapsed": false
   },
   "outputs": [
    {
     "ename": "ValueError",
     "evalue": "could not convert string to float: '6t'",
     "output_type": "error",
     "traceback": [
      "\u001b[0;31m---------------------------------------------------------------------------\u001b[0m",
      "\u001b[0;31mValueError\u001b[0m                                Traceback (most recent call last)",
      "\u001b[0;32m<ipython-input-184-0836f4bce58a>\u001b[0m in \u001b[0;36m<module>\u001b[0;34m()\u001b[0m\n\u001b[1;32m      1\u001b[0m \u001b[0mb\u001b[0m\u001b[0;34m=\u001b[0m\u001b[0;34m'6t'\u001b[0m\u001b[0;34m\u001b[0m\u001b[0m\n\u001b[0;32m----> 2\u001b[0;31m \u001b[0mfloat\u001b[0m\u001b[0;34m(\u001b[0m\u001b[0mb\u001b[0m\u001b[0;34m)\u001b[0m\u001b[0;34m\u001b[0m\u001b[0m\n\u001b[0m",
      "\u001b[0;31mValueError\u001b[0m: could not convert string to float: '6t'"
     ]
    }
   ],
   "source": [
    "b='6t'\n",
    "float(b)"
   ]
  },
  {
   "cell_type": "code",
   "execution_count": 192,
   "metadata": {
    "collapsed": false
   },
   "outputs": [
    {
     "data": {
      "text/plain": [
       "['a', 'b', 'r', 'rr']"
      ]
     },
     "execution_count": 192,
     "metadata": {},
     "output_type": "execute_result"
    }
   ],
   "source": [
    "a=['a','b',\n",
    "  'r','rr']\n",
    "a"
   ]
  },
  {
   "cell_type": "code",
   "execution_count": 152,
   "metadata": {
    "collapsed": false
   },
   "outputs": [
    {
     "name": "stdout",
     "output_type": "stream",
     "text": [
      "2\n",
      "1\n",
      "['fr']\n"
     ]
    }
   ],
   "source": [
    "b=[]\n",
    "a='fr'\n",
    "print(len(a))\n",
    "a=a.split(' ')\n",
    "print(len(a))\n",
    "print(a)\n",
    "        "
   ]
  },
  {
   "cell_type": "code",
   "execution_count": null,
   "metadata": {
    "collapsed": true
   },
   "outputs": [],
   "source": []
  }
 ],
 "metadata": {
  "anaconda-cloud": {},
  "kernelspec": {
   "display_name": "Python [Root]",
   "language": "python",
   "name": "Python [Root]"
  },
  "language_info": {
   "codemirror_mode": {
    "name": "ipython",
    "version": 3
   },
   "file_extension": ".py",
   "mimetype": "text/x-python",
   "name": "python",
   "nbconvert_exporter": "python",
   "pygments_lexer": "ipython3",
   "version": "3.5.2"
  }
 },
 "nbformat": 4,
 "nbformat_minor": 0
}
